{
 "cells": [
  {
   "cell_type": "code",
   "execution_count": 14,
   "metadata": {},
   "outputs": [],
   "source": [
    "import pandas as pd\n"
   ]
  },
  {
   "cell_type": "code",
   "execution_count": 20,
   "metadata": {},
   "outputs": [
    {
     "name": "stdout",
     "output_type": "stream",
     "text": [
      "Anbn_train 0\n",
      "Anbn_test1 0\n",
      "Anbn_test2 0\n",
      "Anbn_test3 0\n",
      "Anbn_test4 0\n"
     ]
    }
   ],
   "source": [
    "from anbn import *\n",
    "name = \"Anbn\"\n",
    "obj = anbn\n",
    "file_name = list(map(lambda x: name + x, [\"_train\", \"_test1\", \"_test2\", \"_test3\", \"_test4\"]))\n",
    "length = [32, 32, 64, 128, 256]\n",
    "count = 0\n",
    "\n",
    "for file, l in zip(file_name, length):\n",
    "    data = pd.read_csv(file, header=None, index_col=None)\n",
    "    feature = data[0].values.tolist()\n",
    "    label = data[1].values.tolist()\n",
    "    for f, lab in zip(feature, label):\n",
    "        rlabel, _ = obj.accept(f[1: f.find(\"e\")])\n",
    "        rlabel = \"0\" + rlabel + rlabel[-1] * (l - len(rlabel) - 1)\n",
    "        if rlabel != lab:\n",
    "            count += 1\n",
    "    print(file, count)"
   ]
  },
  {
   "cell_type": "code",
   "execution_count": 18,
   "metadata": {},
   "outputs": [],
   "source": [
    "from Anbncn import *\n",
    "name = \"Anbncn\"\n",
    "obj = anbncn\n",
    "file_name = list(map(lambda x: name + x, [\"_train\", \"_test1\", \"_test2\", \"_test3\", \"_test4\"]))\n",
    "length = [32, 32, 64, 128, 256]\n",
    "count = 0\n",
    "\n",
    "for file, l in zip(file_name, length):\n",
    "    data = pd.read_csv(file, header=None, index_col=None)\n",
    "    feature = data[0].values.tolist()\n",
    "    label = data[1].values.tolist()\n",
    "    for f, lab in zip(feature, label):\n",
    "        rlabel, _ = obj.accept(f[1: f.find(\"e\")])\n",
    "        rlabel = \"0\" + rlabel + rlabel[-1] * (l - len(rlabel) - 1)\n",
    "        if rlabel != lab:\n",
    "            count += 1\n",
    "    print(file, count)"
   ]
  },
  {
   "cell_type": "code",
   "execution_count": null,
   "metadata": {},
   "outputs": [],
   "source": [
    "from Dyck1 import *\n",
    "name = \"Dyck1\"\n",
    "obj = d1\n",
    "file_name = list(map(lambda x: name + x, [\"_train\", \"_test1\", \"_test2\", \"_test3\", \"_test4\"]))\n",
    "length = [32, 32, 256, 256, 512]\n",
    "count = 0\n",
    "\n",
    "for file, l in zip(file_name, length):\n",
    "    data = pd.read_csv(file, header=None, index_col=None)\n",
    "    feature = data[0].values.tolist()\n",
    "    label = data[1].values.tolist()\n",
    "    for f, lab in zip(feature, label):\n",
    "        rlabel, _ = obj.accept(f[1: f.find(\"e\")])\n",
    "        rlabel = \"0\" + rlabel + rlabel[-1] * (l - len(rlabel) - 1)\n",
    "        if rlabel != lab:\n",
    "            count += 1\n",
    "    print(file, count)"
   ]
  }
 ],
 "metadata": {
  "kernelspec": {
   "display_name": "Python 3",
   "language": "python",
   "name": "python3"
  },
  "language_info": {
   "codemirror_mode": {
    "name": "ipython",
    "version": 3
   },
   "file_extension": ".py",
   "mimetype": "text/x-python",
   "name": "python",
   "nbconvert_exporter": "python",
   "pygments_lexer": "ipython3",
   "version": "3.7.1"
  }
 },
 "nbformat": 4,
 "nbformat_minor": 2
}
