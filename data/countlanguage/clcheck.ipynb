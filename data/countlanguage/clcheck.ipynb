{
 "cells": [
  {
   "cell_type": "code",
   "execution_count": 14,
   "metadata": {
    "collapsed": true
   },
   "outputs": [],
   "source": [
    "import pandas as pd\n"
   ]
  },
  {
   "cell_type": "markdown",
   "metadata": {},
   "source": [
    "# 检测正确性，长度以及深度"
   ]
  },
  {
   "cell_type": "code",
   "execution_count": 4,
   "metadata": {},
   "outputs": [
    {
     "name": "stdout",
     "output_type": "stream",
     "text": [
      "Anbn 11925 8969 3439 1098\n",
      "Anbn_train 0 0\n",
      "Anbn_test1 0 0\n",
      "Anbn_test2 0 0\n",
      "Anbn_test3 0 0\n",
      "Anbn_test4 0 0\n"
     ]
    }
   ],
   "source": [
    "from anbn import *\n",
    "name = \"Anbn\"\n",
    "obj = anbn\n",
    "file_name = list(map(lambda x: name + x, [\"_train\", \"_test1\", \"_test2\", \"_test3\", \"_test4\"]))\n",
    "length = [(0,32), (0, 32), (32, 64), (64, 128), (128, 256)]\n",
    "count = 0\n",
    "lenw_count = 0\n",
    "\n",
    "for file, l in zip(file_name, length):\n",
    "    data = pd.read_csv(file, header=None, index_col=None)\n",
    "    feature = data[0].values.tolist()\n",
    "    label = data[1].values.tolist()\n",
    "    for f, lab in zip(feature, label):\n",
    "        lenf = f.find(\"e\") + 1\n",
    "        if lenf <= l[0] or lenf > l[1]:\n",
    "            lenw_count += 1\n",
    "        rlabel, _ = obj.accept(f[1: f.find(\"e\")])\n",
    "        rlabel = \"0\" + rlabel + rlabel[-1] * (l[1] - len(rlabel) - 1)\n",
    "        if rlabel != lab:\n",
    "            count += 1\n",
    "    print(file, count, lenw_count)"
   ]
  },
  {
   "cell_type": "code",
   "execution_count": 6,
   "metadata": {},
   "outputs": [
    {
     "name": "stdout",
     "output_type": "stream",
     "text": [
      "Anbncn_train 0 0\n",
      "Anbncn_test1 0 0\n",
      "Anbncn_test2 0 0\n",
      "Anbncn_test3 0 0\n",
      "Anbncn_test4 0 0\n"
     ]
    }
   ],
   "source": [
    "from Anbncn import *\n",
    "name = \"Anbncn\"\n",
    "obj = anbncn\n",
    "file_name = list(map(lambda x: name + x, [\"_train\", \"_test1\", \"_test2\", \"_test3\", \"_test4\"]))\n",
    "length = [(0,32), (0, 32), (32, 64), (64, 128), (128, 256)]\n",
    "count = 0\n",
    "lenw_count = 0\n",
    "\n",
    "for file, l in zip(file_name, length):\n",
    "    data = pd.read_csv(file, header=None, index_col=None)\n",
    "    feature = data[0].values.tolist()\n",
    "    label = data[1].values.tolist()\n",
    "    for f, lab in zip(feature, label):\n",
    "        lenf = f.find(\"e\") + 1\n",
    "        if lenf <= l[0] or lenf > l[1]:\n",
    "            lenw_count += 1\n",
    "        rlabel, _ = obj.accept(f[1: f.find(\"e\")])\n",
    "        rlabel = \"0\" + rlabel + rlabel[-1] * (l[1] - len(rlabel) - 1)\n",
    "        if rlabel != lab:\n",
    "            count += 1\n",
    "    print(file, count, lenw_count)"
   ]
  },
  {
   "cell_type": "code",
   "execution_count": 11,
   "metadata": {},
   "outputs": [
    {
     "name": "stdout",
     "output_type": "stream",
     "text": [
      "Dyck1_train 0 0\n",
      "Dyck1_test1 0 0\n",
      "Dyck1_test2 0 0\n",
      "Dyck1_test3 0 0\n",
      "Dyck1_test4 0 0\n"
     ]
    }
   ],
   "source": [
    "length = [(0,32), (0, 32), (32, 256), (32, 256), (256, 512)]\n",
    "depth = [(0, 8), (8, 16), (16, 32), (32, 10000)]\n",
    "from Dyck1 import *\n",
    "name = \"Dyck1\"\n",
    "obj = d1\n",
    "file_name = list(map(lambda x: name + x, [\"_train\", \"_test1\", \"_test2\", \"_test3\", \"_test4\"]))\n",
    "count = 0\n",
    "deplenw_count = 0\n",
    "for file, l in zip(file_name, length):\n",
    "    data = pd.read_csv(file, header=None, index_col=None)\n",
    "    feature = data[0].values.tolist()\n",
    "    label = data[1].values.tolist()\n",
    "    for f, lab, dep in zip(feature, label, depth):\n",
    "        rlabel, _, fdep = obj.accept(f[1: f.find(\"e\")])\n",
    "        if fdep <= dep[0] or fdep > dep[1] or (len(rlabel) + 2) > l[1]:\n",
    "            deplenw_count += 1\n",
    "        rlabel = \"0\" + rlabel + rlabel[-1] * (l[1] - len(rlabel) - 1)\n",
    "        if rlabel != lab:\n",
    "            count += 1\n",
    "    print(file, count, lenw_count)"
   ]
  },
  {
   "cell_type": "markdown",
   "metadata": {},
   "source": [
    "# 检测测试集1不出现在训练集"
   ]
  },
  {
   "cell_type": "code",
   "execution_count": 12,
   "metadata": {
    "collapsed": true
   },
   "outputs": [],
   "source": [
    "from Dyck1 import *\n",
    "name = \"Dyck1\"\n",
    "obj = d1\n",
    "trainfile = name + \"_train\"\n",
    "test1file = name + \"_test1\"\n",
    "count = 0"
   ]
  },
  {
   "cell_type": "code",
   "execution_count": 13,
   "metadata": {
    "collapsed": true
   },
   "outputs": [],
   "source": [
    "traindf = pd.read_csv(trainfile, header=None, index_col=None)\n",
    "trainl = [(i[0], i[1]) for i in traindf.values.tolist()]\n",
    "test1df = pd.read_csv(test1file, header=None, index_col=None)\n",
    "test1l = [(i[0], i[1]) for i in test1df.values.tolist()]"
   ]
  },
  {
   "cell_type": "code",
   "execution_count": 14,
   "metadata": {},
   "outputs": [
    {
     "name": "stdout",
     "output_type": "stream",
     "text": [
      "0\n"
     ]
    }
   ],
   "source": [
    "count = 0\n",
    "for s in test1l:\n",
    "    if s in trainl:\n",
    "        count += 1\n",
    "print(count)"
   ]
  },
  {
   "cell_type": "markdown",
   "metadata": {},
   "source": [
    "# 数据平衡问题(正负，多对多正负，长度，深度）"
   ]
  },
  {
   "cell_type": "code",
   "execution_count": 54,
   "metadata": {
    "collapsed": true
   },
   "outputs": [],
   "source": [
    "from Dyck1 import *\n",
    "obj = d1\n",
    "name = \"Dyck1\""
   ]
  },
  {
   "cell_type": "code",
   "execution_count": 55,
   "metadata": {
    "collapsed": true
   },
   "outputs": [],
   "source": [
    "depthl = list()\n",
    "lengthl = list()\n",
    "pnl = list()\n",
    "multipnl = list()\n",
    "traindf = pd.read_csv(name + \"_train\", header=None, index_col=None)\n",
    "trainl = traindf.values.tolist()\n",
    "for f, l in trainl:\n",
    "    length = f.find(\"e\") + 1\n",
    "    _, _, depth = obj.accept(f[1: (length -1)])\n",
    "    pn = 0 if l[-1] == \"0\" else 1\n",
    "    multipn = list(l)\n",
    "    lengthl.append(length)\n",
    "    depthl.append(depth)\n",
    "    pnl.append(pn)\n",
    "    multipnl.extend(multipn)\n"
   ]
  },
  {
   "cell_type": "code",
   "execution_count": 56,
   "metadata": {
    "collapsed": true
   },
   "outputs": [],
   "source": [
    "import matplotlib.pyplot as plt\n",
    "from collections import defaultdict\n"
   ]
  },
  {
   "cell_type": "code",
   "execution_count": 57,
   "metadata": {},
   "outputs": [
    {
     "data": {
      "text/plain": [
       "<BarContainer object of 8 artists>"
      ]
     },
     "execution_count": 57,
     "metadata": {},
     "output_type": "execute_result"
    },
    {
     "data": {
      "image/png": "[encoded data removed]",
      "text/plain": [
       "<Figure size 432x288 with 1 Axes>"
      ]
     },
     "metadata": {
      "needs_background": "light"
     },
     "output_type": "display_data"
    }
   ],
   "source": [
    "obj = depthl\n",
    "objd = defaultdict(lambda : 0)\n",
    "for i in obj:\n",
    "    objd[i] += 1\n",
    "\n",
    "plt.bar(objd.keys(), objd.values())"
   ]
  },
  {
   "cell_type": "code",
   "execution_count": 58,
   "metadata": {},
   "outputs": [
    {
     "data": {
      "text/plain": [
       "<BarContainer object of 30 artists>"
      ]
     },
     "execution_count": 58,
     "metadata": {},
     "output_type": "execute_result"
    },
    {
     "data": {
      "image/png": "[encoded data removed]",
      "text/plain": [
       "<Figure size 432x288 with 1 Axes>"
      ]
     },
     "metadata": {
      "needs_background": "light"
     },
     "output_type": "display_data"
    }
   ],
   "source": [
    "obj = lengthl\n",
    "objd = defaultdict(lambda : 0)\n",
    "for i in obj:\n",
    "    objd[i] += 1\n",
    "\n",
    "plt.bar(objd.keys(), objd.values())"
   ]
  },
  {
   "cell_type": "code",
   "execution_count": 59,
   "metadata": {},
   "outputs": [
    {
     "data": {
      "text/plain": [
       "<BarContainer object of 2 artists>"
      ]
     },
     "execution_count": 59,
     "metadata": {},
     "output_type": "execute_result"
    },
    {
     "data": {
      "image/png": "[encoded data removed]",
      "text/plain": [
       "<Figure size 432x288 with 1 Axes>"
      ]
     },
     "metadata": {
      "needs_background": "light"
     },
     "output_type": "display_data"
    }
   ],
   "source": [
    "obj = pnl\n",
    "objd = defaultdict(lambda : 0)\n",
    "for i in obj:\n",
    "    objd[i] += 1\n",
    "\n",
    "plt.bar(objd.keys(), objd.values())"
   ]
  },
  {
   "cell_type": "code",
   "execution_count": 60,
   "metadata": {
    "scrolled": true
   },
   "outputs": [
    {
     "data": {
      "text/plain": [
       "<BarContainer object of 2 artists>"
      ]
     },
     "execution_count": 60,
     "metadata": {},
     "output_type": "execute_result"
    },
    {
     "data": {
      "image/png": "[encoded data removed]",
      "text/plain": [
       "<Figure size 432x288 with 1 Axes>"
      ]
     },
     "metadata": {
      "needs_background": "light"
     },
     "output_type": "display_data"
    }
   ],
   "source": [
    "obj = multipnl\n",
    "objd = defaultdict(lambda : 0)\n",
    "for i in obj:\n",
    "    objd[i] += 1\n",
    "\n",
    "plt.bar(objd.keys(), objd.values())"
   ]
  },
  {
   "cell_type": "code",
   "execution_count": null,
   "metadata": {
    "collapsed": true
   },
   "outputs": [],
   "source": []
  },
  {
   "cell_type": "code",
   "execution_count": 63,
   "metadata": {},
   "outputs": [
    {
     "data": {
      "text/plain": [
       "0.8109984375"
      ]
     },
     "execution_count": 63,
     "metadata": {},
     "output_type": "execute_result"
    }
   ],
   "source": [
    "objd['0'] / sum(objd.values())"
   ]
  },
  {
   "cell_type": "code",
   "execution_count": 1,
   "metadata": {
    "collapsed": true
   },
   "outputs": [],
   "source": [
    "import pandas as pd"
   ]
  },
  {
   "cell_type": "code",
   "execution_count": 2,
   "metadata": {
    "collapsed": true
   },
   "outputs": [],
   "source": [
    "df = pd.read_csv(\"../../data/countlanguage/Anbn_train\", header=None, index_col=None)"
   ]
  },
  {
   "cell_type": "code",
   "execution_count": 4,
   "metadata": {},
   "outputs": [],
   "source": [
    "value = df[1].values.tolist()\n",
    "d = {\"0\": 0, \"1\": 0}"
   ]
  },
  {
   "cell_type": "code",
   "execution_count": 5,
   "metadata": {
    "collapsed": true
   },
   "outputs": [],
   "source": [
    "for s in value:\n",
    "    for c in s:\n",
    "        d[c] += 1"
   ]
  },
  {
   "cell_type": "code",
   "execution_count": 6,
   "metadata": {},
   "outputs": [
    {
     "data": {
      "text/plain": [
       "0.7927203125"
      ]
     },
     "execution_count": 6,
     "metadata": {},
     "output_type": "execute_result"
    }
   ],
   "source": [
    "d[\"0\"] / sum(d.values())"
   ]
  },
  {
   "cell_type": "code",
   "execution_count": null,
   "metadata": {
    "collapsed": true
   },
   "outputs": [],
   "source": []
  }
 ],
 "metadata": {
  "kernelspec": {
   "display_name": "Python 3",
   "language": "python",
   "name": "python3"
  },
  "language_info": {
   "codemirror_mode": {
    "name": "ipython",
    "version": 3
   },
   "file_extension": ".py",
   "mimetype": "text/x-python",
   "name": "python",
   "nbconvert_exporter": "python",
   "pygments_lexer": "ipython3",
   "version": "3.7.0"
  }
 },
 "nbformat": 4,
 "nbformat_minor": 2
}
