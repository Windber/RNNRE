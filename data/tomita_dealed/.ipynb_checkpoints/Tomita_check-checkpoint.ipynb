{
 "cells": [
  {
   "cell_type": "markdown",
   "metadata": {},
   "source": [
    "# 检查训练集数据平衡问题（正负，长度）以及正确性（分类，长度）\n",
    "# 检查测试集正确性（分类，长度）\n",
    "# 检查测试集1不出现在训练集中"
   ]
  },
  {
   "cell_type": "markdown",
   "metadata": {},
   "source": [
    "## 分类，长度检测\n"
   ]
  },
  {
   "cell_type": "code",
   "execution_count": 128,
   "metadata": {},
   "outputs": [],
   "source": [
    "subt = list(map(str, range(1, 8)))"
   ]
  },
  {
   "cell_type": "code",
   "execution_count": 132,
   "metadata": {},
   "outputs": [],
   "source": [
    "subd = list(map(str, range(5)))"
   ]
  },
  {
   "cell_type": "code",
   "execution_count": 135,
   "metadata": {},
   "outputs": [],
   "source": [
    "import pandas as pd"
   ]
  },
  {
   "cell_type": "code",
   "execution_count": 134,
   "metadata": {
    "collapsed": true
   },
   "outputs": [
    {
     "name": "stdout",
     "output_type": "stream",
     "text": [
      "T1_train\n",
      "T1_test1\n",
      "T1_test2\n",
      "T1_test3\n",
      "T1_test4\n",
      "T2_train\n",
      "T2_test1\n",
      "T2_test2\n",
      "T2_test3\n",
      "T2_test4\n",
      "T3_train\n",
      "T3_test1\n",
      "T3_test2\n",
      "T3_test3\n",
      "T3_test4\n",
      "T4_train\n",
      "T4_test1\n",
      "T4_test2\n",
      "T4_test3\n",
      "T4_test4\n",
      "T5_train\n",
      "T5_test1\n",
      "T5_test2\n",
      "T5_test3\n",
      "T5_test4\n",
      "T6_train\n",
      "T6_test1\n",
      "T6_test2\n",
      "T6_test3\n",
      "T6_test4\n",
      "T7_train\n",
      "T7_test1\n",
      "T7_test2\n",
      "T7_test3\n",
      "T7_test4\n"
     ]
    }
   ],
   "source": [
    "for i in subt:\n",
    "    for j in subd:\n",
    "        tot = \"train\" if j == \"0\" else (\"test\" + j)\n",
    "        name = \"T\" + i + \"_\" + tot\n",
    "        data = pd.read_csv(\"./\" + name, header=None, index_col=None, dtype={1: str})"
   ]
  },
  {
   "cell_type": "code",
   "execution_count": null,
   "metadata": {},
   "outputs": [],
   "source": [
    "name = \"T\" + i + \"_\" + tot\n",
    "data = pd.read_csv(\"./\" + name, header=None, index_col=None, dtype={1: str})\n"
   ]
  },
  {
   "cell_type": "code",
   "execution_count": 1,
   "metadata": {},
   "outputs": [
    {
     "ename": "ValueError",
     "evalue": "attempted relative import beyond top-level package",
     "output_type": "error",
     "traceback": [
      "\u001b[0;31m---------------------------------------------------------------------------\u001b[0m",
      "\u001b[0;31mValueError\u001b[0m                                Traceback (most recent call last)",
      "\u001b[0;32m<ipython-input-1-2bb2826fa5dc>\u001b[0m in \u001b[0;36m<module>\u001b[0;34m()\u001b[0m\n\u001b[0;32m----> 1\u001b[0;31m \u001b[0;32mfrom\u001b[0m \u001b[0;34m.\u001b[0m\u001b[0;34m.\u001b[0m\u001b[0mtomita_orig\u001b[0m\u001b[0;34m.\u001b[0m\u001b[0mTomita\u001b[0m \u001b[0;32mimport\u001b[0m \u001b[0;34m*\u001b[0m\u001b[0;34m\u001b[0m\u001b[0m\n\u001b[0m",
      "\u001b[0;31mValueError\u001b[0m: attempted relative import beyond top-level package"
     ]
    }
   ],
   "source": [
    "from ..tomita_orig.Tomita import *"
   ]
  },
  {
   "cell_type": "code",
   "execution_count": null,
   "metadata": {},
   "outputs": [],
   "source": []
  }
 ],
 "metadata": {
  "kernelspec": {
   "display_name": "Python 3",
   "language": "python",
   "name": "python3"
  },
  "language_info": {
   "codemirror_mode": {
    "name": "ipython",
    "version": 3
   },
   "file_extension": ".py",
   "mimetype": "text/x-python",
   "name": "python",
   "nbconvert_exporter": "python",
   "pygments_lexer": "ipython3",
   "version": "3.6.4"
  }
 },
 "nbformat": 4,
 "nbformat_minor": 2
}
