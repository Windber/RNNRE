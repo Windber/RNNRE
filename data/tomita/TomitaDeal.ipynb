{
 "cells": [
  {
   "cell_type": "code",
   "execution_count": 1,
   "metadata": {},
   "outputs": [],
   "source": [
    "import pandas as pd\n",
    "import numpy as np\n",
    "\n",
    "from Tomita import *\n",
    "\n",
    "import matplotlib.pyplot as plt\n",
    "\n",
    "\n",
    "import random"
   ]
  },
  {
   "cell_type": "markdown",
   "metadata": {},
   "source": [
    "# Tomita1"
   ]
  },
  {
   "cell_type": "code",
   "execution_count": 82,
   "metadata": {},
   "outputs": [],
   "source": [
    "data032 = pd.read_csv(\"./Tomita1l032\", header=None, index_col=None, dtype={1: str})"
   ]
  },
  {
   "cell_type": "code",
   "execution_count": 83,
   "metadata": {},
   "outputs": [],
   "source": [
    "ldata032 = data032.values.tolist()"
   ]
  },
  {
   "cell_type": "code",
   "execution_count": 84,
   "metadata": {},
   "outputs": [],
   "source": [
    "ldata032 = ldata032 * 300"
   ]
  },
  {
   "cell_type": "code",
   "execution_count": 37,
   "metadata": {},
   "outputs": [],
   "source": [
    "ldata032n = list()\n",
    "negmaxlen = 30\n",
    "for i in range(4000):\n",
    "    tmp = g1.negative(None, negmaxlen)\n",
    "    if tmp:\n",
    "        ldata032n.append(tmp)"
   ]
  },
  {
   "cell_type": "code",
   "execution_count": 40,
   "metadata": {},
   "outputs": [],
   "source": [
    "data032n = pd.DataFrame(ldata032n)"
   ]
  },
  {
   "cell_type": "code",
   "execution_count": 59,
   "metadata": {},
   "outputs": [],
   "source": [
    "data032n1w1 = data032n.sample(11000)"
   ]
  },
  {
   "cell_type": "code",
   "execution_count": 60,
   "metadata": {},
   "outputs": [],
   "source": [
    "ldata032n1w1 = list()\n",
    "data032n1w1 = data032n1w1[0].values.tolist()\n",
    "for s in data032n1w1:\n",
    "    serial, label = g1.accept(s)\n",
    "    s = \"s\" + s + \"e\" + \"#\" * (32-2- len(s))\n",
    "    serial = \"0\" + serial + serial[-1] * (32 - 1 - len(serial))\n",
    "    length = len(s)\n",
    "    ldata032n1w1.append([length, label, s, serial])"
   ]
  },
  {
   "cell_type": "code",
   "execution_count": 62,
   "metadata": {},
   "outputs": [],
   "source": [
    "data032n1w1 = pd.DataFrame(ldata032n1w1)"
   ]
  },
  {
   "cell_type": "code",
   "execution_count": 77,
   "metadata": {
    "collapsed": true
   },
   "outputs": [
    {
     "data": {
      "text/plain": [
       "[[4,\n",
       "  '1',\n",
       "  's11e############################',\n",
       "  '01111111111111111111111111111111'],\n",
       " [21,\n",
       "  '1',\n",
       "  's1111111111111111111e###########',\n",
       "  '01111111111111111111111111111111'],\n",
       " [11,\n",
       "  '1',\n",
       "  's111111111e#####################',\n",
       "  '01111111111111111111111111111111'],\n",
       " [20,\n",
       "  '1',\n",
       "  's111111111111111111e############',\n",
       "  '01111111111111111111111111111111'],\n",
       " [17,\n",
       "  '1',\n",
       "  's111111111111111e###############',\n",
       "  '01111111111111111111111111111111'],\n",
       " [6,\n",
       "  '1',\n",
       "  's1111e##########################',\n",
       "  '01111111111111111111111111111111'],\n",
       " [14,\n",
       "  '1',\n",
       "  's111111111111e##################',\n",
       "  '01111111111111111111111111111111'],\n",
       " [24,\n",
       "  '1',\n",
       "  's1111111111111111111111e########',\n",
       "  '01111111111111111111111111111111'],\n",
       " [8,\n",
       "  '1',\n",
       "  's111111e########################',\n",
       "  '01111111111111111111111111111111'],\n",
       " [18,\n",
       "  '1',\n",
       "  's1111111111111111e##############',\n",
       "  '01111111111111111111111111111111']]"
      ]
     },
     "execution_count": 77,
     "metadata": {},
     "output_type": "execute_result"
    }
   ],
   "source": [
    "ldata032[:10]"
   ]
  },
  {
   "cell_type": "code",
   "execution_count": 86,
   "metadata": {},
   "outputs": [],
   "source": [
    "data032p9k = pd.DataFrame(ldata032)"
   ]
  },
  {
   "cell_type": "code",
   "execution_count": 64,
   "metadata": {},
   "outputs": [],
   "source": [
    "train = pd.merge(data032n1w1, data032p9k)"
   ]
  },
  {
   "cell_type": "code",
   "execution_count": 87,
   "metadata": {},
   "outputs": [],
   "source": [
    "train = data032p9k.append(data032n1w1)"
   ]
  },
  {
   "cell_type": "code",
   "execution_count": 89,
   "metadata": {},
   "outputs": [],
   "source": [
    "train = train.sample(frac=1)"
   ]
  },
  {
   "cell_type": "code",
   "execution_count": 92,
   "metadata": {},
   "outputs": [],
   "source": [
    "trainf = train[[2, 3]]"
   ]
  },
  {
   "cell_type": "code",
   "execution_count": 94,
   "metadata": {},
   "outputs": [],
   "source": [
    "trainf.to_csv(\"T1_train\", header=None, index=None)"
   ]
  },
  {
   "cell_type": "code",
   "execution_count": 95,
   "metadata": {},
   "outputs": [],
   "source": [
    "train = trainf.values.tolist()"
   ]
  },
  {
   "cell_type": "code",
   "execution_count": 97,
   "metadata": {},
   "outputs": [],
   "source": [
    "train = [(i[0], i[1]) for i in train]"
   ]
  },
  {
   "cell_type": "code",
   "execution_count": 98,
   "metadata": {},
   "outputs": [],
   "source": [
    "trains = [i[0] for i in train]"
   ]
  },
  {
   "cell_type": "code",
   "execution_count": 101,
   "metadata": {},
   "outputs": [],
   "source": [
    "#test = list()\n",
    "for i in range(2000):\n",
    "    s = g1.negative(None, 30)\n",
    "    if s:\n",
    "        pads = \"s\" + s + \"e\" + \"#\" * (32 - 2 - len(s))\n",
    "        if pads not in trains:\n",
    "            test.append(pads)\n",
    "    "
   ]
  },
  {
   "cell_type": "code",
   "execution_count": 103,
   "metadata": {},
   "outputs": [],
   "source": [
    "test = [[i, g1.accept(i[1:i.find(\"e\")])[0]] for i in test]"
   ]
  },
  {
   "cell_type": "code",
   "execution_count": 105,
   "metadata": {},
   "outputs": [],
   "source": [
    "test = [[i[0], \"0\" + i[1] + i[1][-1] * (32-1-len(i[1]))] for i in test]"
   ]
  },
  {
   "cell_type": "code",
   "execution_count": 107,
   "metadata": {},
   "outputs": [],
   "source": [
    "testpd = pd.DataFrame(test)"
   ]
  },
  {
   "cell_type": "code",
   "execution_count": 109,
   "metadata": {},
   "outputs": [],
   "source": [
    "testpd.to_csv(\"T1_test1\", header=None, index=None)"
   ]
  },
  {
   "cell_type": "code",
   "execution_count": 110,
   "metadata": {},
   "outputs": [],
   "source": [
    "test2p = pd.read_csv(\"Tomita1l3264\", header=None, index_col=None)\n",
    "test2p = test2p[[2, 3]]\n",
    "test2pl = test2p.values.tolist()\n",
    "test2n = set()\n",
    "for i in range(2000):\n",
    "    stmp = g1.negative(None, 62)\n",
    "    if stmp and len(stmp) > 30:\n",
    "        serial, _ = g1.accept(stmp)\n",
    "        stmp = \"s\" + stmp + \"e\" + \"#\" * (64 - len(stmp) - 2)\n",
    "        serial = \"0\" + serial + serial[-1] * (64 - len(serial) - 1)\n",
    "        test2n.add((stmp, serial))\n",
    "\n",
    "\n",
    "test2n = [[i[0], i[1]] for i in list(test2n)]\n",
    "\n",
    "test2n = pd.DataFrame(test2n)\n",
    "\n",
    "test2n = test2n.sample(968)\n",
    "\n",
    "test2 = test2p.append(test2n)\n",
    "\n",
    "test2p = pd.DataFrame(test2p)\n",
    "\n",
    "test2pl = test2p.values.tolist()\n",
    "\n",
    "test2nl = test2n.values.tolist()\n",
    "\n",
    "\n",
    "test2p = pd.DataFrame(test2pl)\n",
    "test2n = pd.DataFrame(test2nl)\n",
    "test2 = test2p.append(test2n)\n",
    "\n",
    "test2.to_csv(\"T1_test2\", header=None, index=None)"
   ]
  },
  {
   "cell_type": "code",
   "execution_count": 135,
   "metadata": {},
   "outputs": [],
   "source": [
    "test3p = pd.read_csv(\"Tomita1l64128\", header=None, index_col=None)\n",
    "test3p = test3p[[2, 3]]\n",
    "test3pl = test3p.values.tolist()\n",
    "test3n = set()\n",
    "for i in range(2000):\n",
    "    stmp = g1.negative(None, 126)\n",
    "    if stmp and len(stmp) > 62:\n",
    "        serial, _ = g1.accept(stmp)\n",
    "        stmp = \"s\" + stmp + \"e\" + \"#\" * (128 - len(stmp) - 2)\n",
    "        serial = \"0\" + serial + serial[-1] * (128 - len(serial) - 1)\n",
    "        test3n.add((stmp, serial))\n",
    "\n",
    "\n",
    "\n",
    "len(test3p)\n",
    "\n",
    "\n",
    "test3n = [[i[0], i[1]] for i in list(test3n)]\n",
    "\n",
    "test3n = pd.DataFrame(test3n)\n",
    "\n",
    "test3n = test3n.sample(936)\n",
    "test3p = pd.DataFrame(test3pl)\n",
    "test3 = test3p.append(test3n)\n",
    "\n",
    "\n",
    "test3 = test3.sample(frac=1)\n",
    "\n",
    "test3.to_csv(\"T1_test3\", header=None, index=None)"
   ]
  },
  {
   "cell_type": "code",
   "execution_count": 143,
   "metadata": {},
   "outputs": [],
   "source": [
    "test3p = pd.read_csv(\"Tomita1l128256\", header=None, index_col=None)\n",
    "test3p = test3p[[2, 3]]\n",
    "test3pl = test3p.values.tolist()\n",
    "test3n = set()\n",
    "for i in range(2000):\n",
    "    stmp = g1.negative(None, 254)\n",
    "    if stmp and len(stmp) > 126:\n",
    "        serial, _ = g1.accept(stmp)\n",
    "        stmp = \"s\" + stmp + \"e\" + \"#\" * (256 - len(stmp) - 2)\n",
    "        serial = \"0\" + serial + serial[-1] * (256 - len(serial) - 1)\n",
    "        test3n.add((stmp, serial))\n",
    "\n",
    "\n"
   ]
  },
  {
   "cell_type": "code",
   "execution_count": 145,
   "metadata": {},
   "outputs": [
    {
     "data": {
      "text/plain": [
       "127"
      ]
     },
     "execution_count": 145,
     "metadata": {},
     "output_type": "execute_result"
    }
   ],
   "source": [
    "len(test3p)"
   ]
  },
  {
   "cell_type": "code",
   "execution_count": 146,
   "metadata": {},
   "outputs": [],
   "source": [
    "\n",
    "\n",
    "test3n = [[i[0], i[1]] for i in list(test3n)]\n",
    "\n",
    "test3n = pd.DataFrame(test3n)\n",
    "\n",
    "test3n = test3n.sample(873)\n",
    "test3p = pd.DataFrame(test3pl)\n",
    "test3 = test3p.append(test3n)\n",
    "\n",
    "\n",
    "test3 = test3.sample(frac=1)\n",
    "\n",
    "test3.to_csv(\"T1_test4\", header=None, index=None)"
   ]
  },
  {
   "cell_type": "markdown",
   "metadata": {},
   "source": [
    "# Tomita2"
   ]
  },
  {
   "cell_type": "code",
   "execution_count": 152,
   "metadata": {},
   "outputs": [],
   "source": [
    "   g2 = Tomita(V=[\"A\", \"B\"], \n",
    "                 T=[\"0\", \"1\"], \n",
    "                 S=\"A\",\n",
    "                 P={\"A\": [[], [(\"1\", \"B\")]],\n",
    "                    \"B\": [[(\"0\")], [(\"0\", \"A\")]]\n",
    "                    },\n",
    "                 Q=[\"A\", \"B\", \"C\"],\n",
    "                 SIGMA=[\"0\", \"1\"],\n",
    "                 Q0=\"A\",\n",
    "                 F=[\"A\"],\n",
    "                 DELTA={\"A\": [(\"1\", \"B\"), (\"0\", \"C\")],\n",
    "                        \"B\": [(\"1\", \"C\"), (\"0\", \"A\")],\n",
    "                        \"C\": [(\"0\", \"C\"), (\"1\", \"C\")]\n",
    "                        },\n",
    "                 propab=propab,\n",
    "                 name=\"Tomita2\"\n",
    "                 )\n"
   ]
  },
  {
   "cell_type": "markdown",
   "metadata": {},
   "source": [
    "## train"
   ]
  },
  {
   "cell_type": "code",
   "execution_count": 148,
   "metadata": {},
   "outputs": [
    {
     "data": {
      "text/plain": [
       "15"
      ]
     },
     "execution_count": 148,
     "metadata": {},
     "output_type": "execute_result"
    }
   ],
   "source": [
    "data032 = pd.read_csv(\"Tomita2l032\", header=None, index_col=None, dtype={1: str})\n",
    "data032p = data032.loc[data032[1] == \"1\"]\n",
    "data032pl = data032p.values.tolist()\n",
    "len(data032pl)\n",
    "\n",
    "data032p9k = data032pl * 600\n",
    "\n",
    "data032p9k = pd.DataFrame(data032p9k)\n",
    "\n",
    "data032n = data032.loc[data032[1] == \"0\"]\n",
    "data032nl = data032n[[2, 3]].values.tolist()\n",
    "len(data032nl)\n",
    "\n",
    "needn = 11000 - 4856\n",
    "neglist = set()\n",
    "minlen = 0\n",
    "maxlen = 32\n",
    "while len(neglist) < needn:\n",
    "    ns = g2.negative(None, maxlen-2)\n",
    "    if ns and len(ns) > minlen:\n",
    "        serial, _ = g2.accept(ns)\n",
    "        ns = \"s\" + ns + \"e\" + \"#\" * (maxlen - 2 - len(ns))\n",
    "        serial = \"0\" + serial + serial[-1] * (maxlen - 1 - len(serial))\n",
    "        neglist.add((ns, serial))\n",
    "\n",
    "\n",
    "neglist = [[i[0], i[1]] for i in neglist]\n",
    "\n",
    "data032p9k = pd.DataFrame(data032p9k[[2, 3]].values.tolist())\n",
    "\n",
    "data032nl = pd.DataFrame(data032nl)\n",
    "\n",
    "negdf = pd.DataFrame(neglist)\n",
    "\n",
    "train = data032p9k.append(data032nl).append(negdf)\n",
    "\n",
    "train.to_csv(\"T2_train\", header=None, index=None)\n",
    "\n"
   ]
  },
  {
   "cell_type": "markdown",
   "metadata": {},
   "source": [
    "## test1"
   ]
  },
  {
   "cell_type": "code",
   "execution_count": 173,
   "metadata": {},
   "outputs": [],
   "source": [
    "data032 = pd.read_csv(\"Tomita2l032\", header=None, index_col=None, dtype={1: str})\n",
    "data032l = data032[[2]].values.tolist()\n",
    "\n",
    "\n",
    "needn = 1000\n",
    "neglist = set()\n",
    "minlen = 0\n",
    "maxlen = 32\n",
    "while len(neglist) < needn:\n",
    "    ns = g2.negative(None, maxlen-2)\n",
    "    if ns and len(ns) > minlen:\n",
    "        serial, _ = g2.accept(ns)\n",
    "        ns = \"s\" + ns + \"e\" + \"#\" * (maxlen - 2 - len(ns))\n",
    "        serial = \"0\" + serial + serial[-1] * (maxlen - 1 - len(serial))\n",
    "        if ns not in data032l:\n",
    "            neglist.add((ns, serial))\n",
    "\n",
    "\n",
    "neglist = [[i[0], i[1]] for i in neglist]\n",
    "\n",
    "test1 = pd.DataFrame(neglist)\n",
    "\n",
    "test1.to_csv(\"T2_test1\", header=None, index=None)\n",
    "\n"
   ]
  },
  {
   "cell_type": "markdown",
   "metadata": {},
   "source": [
    "## test2"
   ]
  },
  {
   "cell_type": "code",
   "execution_count": 174,
   "metadata": {},
   "outputs": [],
   "source": [
    "data032 = pd.read_csv(\"Tomita2l3264\", header=None, index_col=None, dtype={1: str})\n",
    "data032l = data032[[2, 3]].values.tolist()\n",
    "test2 = pd.DataFrame(data032l).sample(1000)\n",
    "test2.to_csv(\"T2_test2\", header=None, index=None)\n",
    "\n"
   ]
  },
  {
   "cell_type": "markdown",
   "metadata": {},
   "source": [
    "## test3"
   ]
  },
  {
   "cell_type": "code",
   "execution_count": 176,
   "metadata": {},
   "outputs": [],
   "source": [
    "data032 = pd.read_csv(\"Tomita2l64128\", header=None, index_col=None, dtype={1: str})\n",
    "data032l = data032[[2, 3]].values.tolist()\n",
    "test3 = pd.DataFrame(data032l).sample(1000)\n",
    "test3.to_csv(\"T2_test3\", header=None, index=None)\n",
    "\n"
   ]
  },
  {
   "cell_type": "markdown",
   "metadata": {},
   "source": [
    "## test4"
   ]
  },
  {
   "cell_type": "code",
   "execution_count": 177,
   "metadata": {},
   "outputs": [],
   "source": [
    "data032 = pd.read_csv(\"Tomita2l128256\", header=None, index_col=None, dtype={1: str})\n",
    "data032l = data032[[2, 3]].values.tolist()\n",
    "test4 = pd.DataFrame(data032l).sample(1000)\n",
    "test4.to_csv(\"T2_test4\", header=None, index=None)"
   ]
  },
  {
   "cell_type": "markdown",
   "metadata": {},
   "source": [
    "# Tomita3"
   ]
  },
  {
   "cell_type": "code",
   "execution_count": 201,
   "metadata": {},
   "outputs": [],
   "source": [
    "    g3 = Tomita(V=[\"A\", \"B\", \"C\", \"D\"], \n",
    "                 T=[\"0\", \"1\"], \n",
    "                 S=\"A\",\n",
    "                 P={\"A\": [[(\"0\"), (\"1\")], [(\"0\", \"A\"), (\"1\", \"B\")]],\n",
    "                    \"B\": [[(\"1\")], [(\"0\", \"D\"), (\"1\", \"A\")]],\n",
    "                    \"C\": [[(\"1\")], [(\"0\", \"D\"), (\"1\", \"B\")]],\n",
    "                    \"D\": [[(\"0\")], [(\"0\", \"C\")]]\n",
    "                    },\n",
    "                 Q=[\"A\", \"B\", \"C\", \"D\", \"E\"],\n",
    "                 SIGMA=[\"0\", \"1\"],\n",
    "                 Q0=\"A\",\n",
    "                 F=[\"A\", \"B\", \"C\"],\n",
    "                 DELTA={\"A\": [(\"0\", \"A\"), (\"1\", \"B\")],\n",
    "                        \"B\": [(\"0\", \"D\"), (\"1\", \"A\")],\n",
    "                        \"C\": [(\"0\", \"D\"), (\"1\", \"B\")],\n",
    "                        \"D\": [(\"0\", \"C\"), (\"1\", \"E\")],\n",
    "                        \"E\": [(\"0\", \"E\"), (\"1\", \"E\")]\n",
    "                        },\n",
    "                 propab=propab,\n",
    "                 name=\"Tomita3\"\n",
    "                 )"
   ]
  },
  {
   "cell_type": "markdown",
   "metadata": {},
   "source": [
    "## Train"
   ]
  },
  {
   "cell_type": "code",
   "execution_count": 230,
   "metadata": {},
   "outputs": [],
   "source": [
    "data032 = pd.read_csv(\"Tomita3l032\", header=None, index_col=None, dtype={1: str})\n",
    "\n",
    "ll = data032[0].values.tolist()\n",
    "\n",
    "ll = data032.loc[data032[0]<10].values.tolist() * 300\n",
    "\n",
    "lldf = pd.DataFrame(ll)\n",
    "\n",
    "data032 = data032.append(lldf)\n",
    "\n",
    "train = list()\n",
    "for i in range(3, 33):\n",
    "    tmpl = len(data032.loc[data032[0]==i])\n",
    "    train.extend(data032.loc[data032[0]==i].sample(600 if tmpl > 600 else tmpl).values.tolist())\n",
    "\n",
    "\n",
    "needn = 3446\n",
    "neglist = set()\n",
    "minlen = 0\n",
    "maxlen = 32\n",
    "g = g3\n",
    "while len(neglist) < needn:\n",
    "    ns = g.negative(None, maxlen-2)\n",
    "    if ns and len(ns) > minlen:\n",
    "        serial, _ = g.accept(ns)\n",
    "        ns = \"s\" + ns + \"e\" + \"#\" * (maxlen - 2 - len(ns))\n",
    "        serial = \"0\" + serial + serial[-1] * (maxlen - 1 - len(serial))\n",
    "#         if ns not in data032l:\n",
    "        neglist.add((ns, serial))\n",
    "\n",
    "train1 = pd.DataFrame(train)[[2, 3]].values.tolist()\n",
    "train2 = [[i[0], i[1]] for i in neglist]\n",
    "train1df = pd.DataFrame(train1)\n",
    "train2df = pd.DataFrame(train2)\n",
    "train = train1df.append(train2df)\n",
    "\n",
    "train.to_csv(\"T3_train\", header=None, index=None)\n",
    "\n"
   ]
  },
  {
   "cell_type": "markdown",
   "metadata": {},
   "source": [
    "## Test1"
   ]
  },
  {
   "cell_type": "code",
   "execution_count": 231,
   "metadata": {},
   "outputs": [],
   "source": [
    "data032 = pd.read_csv(\"Tomita3l032\", header=None, index_col=None, dtype={1: str})\n",
    "data032 = data032[[2, 3]].values.tolist()\n",
    "data032 = [(i[0], i[1]) for i in data032]\n",
    "train = train.values.tolist()\n",
    "train = [(i[0], i[1]) for i in train]\n",
    "test = list()\n",
    "for i in data032:\n",
    "    if i not in train:\n",
    "        test.append(i)\n",
    "need = 1000 - len(test)\n",
    "\n",
    "random.shuffle(test)\n",
    "\n",
    "test = test[:1000]\n",
    "test1 = pd.DataFrame(test)\n",
    "test1.to_csv(\"T3_test1\", header=None, index=None)"
   ]
  },
  {
   "cell_type": "markdown",
   "metadata": {},
   "source": [
    "## Test2"
   ]
  },
  {
   "cell_type": "code",
   "execution_count": 212,
   "metadata": {},
   "outputs": [],
   "source": [
    "data032 = pd.read_csv(\"Tomita3l3264\", header=None, index_col=None, dtype={1: str})\n",
    "data032l = data032[[2, 3]].values.tolist()\n",
    "test2 = pd.DataFrame(data032l).sample(1000)\n",
    "test2.to_csv(\"T3_test2\", header=None, index=None)\n",
    "\n"
   ]
  },
  {
   "cell_type": "markdown",
   "metadata": {},
   "source": [
    "## Test3"
   ]
  },
  {
   "cell_type": "code",
   "execution_count": 213,
   "metadata": {},
   "outputs": [],
   "source": [
    "data032 = pd.read_csv(\"Tomita3l64128\", header=None, index_col=None, dtype={1: str})\n",
    "data032l = data032[[2, 3]].values.tolist()\n",
    "test3 = pd.DataFrame(data032l).sample(1000)\n",
    "test3.to_csv(\"T3_test3\", header=None, index=None)\n"
   ]
  },
  {
   "cell_type": "markdown",
   "metadata": {},
   "source": [
    "## Test4"
   ]
  },
  {
   "cell_type": "code",
   "execution_count": 214,
   "metadata": {},
   "outputs": [],
   "source": [
    "data032 = pd.read_csv(\"Tomita3l128256\", header=None, index_col=None, dtype={1: str})\n",
    "data032l = data032[[2, 3]].values.tolist()\n",
    "test4 = pd.DataFrame(data032l).sample(1000)\n",
    "test4.to_csv(\"T3_test4\", header=None, index=None)\n"
   ]
  },
  {
   "cell_type": "markdown",
   "metadata": {},
   "source": [
    "# Tomita4"
   ]
  },
  {
   "cell_type": "code",
   "execution_count": 222,
   "metadata": {},
   "outputs": [],
   "source": [
    "   g4 = Tomita(V=[\"A\", \"B\", \"C\"], \n",
    "                 T=[\"0\", \"1\"], \n",
    "                 S=\"A\",\n",
    "                 P={\"A\": [[(\"0\"), (\"1\"),], [(\"1\", \"A\"), (\"0\", \"B\")]],\n",
    "                    \"B\": [[(\"0\"), (\"1\"),], [(\"0\", \"C\"), (\"1\", \"A\")]],\n",
    "                    \"C\": [[(\"1\"),], [(\"1\", \"A\")]],\n",
    "                    },\n",
    "                 Q=[\"A\", \"B\", \"C\", \"D\"],\n",
    "                 SIGMA=[\"0\", \"1\"],\n",
    "                 Q0=\"A\",\n",
    "                 F=[\"A\", \"B\", \"C\"],\n",
    "                 DELTA={\"A\": [(\"1\", \"A\"), (\"0\", \"B\")],\n",
    "                        \"B\": [(\"0\", \"C\"), (\"1\", \"A\")],\n",
    "                        \"C\": [(\"0\", \"D\"), (\"1\", \"A\")],\n",
    "                        \"D\": [(\"1\", \"D\"), (\"0\", \"D\")]\n",
    "                        },\n",
    "                 propab=propab,\n",
    "                 name=\"Tomita4\"\n",
    "                 )\n"
   ]
  },
  {
   "cell_type": "code",
   "execution_count": 233,
   "metadata": {
    "collapsed": true
   },
   "outputs": [
    {
     "data": {
      "image/png": "[encoded data removed]",
      "text/plain": [
       "<Figure size 432x288 with 1 Axes>"
      ]
     },
     "metadata": {
      "needs_background": "light"
     },
     "output_type": "display_data"
    }
   ],
   "source": [
    "data032 = pd.read_csv(\"Tomita4l032\", header=None, index_col=None, dtype={1: str})\n",
    "ll = data032.loc[data032[0]<11].values.tolist() * 300\n",
    "\n",
    "lldf = pd.DataFrame(ll)\n",
    "\n",
    "data032 = data032.append(lldf)\n",
    "\n",
    "train = list()\n",
    "for i in range(3, 33):\n",
    "    tmpl = len(data032.loc[data032[0]==i])\n",
    "    train.extend(data032.loc[data032[0]==i].sample(600 if tmpl > 600 else tmpl).values.tolist())\n",
    "\n",
    "\n",
    "\n",
    "\n",
    "needn = 20000 - len(train)\n",
    "neglist = set()\n",
    "minlen = 0\n",
    "maxlen = 32\n",
    "g = g4\n",
    "while len(neglist) < needn:\n",
    "    ns = g.negative(None, maxlen-2)\n",
    "    if ns and len(ns) > minlen:\n",
    "        serial, _ = g.accept(ns)\n",
    "        ns = \"s\" + ns + \"e\" + \"#\" * (maxlen - 2 - len(ns))\n",
    "        serial = \"0\" + serial + serial[-1] * (maxlen - 1 - len(serial))\n",
    "#         if ns not in data032l:\n",
    "        neglist.add((ns, serial))\n",
    "\n",
    "train1 = pd.DataFrame(train)[[2, 3]].values.tolist()\n",
    "train2 = [[i[0], i[1]] for i in neglist]\n",
    "train1df = pd.DataFrame(train1)\n",
    "train2df = pd.DataFrame(train2)\n",
    "train = train1df.append(train2df)\n",
    "\n",
    "train.to_csv(\"T4_train\", header=None, index=None)\n",
    "\n"
   ]
  },
  {
   "cell_type": "markdown",
   "metadata": {},
   "source": [
    "## Test1"
   ]
  },
  {
   "cell_type": "code",
   "execution_count": 224,
   "metadata": {},
   "outputs": [],
   "source": [
    "data032 = pd.read_csv(\"Tomita4l032\", header=None, index_col=None, dtype={1: str})\n",
    "data032 = data032[[2, 3]].values.tolist()\n",
    "data032 = [(i[0], i[1]) for i in data032]\n",
    "train = train.values.tolist()\n",
    "train = [(i[0], i[1]) for i in train]\n",
    "test = list()\n",
    "for i in data032:\n",
    "    if i not in train:\n",
    "        test.append(i)\n",
    "\n",
    "\n",
    "need = 1000 - len(test)\n",
    "need\n",
    "\n",
    "\n",
    "\n",
    "random.shuffle(test)\n",
    "\n",
    "test = test[:1000]\n",
    "test1 = pd.DataFrame(test)\n",
    "test1.to_csv(\"T4_test1\", header=None, index=None)"
   ]
  },
  {
   "cell_type": "markdown",
   "metadata": {},
   "source": [
    "## Test2"
   ]
  },
  {
   "cell_type": "code",
   "execution_count": 227,
   "metadata": {},
   "outputs": [],
   "source": [
    "data032 = pd.read_csv(\"Tomita4l3264\", header=None, index_col=None, dtype={1: str})\n",
    "data032l = data032[[2, 3]].values.tolist()\n",
    "test2 = pd.DataFrame(data032l).sample(1000)\n",
    "test2.to_csv(\"T4_test2\", header=None, index=None)\n",
    "\n"
   ]
  },
  {
   "cell_type": "markdown",
   "metadata": {},
   "source": [
    "## Test3"
   ]
  },
  {
   "cell_type": "code",
   "execution_count": 228,
   "metadata": {},
   "outputs": [],
   "source": [
    "data032 = pd.read_csv(\"Tomita4l64128\", header=None, index_col=None, dtype={1: str})\n",
    "data032l = data032[[2, 3]].values.tolist()\n",
    "test3 = pd.DataFrame(data032l).sample(1000)\n",
    "test3.to_csv(\"T4_test3\", header=None, index=None)\n"
   ]
  },
  {
   "cell_type": "markdown",
   "metadata": {},
   "source": [
    "## Test4"
   ]
  },
  {
   "cell_type": "code",
   "execution_count": 229,
   "metadata": {},
   "outputs": [],
   "source": [
    "data032 = pd.read_csv(\"Tomita4l128256\", header=None, index_col=None, dtype={1: str})\n",
    "data032l = data032[[2, 3]].values.tolist()\n",
    "test4 = pd.DataFrame(data032l).sample(1000)\n",
    "test4.to_csv(\"T4_test4\", header=None, index=None)\n"
   ]
  },
  {
   "cell_type": "markdown",
   "metadata": {},
   "source": [
    "# Tomita5"
   ]
  },
  {
   "cell_type": "code",
   "execution_count": 232,
   "metadata": {},
   "outputs": [],
   "source": [
    "    g5 = Tomita(V=[\"A\", \"B\", \"C\", \"D\"], \n",
    "                 T=[\"0\", \"1\"], \n",
    "                 S=\"A\",\n",
    "                 P={\"A\": [[], [(\"0\", \"C\"), (\"1\", \"B\")]],\n",
    "                    \"B\": [[(\"1\")], [(\"0\", \"D\"), (\"1\", \"A\")]],\n",
    "                    \"C\": [[(\"0\")], [(\"0\", \"A\"), (\"1\", \"D\")]],\n",
    "                    \"D\": [[], [(\"0\", \"B\"), (\"1\", \"C\")]]\n",
    "                    },\n",
    "                 Q=[\"A\", \"B\", \"C\", \"D\"],\n",
    "                 SIGMA=[\"0\", \"1\"],\n",
    "                 Q0=\"A\",\n",
    "                 F=[\"A\"],\n",
    "                 DELTA={\"A\": [(\"0\", \"C\"), (\"1\", \"B\")],\n",
    "                        \"B\": [(\"0\", \"D\"), (\"1\", \"A\")],\n",
    "                        \"C\": [(\"0\", \"A\"), (\"1\", \"D\")],\n",
    "                        \"D\": [(\"0\", \"B\"), (\"1\", \"C\")]\n",
    "                        },\n",
    "                 propab=propab,\n",
    "                 name=\"Tomita5\"\n",
    "                 )\n"
   ]
  },
  {
   "cell_type": "markdown",
   "metadata": {},
   "source": [
    "## Train"
   ]
  },
  {
   "cell_type": "code",
   "execution_count": 242,
   "metadata": {
    "collapsed": true
   },
   "outputs": [
    {
     "name": "stdout",
     "output_type": "stream",
     "text": [
      "0\n",
      "602\n",
      "0\n",
      "2408\n",
      "0\n",
      "9632\n",
      "0\n",
      "38528\n",
      "0\n",
      "512\n",
      "0\n",
      "1649\n",
      "0\n",
      "2265\n",
      "0\n",
      "1842\n",
      "0\n",
      "1541\n",
      "0\n",
      "1182\n",
      "0\n",
      "1017\n",
      "0\n",
      "876\n",
      "0\n",
      "765\n",
      "0\n",
      "583\n",
      "0\n",
      "615\n"
     ]
    }
   ],
   "source": [
    "data032 = pd.read_csv(\"Tomita5l032\", header=None, index_col=None, dtype={1: str})\n",
    "ll = data032.loc[data032[0]<11].values.tolist() * 300\n",
    "\n",
    "lldf = pd.DataFrame(ll)\n",
    "\n",
    "data032 = data032.append(lldf)\n",
    "\n",
    "train = list()\n",
    "for i in range(3, 33):\n",
    "    tmpl = len(data032.loc[data032[0]==i])\n",
    "    train.extend(data032.loc[data032[0]==i].sample(600 if tmpl > 600 else tmpl).values.tolist())\n",
    "needn = 20000 - len(train)\n",
    "neglist = set()\n",
    "minlen = 0\n",
    "maxlen = 32\n",
    "g = g5\n",
    "while len(neglist) < needn:\n",
    "    ns = g.negative(None, maxlen-2)\n",
    "    if ns and len(ns) > minlen:\n",
    "        serial, _ = g.accept(ns)\n",
    "        ns = \"s\" + ns + \"e\" + \"#\" * (maxlen - 2 - len(ns))\n",
    "        serial = \"0\" + serial + serial[-1] * (maxlen - 1 - len(serial))\n",
    "#         if ns not in data032l:\n",
    "        neglist.add((ns, serial))\n",
    "\n",
    "train1 = pd.DataFrame(train)[[2, 3]].values.tolist()\n",
    "train2 = [[i[0], i[1]] for i in neglist]\n",
    "train1df = pd.DataFrame(train1)\n",
    "train2df = pd.DataFrame(train2)\n",
    "train = train1df.append(train2df)\n",
    "\n",
    "train.to_csv(\"T5_train\", header=None, index=None)\n",
    "\n"
   ]
  },
  {
   "cell_type": "markdown",
   "metadata": {},
   "source": [
    "## Test1"
   ]
  },
  {
   "cell_type": "code",
   "execution_count": 244,
   "metadata": {},
   "outputs": [],
   "source": [
    "data032 = pd.read_csv(\"Tomita5l032\", header=None, index_col=None, dtype={1: str})\n",
    "data032 = data032[[2, 3]].values.tolist()\n",
    "data032 = [(i[0], i[1]) for i in data032]\n",
    "train = train.values.tolist()\n",
    "train = [(i[0], i[1]) for i in train]\n",
    "test = list()\n",
    "for i in data032:\n",
    "    if i not in train:\n",
    "        test.append(i)\n",
    "\n",
    "need = 1000 - len(test)\n",
    "if need <=0:\n",
    "    random.shuffle(test)\n",
    "\n",
    "    test = test[:1000]\n",
    "    test1 = pd.DataFrame(test)\n",
    "    test1.to_csv(\"T5_test1\", header=None, index=None)"
   ]
  },
  {
   "cell_type": "markdown",
   "metadata": {},
   "source": [
    "## Test2"
   ]
  },
  {
   "cell_type": "code",
   "execution_count": 246,
   "metadata": {},
   "outputs": [],
   "source": [
    "data032 = pd.read_csv(\"Tomita5l3264\", header=None, index_col=None, dtype={1: str})\n",
    "data032l = data032[[2, 3]].values.tolist()\n",
    "test2 = pd.DataFrame(data032l).sample(1000)\n",
    "test2.to_csv(\"T5_test2\", header=None, index=None)\n",
    "\n"
   ]
  },
  {
   "cell_type": "markdown",
   "metadata": {},
   "source": [
    "## Test3"
   ]
  },
  {
   "cell_type": "code",
   "execution_count": 247,
   "metadata": {},
   "outputs": [],
   "source": [
    "data032 = pd.read_csv(\"Tomita5l64128\", header=None, index_col=None, dtype={1: str})\n",
    "data032l = data032[[2, 3]].values.tolist()\n",
    "test3 = pd.DataFrame(data032l).sample(1000)\n",
    "test3.to_csv(\"T5_test3\", header=None, index=None)\n"
   ]
  },
  {
   "cell_type": "markdown",
   "metadata": {},
   "source": [
    "## Test4"
   ]
  },
  {
   "cell_type": "code",
   "execution_count": 248,
   "metadata": {},
   "outputs": [],
   "source": [
    "data032 = pd.read_csv(\"Tomita5l128256\", header=None, index_col=None, dtype={1: str})\n",
    "data032l = data032[[2, 3]].values.tolist()\n",
    "test4 = pd.DataFrame(data032l).sample(1000)\n",
    "test4.to_csv(\"T5_test4\", header=None, index=None)\n"
   ]
  },
  {
   "cell_type": "markdown",
   "metadata": {},
   "source": [
    "# Tomita6"
   ]
  },
  {
   "cell_type": "markdown",
   "metadata": {},
   "source": [
    "## Train"
   ]
  },
  {
   "cell_type": "code",
   "execution_count": 249,
   "metadata": {},
   "outputs": [],
   "source": [
    "   g6 = Tomita(V=[\"A\", \"B\", \"C\"], \n",
    "                 T=[\"0\", \"1\"], \n",
    "                 S=\"A\",\n",
    "                 P={\"A\": [[], [(\"0\", \"C\"), (\"1\", \"B\")]],\n",
    "                    \"B\": [[(\"0\")], [(\"0\", \"A\"), (\"1\", \"C\")]],\n",
    "                    \"C\": [[(\"1\")], [(\"1\", \"A\"), (\"0\", \"B\")]],\n",
    "                    },\n",
    "                 Q=[\"A\", \"B\", \"C\"],\n",
    "                 SIGMA=[\"0\", \"1\"],\n",
    "                 Q0=\"A\",\n",
    "                 F=[\"A\"],\n",
    "                 DELTA={\"A\": [(\"0\", \"C\"), (\"1\", \"B\")],\n",
    "                        \"B\": [(\"0\", \"A\"), (\"1\", \"C\")],\n",
    "                        \"C\": [(\"1\", \"A\"), (\"0\", \"B\")],\n",
    "                        },\n",
    "                 propab=propab,\n",
    "                 name=\"Tomita6\"\n",
    "                 )\n"
   ]
  },
  {
   "cell_type": "code",
   "execution_count": 263,
   "metadata": {},
   "outputs": [],
   "source": [
    "data032 = pd.read_csv(\"Tomita6l032\", header=None, index_col=None, dtype={1: str})\n",
    "ll = data032.loc[data032[0]<11].values.tolist() * 300\n",
    "\n",
    "lldf = pd.DataFrame(ll)\n",
    "\n",
    "data032 = data032.append(lldf)\n",
    "\n",
    "train = list()\n",
    "for i in range(3, 33):\n",
    "    tmpl = len(data032.loc[data032[0]==i])\n",
    "    train.extend(data032.loc[data032[0]==i].sample(600 if tmpl > 600 else tmpl).values.tolist())\n",
    "needn = 20000 - len(train)\n",
    "neglist = set()\n",
    "minlen = 0\n",
    "maxlen = 32\n",
    "g = g6\n",
    "while len(neglist) < needn:\n",
    "    ns = g.negative(None, maxlen-2)\n",
    "    if ns and len(ns) > minlen:\n",
    "        serial, _ = g.accept(ns)\n",
    "        ns = \"s\" + ns + \"e\" + \"#\" * (maxlen - 2 - len(ns))\n",
    "        serial = \"0\" + serial + serial[-1] * (maxlen - 1 - len(serial))\n",
    "#         if ns not in data032l:\n",
    "        neglist.add((ns, serial))\n",
    "\n",
    "train1 = pd.DataFrame(train)[[2, 3]].values.tolist()\n",
    "train2 = [[i[0], i[1]] for i in neglist]\n",
    "train1df = pd.DataFrame(train1)\n",
    "train2df = pd.DataFrame(train2)\n",
    "train = train1df.append(train2df)\n",
    "\n",
    "train.to_csv(\"T6_train\", header=None, index=None)\n",
    "\n"
   ]
  },
  {
   "cell_type": "markdown",
   "metadata": {},
   "source": [
    "## Test1"
   ]
  },
  {
   "cell_type": "code",
   "execution_count": 252,
   "metadata": {},
   "outputs": [],
   "source": [
    "data032 = pd.read_csv(\"Tomita6l032\", header=None, index_col=None, dtype={1: str})\n",
    "data032 = data032[[2, 3]].values.tolist()\n",
    "data032 = [(i[0], i[1]) for i in data032]\n",
    "train = train.values.tolist()\n",
    "train = [(i[0], i[1]) for i in train]\n",
    "test = list()\n",
    "for i in data032:\n",
    "    if i not in train:\n",
    "        test.append(i)\n",
    "\n",
    "need = 1000 - len(test)\n",
    "if need <=0:\n",
    "    random.shuffle(test)\n",
    "\n",
    "    test = test[:1000]\n",
    "    test1 = pd.DataFrame(test)\n",
    "    test1.to_csv(\"T6_test1\", header=None, index=None)"
   ]
  },
  {
   "cell_type": "markdown",
   "metadata": {},
   "source": [
    "## Test2"
   ]
  },
  {
   "cell_type": "code",
   "execution_count": 254,
   "metadata": {},
   "outputs": [],
   "source": [
    "data032 = pd.read_csv(\"Tomita6l3264\", header=None, index_col=None, dtype={1: str})\n",
    "data032l = data032[[2, 3]].values.tolist()\n",
    "test2 = pd.DataFrame(data032l).sample(1000)\n",
    "test2.to_csv(\"T6_test2\", header=None, index=None)\n",
    "\n"
   ]
  },
  {
   "cell_type": "markdown",
   "metadata": {},
   "source": [
    "## Test3"
   ]
  },
  {
   "cell_type": "code",
   "execution_count": 288,
   "metadata": {},
   "outputs": [],
   "source": [
    "data032 = pd.read_csv(\"Tomita6l64128\", header=None, index_col=None, dtype={1: str})\n",
    "data032l = data032[[2, 3]].values.tolist()\n",
    "test3 = pd.DataFrame(data032l).sample(1000)\n",
    "test3.to_csv(\"T6_test3\", header=None, index=None)\n"
   ]
  },
  {
   "cell_type": "markdown",
   "metadata": {},
   "source": [
    "## Test4"
   ]
  },
  {
   "cell_type": "code",
   "execution_count": 256,
   "metadata": {},
   "outputs": [],
   "source": [
    "data032 = pd.read_csv(\"Tomita6l128256\", header=None, index_col=None, dtype={1: str})\n",
    "data032l = data032[[2, 3]].values.tolist()\n",
    "test4 = pd.DataFrame(data032l).sample(1000)\n",
    "test4.to_csv(\"T6_test4\", header=None, index=None)\n"
   ]
  },
  {
   "cell_type": "markdown",
   "metadata": {},
   "source": [
    "# Tomita7"
   ]
  },
  {
   "cell_type": "code",
   "execution_count": 257,
   "metadata": {},
   "outputs": [],
   "source": [
    "    g7 = Tomita(V=[\"A\", \"B\", \"C\", \"D\"], \n",
    "                 T=[\"0\", \"1\"], \n",
    "                 S=\"A\",\n",
    "                 P={\"A\": [[(\"0\"), (\"1\")], [(\"0\", \"A\"), (\"1\", \"B\")]],\n",
    "                    \"B\": [[(\"0\"), (\"1\")], [(\"1\", \"B\"), (\"0\", \"C\")]],\n",
    "                    \"C\": [[(\"0\"), (\"1\")], [(\"0\", \"C\"), (\"1\", \"D\")]],\n",
    "                    \"D\": [[(\"1\")], [(\"1\", \"D\")]],\n",
    "                    },\n",
    "                 Q=[\"A\", \"B\", \"C\", \"D\", \"E\"],\n",
    "                 SIGMA=[\"0\", \"1\"],\n",
    "                 Q0=\"A\",\n",
    "                 F=[\"A\", \"B\", \"C\", \"D\"],\n",
    "                 DELTA={\"A\": [(\"0\", \"A\"), (\"1\", \"B\")],\n",
    "                        \"B\": [(\"1\", \"B\"), (\"0\", \"C\")],\n",
    "                        \"C\": [(\"0\", \"C\"), (\"1\", \"D\")],\n",
    "                        \"D\": [(\"1\", \"D\"), (\"0\", \"E\")],\n",
    "                        \"E\": [(\"1\", \"E\"), (\"0\", \"E\")]\n",
    "                        },\n",
    "                 propab=propab,\n",
    "                 name=\"Tomita7\"\n",
    "                 )\n"
   ]
  },
  {
   "cell_type": "markdown",
   "metadata": {},
   "source": [
    "# Train"
   ]
  },
  {
   "cell_type": "code",
   "execution_count": 264,
   "metadata": {},
   "outputs": [],
   "source": [
    "data032 = pd.read_csv(\"Tomita7l032\", header=None, index_col=None, dtype={1: str})\n",
    "lp = data032.loc[data032[1]==\"1\"].values.tolist() * 2\n",
    "lpdf = pd.DataFrame(lp)\n",
    "data032 = data032.append(lpdf)\n",
    "ll = data032.loc[data032[0]<11].values.tolist() * 300\n",
    "lldf = pd.DataFrame(ll)\n",
    "data032 = data032.append(lldf)\n",
    "\n",
    "\n",
    "train = list()\n",
    "for i in range(3, 33):\n",
    "    tmpl = len(data032.loc[data032[0]==i])\n",
    "    train.extend(data032.loc[data032[0]==i].sample(600 if tmpl > 600 else tmpl).values.tolist())\n",
    "needn = 20000 - len(train)\n",
    "neglist = set()\n",
    "minlen = 0\n",
    "maxlen = 32\n",
    "g = g7\n",
    "while len(neglist) < needn:\n",
    "    ns = g.negative(None, maxlen-2)\n",
    "    if ns and len(ns) > minlen:\n",
    "        serial, _ = g.accept(ns)\n",
    "        ns = \"s\" + ns + \"e\" + \"#\" * (maxlen - 2 - len(ns))\n",
    "        serial = \"0\" + serial + serial[-1] * (maxlen - 1 - len(serial))\n",
    "#         if ns not in data032l:\n",
    "        neglist.add((ns, serial))\n",
    "\n",
    "train1 = pd.DataFrame(train)[[2, 3]].values.tolist()\n",
    "train2 = [[i[0], i[1]] for i in neglist]\n",
    "train1df = pd.DataFrame(train1)\n",
    "train2df = pd.DataFrame(train2)\n",
    "train = train1df.append(train2df)\n",
    "\n",
    "train.to_csv(\"T7_train\", header=None, index=None)\n",
    "\n"
   ]
  },
  {
   "cell_type": "code",
   "execution_count": 275,
   "metadata": {},
   "outputs": [],
   "source": [
    "train = train1df.append(train2df)"
   ]
  },
  {
   "cell_type": "markdown",
   "metadata": {},
   "source": [
    "## Test1"
   ]
  },
  {
   "cell_type": "code",
   "execution_count": 276,
   "metadata": {},
   "outputs": [],
   "source": [
    "data032 = pd.read_csv(\"Tomita7l032\", header=None, index_col=None, dtype={1: str})\n",
    "data032 = data032[[2, 3]].values.tolist()\n",
    "data032 = [(i[0], i[1]) for i in data032]\n",
    "train = train.values.tolist()\n",
    "train = [(i[0], i[1]) for i in train]\n",
    "test = list()\n",
    "for i in data032:\n",
    "    if i not in train:\n",
    "        test.append(i)\n",
    "\n",
    "need = 1000 - len(test)\n"
   ]
  },
  {
   "cell_type": "code",
   "execution_count": 281,
   "metadata": {},
   "outputs": [
    {
     "data": {
      "text/plain": [
       "274"
      ]
     },
     "execution_count": 281,
     "metadata": {},
     "output_type": "execute_result"
    }
   ],
   "source": [
    "len(test)"
   ]
  },
  {
   "cell_type": "code",
   "execution_count": 282,
   "metadata": {},
   "outputs": [],
   "source": [
    "neglist = set()\n",
    "if need >0:\n",
    "\n",
    "    minlen = 0\n",
    "    maxlen = 32\n",
    "    g = g7\n",
    "    while len(neglist) < need:\n",
    "        ns = g.negative(None, maxlen-2)\n",
    "        if ns and len(ns) > minlen:\n",
    "            serial, _ = g.accept(ns)\n",
    "            ns = \"s\" + ns + \"e\" + \"#\" * (maxlen - 2 - len(ns))\n",
    "            serial = \"0\" + serial + serial[-1] * (maxlen - 1 - len(serial))\n",
    "            if ns not in train:\n",
    "                neglist.add((ns, serial)) \n",
    "neglist = list(neglist)\n",
    "test.extend(neglist)\n",
    "random.shuffle(test)\n",
    "test = test[:1000]\n",
    "test1 = pd.DataFrame(test)\n",
    "test1.to_csv(\"T7_test1\", header=None, index=None)"
   ]
  },
  {
   "cell_type": "markdown",
   "metadata": {},
   "source": [
    "## Test2"
   ]
  },
  {
   "cell_type": "code",
   "execution_count": 2,
   "metadata": {},
   "outputs": [],
   "source": [
    "data = pd.read_csv(\"Tomita7l3264\", header=None, index_col=None, dtype={1: str})\n",
    "data = data[[2, 3]].values.tolist()\n",
    "test = pd.DataFrame(data).sample(1000)\n"
   ]
  },
  {
   "cell_type": "code",
   "execution_count": 4,
   "metadata": {},
   "outputs": [
    {
     "data": {
      "text/plain": [
       "1000"
      ]
     },
     "execution_count": 4,
     "metadata": {},
     "output_type": "execute_result"
    }
   ],
   "source": [
    "len(test)"
   ]
  },
  {
   "cell_type": "markdown",
   "metadata": {},
   "source": [
    "## Test3"
   ]
  },
  {
   "cell_type": "code",
   "execution_count": 286,
   "metadata": {},
   "outputs": [],
   "source": [
    "data032 = pd.read_csv(\"Tomita7l64128\", header=None, index_col=None, dtype={1: str})\n",
    "data032l = data032[[2, 3]].values.tolist()\n",
    "test3 = pd.DataFrame(data032l).sample(1000)\n",
    "test3.to_csv(\"T7_test3\", header=None, index=None)\n"
   ]
  },
  {
   "cell_type": "markdown",
   "metadata": {},
   "source": [
    "## Test4"
   ]
  },
  {
   "cell_type": "code",
   "execution_count": 289,
   "metadata": {},
   "outputs": [],
   "source": [
    "data032 = pd.read_csv(\"Tomita7l128256\", header=None, index_col=None, dtype={1: str})\n",
    "data032l = data032[[2, 3]].values.tolist()\n",
    "data032l = data032l * 2\n",
    "test4 = pd.DataFrame(data032l).sample(1000)\n",
    "test4.to_csv(\"T7_test4\", header=None, index=None)\n"
   ]
  },
  {
   "cell_type": "code",
   "execution_count": null,
   "metadata": {},
   "outputs": [],
   "source": []
  }
 ],
 "metadata": {
  "kernelspec": {
   "display_name": "Python 3",
   "language": "python",
   "name": "python3"
  },
  "language_info": {
   "codemirror_mode": {
    "name": "ipython",
    "version": 3
   },
   "file_extension": ".py",
   "mimetype": "text/x-python",
   "name": "python",
   "nbconvert_exporter": "python",
   "pygments_lexer": "ipython3",
   "version": "3.7.1"
  }
 },
 "nbformat": 4,
 "nbformat_minor": 2
}
