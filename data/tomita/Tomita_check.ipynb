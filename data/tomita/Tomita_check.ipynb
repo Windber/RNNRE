{
 "cells": [
  {
   "cell_type": "markdown",
   "metadata": {},
   "source": [
    "# 检查训练集数据平衡问题（正负，长度）以及正确性（分类，长度）\n",
    "# 检查测试集正确性（分类，长度）\n",
    "# 检查测试集1不出现在训练集中"
   ]
  },
  {
   "cell_type": "markdown",
   "metadata": {},
   "source": [
    "## 分类，长度检测\n"
   ]
  },
  {
   "cell_type": "code",
   "execution_count": 1,
   "metadata": {},
   "outputs": [],
   "source": [
    "import pandas as pd\n",
    "from Tomita import *"
   ]
  },
  {
   "cell_type": "code",
   "execution_count": 2,
   "metadata": {},
   "outputs": [],
   "source": [
    "import matplotlib.pyplot as plt"
   ]
  },
  {
   "cell_type": "code",
   "execution_count": 3,
   "metadata": {},
   "outputs": [
    {
     "name": "stdout",
     "output_type": "stream",
     "text": [
      "T1_train 20000 0 0 0\n",
      "T1_test1 1000 0 0 0\n",
      "T1_test2 1000 0 0 0\n",
      "T1_test3 1000 0 0 0\n",
      "T1_test4 1000 0 0 0\n",
      "T2_train 20000 0 0 0\n",
      "T2_test1 1000 0 0 0\n",
      "T2_test2 1000 0 0 0\n",
      "T2_test3 1000 0 0 0\n",
      "T2_test4 1000 0 0 0\n",
      "T3_train 20000 0 0 0\n",
      "T3_test1 1000 0 0 0\n",
      "T3_test2 1000 0 0 0\n",
      "T3_test3 1000 0 0 0\n",
      "T3_test4 1000 0 0 0\n",
      "T4_train 20000 0 0 0\n",
      "T4_test1 1000 0 0 0\n",
      "T4_test2 1000 0 0 0\n",
      "T4_test3 1000 0 0 0\n",
      "T4_test4 1000 0 0 0\n",
      "T5_train 20000 0 0 0\n",
      "T5_test1 1000 0 0 0\n",
      "T5_test2 1000 0 0 0\n",
      "T5_test3 1000 0 0 0\n",
      "T5_test4 1000 0 0 0\n",
      "T6_train 20000 0 0 0\n",
      "T6_test1 1000 0 0 0\n",
      "T6_test2 1000 0 0 0\n",
      "T6_test3 1000 0 0 0\n",
      "T6_test4 1000 0 0 0\n",
      "T7_train 20000 0 0 0\n",
      "T7_test1 1000 0 0 0\n",
      "T7_test2 1000 0 0 0\n",
      "T7_test3 1000 0 0 0\n",
      "T7_test4 1000 0 0 0\n"
     ]
    }
   ],
   "source": [
    "subt = list(map(str, range(1, 8)))\n",
    "\n",
    "subd = list(map(str, range(5)))\n",
    "\n",
    "length = [32, 32, 64, 128, 256]\n",
    "for i in subt:\n",
    "    for j in subd:\n",
    "        ij = int(j)\n",
    "        tot = \"train\" if j == \"0\" else (\"test\" + j)\n",
    "        name = \"T\" + i + \"_\" + tot\n",
    "        data = pd.read_csv(\"./\" + name, header=None, index_col=None, dtype={1: str})\n",
    "        dl = data.values.tolist()\n",
    "        length_err = 0\n",
    "        class_err = 0\n",
    "        no_e = 0\n",
    "        gname = \"g\" + i\n",
    "        g = globals()[gname]\n",
    "        for sample in dl:\n",
    "            s = sample[0]\n",
    "            label = sample[1]\n",
    "            if len(s)!= length[ij] or len(label)!= length[ij]:\n",
    "                length_err += 1\n",
    "            sindex = 1\n",
    "            eindex = s.find(\"e\")\n",
    "            if eindex != -1:\n",
    "                plabel2, _ = g.accept(\n",
    "                    s[sindex: eindex]\n",
    "                )\n",
    "                plabel = \"0\" + plabel2 + plabel2[-1] * (length[int(j)] - 1 - len(plabel2))\n",
    "                if plabel != label:\n",
    "                    class_err += 1\n",
    "            else:\n",
    "                no_e += 1\n",
    "        print(name, len(dl), length_err, class_err, no_e)"
   ]
  },
  {
   "cell_type": "markdown",
   "metadata": {},
   "source": [
    "# 数据平衡检测"
   ]
  },
  {
   "cell_type": "code",
   "execution_count": 4,
   "metadata": {},
   "outputs": [
    {
     "data": {
      "image/png": "[encoded data removed]",
      "text/plain": [
       "<matplotlib.figure.Figure at 0x7f3dd5e38b00>"
      ]
     },
     "metadata": {},
     "output_type": "display_data"
    },
    {
     "name": "stdout",
     "output_type": "stream",
     "text": [
      "Continue\n"
     ]
    },
    {
     "data": {
      "image/png": "[encoded data removed]",
      "text/plain": [
       "<matplotlib.figure.Figure at 0x7f3e54f3dda0>"
      ]
     },
     "metadata": {},
     "output_type": "display_data"
    },
    {
     "name": "stdout",
     "output_type": "stream",
     "text": [
      "Continue\n"
     ]
    },
    {
     "data": {
      "image/png": "[encoded data removed]",
      "text/plain": [
       "<matplotlib.figure.Figure at 0x7f3dd5dc7ef0>"
      ]
     },
     "metadata": {},
     "output_type": "display_data"
    },
    {
     "name": "stdout",
     "output_type": "stream",
     "text": [
      "Continue\n"
     ]
    },
    {
     "data": {
      "image/png": "[encoded data removed]",
      "text/plain": [
       "<matplotlib.figure.Figure at 0x7f3dd5a2dc18>"
      ]
     },
     "metadata": {},
     "output_type": "display_data"
    },
    {
     "name": "stdout",
     "output_type": "stream",
     "text": [
      "Continue\n"
     ]
    },
    {
     "data": {
      "image/png": "[encoded data removed]",
      "text/plain": [
       "<matplotlib.figure.Figure at 0x7f3dd391a198>"
      ]
     },
     "metadata": {},
     "output_type": "display_data"
    },
    {
     "name": "stdout",
     "output_type": "stream",
     "text": [
      "Continue\n"
     ]
    },
    {
     "data": {
      "image/png": "[encoded data removed]",
      "text/plain": [
       "<matplotlib.figure.Figure at 0x7f3dd5dd8f60>"
      ]
     },
     "metadata": {},
     "output_type": "display_data"
    },
    {
     "name": "stdout",
     "output_type": "stream",
     "text": [
      "Continue\n"
     ]
    },
    {
     "data": {
      "image/png": "[encoded data removed]",
      "text/plain": [
       "<matplotlib.figure.Figure at 0x7f3e56286d30>"
      ]
     },
     "metadata": {},
     "output_type": "display_data"
    },
    {
     "name": "stdout",
     "output_type": "stream",
     "text": [
      "Continue\n"
     ]
    }
   ],
   "source": [
    "\n",
    "plt.subplot()\n",
    "subj = list(range(1, 8))\n",
    "for i in subj:\n",
    "    name = \"T\" + str(i) + \"_train\"\n",
    "\n",
    "    data = pd.read_csv(name, header=None, index_col=None, dtype={1: str})\n",
    "    data = data.values.tolist()\n",
    "    length = [len(sample[0][1: sample[0].find(\"e\")]) for sample in data]\n",
    "    pn = [int(sample[1][-1]) for sample in data]\n",
    "    loc = \"71\" + str(i)\n",
    "    plt.subplot(int(loc))\n",
    "    plt.hist(pn)\n",
    "    plt.hist(length)\n",
    "    plt.show()\n",
    "    input(\"Continue\")"
   ]
  },
  {
   "cell_type": "code",
   "execution_count": 48,
   "metadata": {},
   "outputs": [],
   "source": [
    "\n",
    "\n",
    "\n",
    "\n",
    "train = pd.read_csv(\"T6_train\", header=None, index_col=None, dtype={1: str})\n",
    "\n",
    "train = train.values.tolist()\n",
    "trainp = list()\n",
    "trainn = list()\n",
    "for sample in train:\n",
    "    if sample[1][-1] == \"1\":\n",
    "        trainp.append(sample)\n",
    "    else:\n",
    "        trainn.append(sample)\n",
    "trainn = trainn * 2\n",
    "trainpd = pd.DataFrame(trainp)\n",
    "trainnd = pd.DataFrame(trainn)\n",
    "trainpd = trainpd.sample(9000)\n",
    "trainnd = trainnd.sample(11000)\n",
    "train = trainpd.append(trainnd)"
   ]
  },
  {
   "cell_type": "code",
   "execution_count": 50,
   "metadata": {},
   "outputs": [],
   "source": [
    "train.to_csv(\"T6_train\", header=None, index=None)"
   ]
  },
  {
   "cell_type": "markdown",
   "metadata": {},
   "source": [
    "# 重复检测"
   ]
  },
  {
   "cell_type": "code",
   "execution_count": 5,
   "metadata": {
    "scrolled": true
   },
   "outputs": [
    {
     "name": "stdout",
     "output_type": "stream",
     "text": [
      "T1_test1 0\n",
      "T2_test1 0\n",
      "T3_test1 0\n",
      "T4_test1 0\n",
      "T5_test1 0\n",
      "T6_test1 0\n",
      "T7_test1 0\n"
     ]
    }
   ],
   "source": [
    "subj = list(range(1, 8))\n",
    "for i in subj:\n",
    "    duplicate_err = 0\n",
    "    si = str(i)\n",
    "    trname = \"T\" + si + \"_train\"\n",
    "    tename = \"T\" + si + \"_test1\"\n",
    "    train = pd.read_csv(trname, header=None, index_col=None, dtype={1: str})\n",
    "    test = pd.read_csv(tename, header=None, index_col=None, dtype={1: str})\n",
    "    train = train.values.tolist()\n",
    "    test = test.values.tolist()\n",
    "    train = [(sample[0], sample[1]) for sample in train]\n",
    "    test = [(sample[0], sample[1]) for sample in test]\n",
    "    for sample in test:\n",
    "        if sample in train:\n",
    "            duplicate_err += 1\n",
    "    print(tename, duplicate_err)"
   ]
  },
  {
   "cell_type": "code",
   "execution_count": 54,
   "metadata": {},
   "outputs": [
    {
     "name": "stdout",
     "output_type": "stream",
     "text": [
      "T1_test1 0\n",
      "T2_test1 175\n",
      "T3_test1 0\n",
      "T4_test1 0\n",
      "T5_test1 0\n",
      "T6_test1 470\n",
      "T7_test1 123\n"
     ]
    }
   ],
   "source": [
    "subj = list(range(1, 8))\n",
    "for i in subj:\n",
    "    duplicate_err = 0\n",
    "    non_duplicate = list()\n",
    "    si = str(i)\n",
    "    trname = \"T\" + si + \"_train\"\n",
    "    tename = \"T\" + si + \"_test1\"\n",
    "    train = pd.read_csv(trname, header=None, index_col=None, dtype={1: str})\n",
    "    test = pd.read_csv(tename, header=None, index_col=None, dtype={1: str})\n",
    "    train = train.values.tolist()\n",
    "    test = test.values.tolist()\n",
    "    train = [(sample[0], sample[1]) for sample in train]\n",
    "    test = [(sample[0], sample[1]) for sample in test]\n",
    "    for sample in test:\n",
    "        if sample in train:\n",
    "            duplicate_err += 1\n",
    "        else:\n",
    "            non_duplicate.append(sample)\n",
    "    if duplicate_err != 0:\n",
    "        non_duplicate = non_duplicate * 2\n",
    "        test = pd.DataFrame(non_duplicate).sample(1000)\n",
    "        test.to_csv(tename, header=None, index=None)\n",
    "    print(tename, duplicate_err)"
   ]
  },
  {
   "cell_type": "code",
   "execution_count": null,
   "metadata": {},
   "outputs": [],
   "source": []
  }
 ],
 "metadata": {
  "kernelspec": {
   "display_name": "Python 3",
   "language": "python",
   "name": "python3"
  },
  "language_info": {
   "codemirror_mode": {
    "name": "ipython",
    "version": 3
   },
   "file_extension": ".py",
   "mimetype": "text/x-python",
   "name": "python",
   "nbconvert_exporter": "python",
   "pygments_lexer": "ipython3",
   "version": "3.6.4"
  }
 },
 "nbformat": 4,
 "nbformat_minor": 2
}
