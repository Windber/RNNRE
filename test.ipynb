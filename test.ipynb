{
 "cells": [
  {
   "cell_type": "code",
   "execution_count": 1,
   "metadata": {},
   "outputs": [],
   "source": [
    "import seaborn\n",
    "\n",
    "import matplotlib.pyplot as plt\n",
    "\n",
    "import pandas as pd\n",
    "\n",
    "import numpy as np\n",
    "\n",
    "import pickle\n",
    "import sklearn\n",
    "\n",
    "from sklearn.cluster import DBSCAN, KMeans"
   ]
  },
  {
   "cell_type": "code",
   "execution_count": 2,
   "metadata": {},
   "outputs": [],
   "source": [
    "from sklearn.cluster import KMeans"
   ]
  },
  {
   "cell_type": "code",
   "execution_count": 112,
   "metadata": {},
   "outputs": [],
   "source": [
    "p = pickle.load(open('code/stackrnn/sdata/epoch0', 'rb'))\n",
    "\n",
    "a = np.array(p)\n",
    "\n",
    "a = a.reshape(-1, a.shape[2], a.shape[3])"
   ]
  },
  {
   "cell_type": "code",
   "execution_count": 113,
   "metadata": {},
   "outputs": [],
   "source": [
    "sforsb = a[0]\n",
    "\n",
    "df = pd.DataFrame(np.transpose(sforsb))\n",
    "\n",
    "#  [ u, hidden, x, s1, s2, read, v1, v2, yp]\n",
    "#  {\"(\": [2], \")\": [3], \"s\": [0], \"e\": [1], '[': [4], ']': [5]},\n",
    "# {'e': 1, '(': 2, ')': 4, '[': 8, ']': 16}\n",
    "# df.index = ['u', 'h_0', 'h_1', 'x:s', 'x:e', 'x:(', 'x:)', 'x:[', 'x:]', 's1', 's2',\n",
    "#'r_0', 'r_1', 'v1_0', 'v1_1', 'v2_0', 'v2_1', \n",
    "#            'yp:e', 'yp:(', 'yp:)', 'yp:[', 'yp:]', 'y:e', 'y:(', 'y:)', 'y:[', 'y:]']\n"
   ]
  },
  {
   "cell_type": "code",
   "execution_count": 114,
   "metadata": {
    "scrolled": true
   },
   "outputs": [
    {
     "data": {
      "text/plain": [
       "<matplotlib.axes._subplots.AxesSubplot at 0x7fc7243bec50>"
      ]
     },
     "execution_count": 114,
     "metadata": {},
     "output_type": "execute_result"
    },
    {
     "data": {
      "image/png": "[encoded data removed]",
      "text/plain": [
       "<Figure size 432x288 with 2 Axes>"
      ]
     },
     "metadata": {
      "needs_background": "light"
     },
     "output_type": "display_data"
    }
   ],
   "source": [
    "df.index = ['u', '', 'h_1', '', 'x:e', '', 'x:)', '', 'x:]', '', 's2', \n",
    "            '', 'r_1', '', 'v1_1', '', 'v2_1', \n",
    "           '', 'yp:(', '', 'yp:[', '', 'y:e', '', 'y:)', '', 'y:]']\n",
    "\n",
    "seaborn.heatmap(df, cmap='YlGnBu')\n",
    "#seaborn.heatmap(df, cmap='YlGnBu', linewidths=0.01)\n",
    "\n"
   ]
  },
  {
   "cell_type": "code",
   "execution_count": 115,
   "metadata": {},
   "outputs": [],
   "source": [
    "# Get Stack space cluster"
   ]
  },
  {
   "cell_type": "code",
   "execution_count": 116,
   "metadata": {},
   "outputs": [],
   "source": [
    "v = a[:, :, 13:17]\n"
   ]
  },
  {
   "cell_type": "code",
   "execution_count": 117,
   "metadata": {},
   "outputs": [],
   "source": [
    "v = v.reshape(-1, 4)"
   ]
  },
  {
   "cell_type": "code",
   "execution_count": 118,
   "metadata": {},
   "outputs": [],
   "source": [
    "v1 = v[:, :2]\n",
    "v2 = v[:, 2:]"
   ]
  },
  {
   "cell_type": "code",
   "execution_count": 119,
   "metadata": {},
   "outputs": [],
   "source": [
    "v = np.array([v1, v2])"
   ]
  },
  {
   "cell_type": "code",
   "execution_count": 120,
   "metadata": {},
   "outputs": [],
   "source": [
    "v.shape\n",
    "\n",
    "v = v.reshape(-1, 2)"
   ]
  },
  {
   "cell_type": "code",
   "execution_count": 121,
   "metadata": {
    "scrolled": true
   },
   "outputs": [
    {
     "data": {
      "text/plain": [
       "<matplotlib.collections.PathCollection at 0x7fc7247e01d0>"
      ]
     },
     "execution_count": 121,
     "metadata": {},
     "output_type": "execute_result"
    },
    {
     "data": {
      "image/png": "[encoded data removed]",
      "text/plain": [
       "<Figure size 432x288 with 1 Axes>"
      ]
     },
     "metadata": {
      "needs_background": "light"
     },
     "output_type": "display_data"
    }
   ],
   "source": [
    "\n",
    "\n",
    "\n",
    "\n",
    "\n",
    "\n",
    "\n",
    "\n",
    "\n",
    "plt.scatter(v[:, 0], v[:, 1])"
   ]
  },
  {
   "cell_type": "code",
   "execution_count": null,
   "metadata": {},
   "outputs": [],
   "source": []
  },
  {
   "cell_type": "code",
   "execution_count": 122,
   "metadata": {},
   "outputs": [
    {
     "data": {
      "text/plain": [
       "6"
      ]
     },
     "execution_count": 122,
     "metadata": {},
     "output_type": "execute_result"
    }
   ],
   "source": [
    "vkm = KMeans(6).fit(v)\n",
    "\n",
    "labels = vkm.labels_\n",
    "\n",
    "n_clusters_ = len(set(labels)) - (1 if -1 in labels else 0)\n",
    "\n",
    "n_clusters_"
   ]
  },
  {
   "cell_type": "code",
   "execution_count": 123,
   "metadata": {},
   "outputs": [
    {
     "data": {
      "image/png": "[encoded data removed]",
      "text/plain": [
       "<Figure size 432x288 with 1 Axes>"
      ]
     },
     "metadata": {
      "needs_background": "light"
     },
     "output_type": "display_data"
    }
   ],
   "source": [
    "marker = ['+', 'x', 'X', '8', 's', '1', 'D']\n",
    "\n",
    "mdict = {i: marker[i] for i in range(7)}\n",
    "\n",
    "number = 6\n",
    "mdict = {i: marker[i] for i in range(number)}\n",
    "\n",
    "l = [list() for i in range(number)]\n",
    "for i in range(v.shape[0]):\n",
    "    l[labels[i]].append(v[i, :])\n",
    "\n",
    "\n",
    "for c, i in enumerate(l):\n",
    "    n = np.array(i)\n",
    "    plt.scatter(n[:, 0], n[:, 1], marker=mdict[c])\n",
    "    plt.scatter([vkm.cluster_centers_[c][0]], [vkm.cluster_centers_[c][1]], s=300, marker='+')"
   ]
  },
  {
   "cell_type": "code",
   "execution_count": 124,
   "metadata": {},
   "outputs": [
    {
     "data": {
      "text/plain": [
       "array([[ 0.94312318, -0.9491626 ],\n",
       "       [-0.99119856,  0.79555678],\n",
       "       [-0.99253061, -0.97525599],\n",
       "       [ 0.97455508,  0.99516215],\n",
       "       [-0.20395396,  0.99866306],\n",
       "       [-0.28638159, -0.93757741]])"
      ]
     },
     "execution_count": 124,
     "metadata": {},
     "output_type": "execute_result"
    }
   ],
   "source": [
    "vkm.cluster_centers_"
   ]
  },
  {
   "cell_type": "code",
   "execution_count": 125,
   "metadata": {},
   "outputs": [],
   "source": [
    "h = a[:, :, 1: 3]\n",
    "h = h.reshape(-1, h.shape[-1])"
   ]
  },
  {
   "cell_type": "code",
   "execution_count": 126,
   "metadata": {},
   "outputs": [
    {
     "data": {
      "text/plain": [
       "4"
      ]
     },
     "execution_count": 126,
     "metadata": {},
     "output_type": "execute_result"
    }
   ],
   "source": [
    "hkm = KMeans(4).fit(h)\n",
    "\n",
    "labels = hkm.labels_\n",
    "\n",
    "n_clusters_ = len(set(labels)) - (1 if -1 in labels else 0)\n",
    "\n",
    "n_clusters_\n"
   ]
  },
  {
   "cell_type": "code",
   "execution_count": 127,
   "metadata": {},
   "outputs": [
    {
     "data": {
      "image/png": "[encoded data removed]",
      "text/plain": [
       "<Figure size 432x288 with 1 Axes>"
      ]
     },
     "metadata": {
      "needs_background": "light"
     },
     "output_type": "display_data"
    }
   ],
   "source": [
    "\n",
    "\n",
    "\n",
    "\n",
    "\n",
    "marker = ['+', 'x', 'X', '8', 's', '1', 'D']\n",
    "\n",
    "mdict = {i: marker[i] for i in range(7)}\n",
    "\n",
    "number = 4\n",
    "mdict = {i: marker[i] for i in range(number)}\n",
    "\n",
    "l = [list() for i in range(number)]\n",
    "for i in range(h.shape[0]):\n",
    "    l[labels[i]].append(h[i, :])\n",
    "\n",
    "\n",
    "for c, i in enumerate(l):\n",
    "    n = np.array(i)\n",
    "    plt.scatter(n[:, 0], n[:, 1], marker=mdict[c])\n",
    "    plt.scatter([hkm.cluster_centers_[c][0]], [hkm.cluster_centers_[c][1]], s=300, marker='+')"
   ]
  },
  {
   "cell_type": "code",
   "execution_count": 128,
   "metadata": {},
   "outputs": [
    {
     "data": {
      "text/plain": [
       "array([[ 0.9944158 ,  0.99893359],\n",
       "       [ 0.98937641, -0.99712733],\n",
       "       [-0.9910718 , -0.99363989],\n",
       "       [-0.92319642,  0.90873303]])"
      ]
     },
     "execution_count": 128,
     "metadata": {},
     "output_type": "execute_result"
    }
   ],
   "source": [
    "hkm.cluster_centers_"
   ]
  },
  {
   "cell_type": "code",
   "execution_count": 129,
   "metadata": {},
   "outputs": [],
   "source": [
    "xd = {2: \"(\", 3:\")\", 0:\"s\", 1:\"e\", 4:'[', 5:']'}\n",
    "yd = {0:'e', 1:'(', 2:')', 3:'[', 4:']'}\n",
    "hnumber = 4\n",
    "\n",
    "hd = {str(i): c for i, c in enumerate(['A','B','C','D'])}\n",
    "hd['-1'] = 'Z'\n",
    "snumber = 6\n",
    "sd = {str(i): c for i, c in enumerate(['a','b','c','d','e','f'])}\n",
    "sd['-1'] = 's'"
   ]
  },
  {
   "cell_type": "code",
   "execution_count": 143,
   "metadata": {},
   "outputs": [
    {
     "data": {
      "text/plain": [
       "13"
      ]
     },
     "execution_count": 143,
     "metadata": {},
     "output_type": "execute_result"
    }
   ],
   "source": []
  },
  {
   "cell_type": "code",
   "execution_count": 144,
   "metadata": {},
   "outputs": [],
   "source": [
    "for i in range(a.shape[0]):\n",
    "    if (''.join(map(lambda x: str(int(x)), list(a[i, :, 4])))).find('1') > 30:\n",
    "        sample = a[i]\n",
    "        break"
   ]
  },
  {
   "cell_type": "code",
   "execution_count": 148,
   "metadata": {},
   "outputs": [],
   "source": [
    "#  [ u, hidden, x, s1, s2, read, v1, v2, yp]\n",
    "# df.index = ['u', 'h_0', 'h_1', 'x:s', 'x:e', 'x:(', 'x:)', 'x:[', 'x:]', 's1', 's2',\n",
    "# 11'r_0', 'r_1', 'v1_0', 'v1_1', 'v2_0', 'v2_1', \n",
    "#            'yp:e', 'yp:(', 'yp:)', 'yp:[', 'yp:]', 'y:e', 'y:(', 'y:)', 'y:[', 'y:]']\n",
    "\n",
    "\n",
    "steps = sample.shape[0]\n",
    "l = list()\n",
    "d = {'ht1': 'Z', 'rt1': '-1'}\n",
    "\n",
    "l.append(d)\n",
    "for i in range(steps):\n",
    "    d = dict()\n",
    "    d.update(ht=l[i]['ht1'])\n",
    "    d.update(rt=sd[l[i]['rt1']])\n",
    "    d.update(it=xd[np.argwhere(sample[i, 3:9]==1)[0][0]])\n",
    "    d.update(rt1=str(vkm.predict([sample[i, 11:13]])[0]))\n",
    "    d.update(ht1=hd[str(hkm.predict([sample[i, 1:3]])[0])])\n",
    "    d.update(s1t=sample[i, 9])\n",
    "    d.update(s2t=sample[i, 10])\n",
    "    d.update(ut=sample[i, 0])\n",
    "    v1 = sd[str(vkm.predict([sample[i, 13:15]])[0])]\n",
    "    d.update(v1t=v1)\n",
    "    v2 = sd[str(vkm.predict([sample[i, 15:17]])[0])]\n",
    "    d.update(v2t=v2)\n",
    "    stk = v1+v2 if sample[i, 9] > 0.5 else 'lambda'\n",
    "    d.update(stack=stk)\n",
    "    tmp = sample[i, 17: 22]\n",
    "    s = ''\n",
    "    for j in range(5):\n",
    "        if tmp[j]>=0.5:\n",
    "            s += yd[j]\n",
    "    d.update(yp=s)\n",
    "    tmp = sample[i, 22: 27]\n",
    "    s = ''\n",
    "    for j in range(5):\n",
    "        if tmp[j]>=0.5:\n",
    "            s += yd[j]\n",
    "    d.update(y=s)\n",
    "    l.append(d)"
   ]
  },
  {
   "cell_type": "code",
   "execution_count": 150,
   "metadata": {},
   "outputs": [
    {
     "name": "stdout",
     "output_type": "stream",
     "text": [
      "ht: Z it: s rt: s ht1: D Stack: bf s1: 0.80 s2: 0.80 u:1.00 v1t: b v2t: f y: e([ yp: e([\n",
      "ht: D it: ( rt: f ht1: C Stack: cd s1: 1.00 s2: 1.00 u:1.00 v1t: c v2t: d y: ()[ yp: ()[\n",
      "ht: C it: ( rt: d ht1: C Stack: da s1: 0.98 s2: 0.98 u:1.00 v1t: d v2t: a y: ()[ yp: ()[\n",
      "ht: C it: [ rt: a ht1: B Stack: aa s1: 0.99 s2: 0.99 u:1.00 v1t: a v2t: a y: ([] yp: ([]\n",
      "ht: B it: ] rt: a ht1: C Stack: lambda s1: 0.01 s2: 0.01 u:1.00 v1t: a v2t: c y: ()[ yp: ()[\n",
      "ht: C it: [ rt: a ht1: B Stack: aa s1: 0.99 s2: 0.99 u:1.00 v1t: a v2t: a y: ([] yp: ([]\n",
      "ht: B it: ( rt: a ht1: C Stack: ac s1: 1.00 s2: 1.00 u:1.00 v1t: a v2t: c y: ()[ yp: ()[\n",
      "ht: C it: ) rt: c ht1: B Stack: lambda s1: 0.01 s2: 0.01 u:1.00 v1t: c v2t: a y: ([] yp: ([]\n",
      "ht: B it: ( rt: a ht1: C Stack: ac s1: 1.00 s2: 1.00 u:1.00 v1t: a v2t: c y: ()[ yp: ()[\n",
      "ht: C it: ) rt: c ht1: B Stack: lambda s1: 0.01 s2: 0.01 u:1.00 v1t: c v2t: a y: ([] yp: ([]\n",
      "ht: B it: ( rt: a ht1: C Stack: ac s1: 1.00 s2: 1.00 u:1.00 v1t: a v2t: c y: ()[ yp: ()[\n",
      "ht: C it: ) rt: c ht1: B Stack: lambda s1: 0.01 s2: 0.01 u:1.00 v1t: c v2t: a y: ([] yp: ([]\n",
      "ht: B it: ] rt: a ht1: C Stack: lambda s1: 0.01 s2: 0.01 u:1.00 v1t: a v2t: c y: ()[ yp: ()[\n",
      "ht: C it: ( rt: a ht1: C Stack: aa s1: 0.99 s2: 0.99 u:1.00 v1t: a v2t: a y: ()[ yp: ()[\n",
      "ht: C it: [ rt: a ht1: B Stack: aa s1: 0.99 s2: 0.99 u:1.00 v1t: a v2t: a y: ([] yp: ([]\n",
      "ht: B it: [ rt: a ht1: B Stack: ac s1: 0.99 s2: 0.99 u:1.00 v1t: a v2t: c y: ([] yp: ([]\n",
      "ht: B it: ] rt: c ht1: B Stack: lambda s1: 0.01 s2: 0.01 u:1.00 v1t: c v2t: c y: ([] yp: ([]\n",
      "ht: B it: [ rt: a ht1: B Stack: ac s1: 0.99 s2: 0.99 u:1.00 v1t: a v2t: c y: ([] yp: ([]\n",
      "ht: B it: ] rt: c ht1: B Stack: lambda s1: 0.01 s2: 0.01 u:1.00 v1t: c v2t: c y: ([] yp: ([]\n",
      "ht: B it: [ rt: a ht1: B Stack: ac s1: 0.99 s2: 0.99 u:1.00 v1t: a v2t: c y: ([] yp: ([]\n",
      "ht: B it: ] rt: c ht1: B Stack: lambda s1: 0.01 s2: 0.01 u:1.00 v1t: c v2t: c y: ([] yp: ([]\n",
      "ht: B it: [ rt: a ht1: B Stack: ac s1: 0.99 s2: 0.99 u:1.00 v1t: a v2t: c y: ([] yp: ([]\n",
      "ht: B it: ] rt: c ht1: B Stack: lambda s1: 0.01 s2: 0.01 u:1.00 v1t: c v2t: c y: ([] yp: ([]\n",
      "ht: B it: ] rt: a ht1: C Stack: lambda s1: 0.01 s2: 0.01 u:1.00 v1t: a v2t: c y: ()[ yp: ()[\n",
      "ht: C it: ) rt: a ht1: C Stack: lambda s1: 0.01 s2: 0.01 u:0.99 v1t: f v2t: a y: ()[ yp: ()[\n",
      "ht: C it: ( rt: a ht1: C Stack: aa s1: 0.99 s2: 0.99 u:1.00 v1t: a v2t: a y: ()[ yp: ()[\n",
      "ht: C it: ) rt: a ht1: C Stack: lambda s1: 0.01 s2: 0.01 u:0.99 v1t: f v2t: a y: ()[ yp: ()[\n",
      "ht: C it: ( rt: a ht1: C Stack: aa s1: 0.99 s2: 0.99 u:1.00 v1t: a v2t: a y: ()[ yp: ()[\n",
      "ht: C it: ) rt: a ht1: C Stack: lambda s1: 0.01 s2: 0.01 u:0.99 v1t: f v2t: a y: ()[ yp: ()[\n",
      "ht: C it: ) rt: a ht1: C Stack: lambda s1: 0.01 s2: 0.01 u:0.99 v1t: f v2t: a y: ()[ yp: ()[\n",
      "ht: C it: ) rt: d ht1: D Stack: lambda s1: 0.00 s2: 0.00 u:0.98 v1t: e v2t: a y: e([ yp: e([\n",
      "ht: D it: e rt: c ht1: A Stack: lambda s1: 0.08 s2: 0.08 u:1.00 v1t: c v2t: d y: e yp: e\n"
     ]
    }
   ],
   "source": [
    "for i in range(1, steps+1):\n",
    "    d = l[i]\n",
    "    print('ht: %s it: %s rt: %s ht1: %s Stack: %s s1: %.2f s2: %.2f u:%.2f v1t: %s v2t: %s y: %s yp: %s' %\n",
    "         (d['ht'], d['it'], d['rt'], d['ht1'], d['stack'], d['s1t'], d['s2t'], d['ut'], d['v1t'], d['v2t'], d['y'], d['yp']))"
   ]
  },
  {
   "cell_type": "code",
   "execution_count": null,
   "metadata": {},
   "outputs": [],
   "source": []
  }
 ],
 "metadata": {
  "kernelspec": {
   "display_name": "Python 3",
   "language": "python",
   "name": "python3"
  },
  "language_info": {
   "codemirror_mode": {
    "name": "ipython",
    "version": 3
   },
   "file_extension": ".py",
   "mimetype": "text/x-python",
   "name": "python",
   "nbconvert_exporter": "python",
   "pygments_lexer": "ipython3",
   "version": "3.7.3"
  }
 },
 "nbformat": 4,
 "nbformat_minor": 2
}
