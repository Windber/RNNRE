{
 "cells": [
  {
   "cell_type": "code",
   "execution_count": 1,
   "metadata": {},
   "outputs": [],
   "source": [
    "import numpy as np\n",
    "import tensorflow as tf\n",
    "import tensorflow.keras as keras\n",
    "import tensorflow.data as tfd\n",
    "import pandas as pd\n",
    "import matplotlib.pyplot as plt"
   ]
  },
  {
   "cell_type": "code",
   "execution_count": 2,
   "metadata": {},
   "outputs": [],
   "source": [
    "tf.enable_eager_execution()"
   ]
  },
  {
   "cell_type": "code",
   "execution_count": 193,
   "metadata": {},
   "outputs": [],
   "source": [
    "BATCH_SIZE = 32\n",
    "BUFFER_SIZE = 2000\n",
    "SEQ_LENGTH = 16\n",
    "UNITS = 3\n",
    "EPOCHS = 5\n",
    "STEP_BY_STEP = True"
   ]
  },
  {
   "cell_type": "code",
   "execution_count": 4,
   "metadata": {},
   "outputs": [],
   "source": [
    "path_to_file = '/home/guo/datasets/tomita/'\n",
    "train_file = path_to_file + 'tomita4_train'\n",
    "test_file = path_to_file + 'tomita4_test'\n",
    "df_train = pd.read_csv(train_file)\n",
    "df_test = pd.read_csv(test_file)\n",
    "feature_train = df_train.loc[:, 'feature']\n",
    "label_train = df_train.loc[:, 'label']\n",
    "feature_test = df_test.loc[:, 'feature']\n",
    "label_test = df_test.loc[:, 'label']\n",
    "alphabet = {'0': [1, 0, 0], '1': [0, 1, 0], 'e': [0, 0, 1] }\n",
    "labelbet = {False: [1, 0], True: [0, 1]}\n",
    "\n",
    "label_train_1 = [ labelbet[i] for i in label_train]\n",
    "label_test_1 = [ labelbet[i] for i in label_test]\n",
    "feature_train_1 = [[alphabet[i] for i in ii ] for ii in feature_train]\n",
    "feature_test_1 = [[alphabet[i] for i in ii ] for ii in feature_test]\n",
    "\n",
    "feature_test_2 = np.array(feature_test_1, dtype='float32')\n",
    "feature_train_2 = np.array(feature_train_1, dtype='float32')\n",
    "label_train_2 = np.array(label_train_1, dtype='float32')\n",
    "label_test_2 = np.array(label_test_1, dtype='float32')"
   ]
  },
  {
   "cell_type": "code",
   "execution_count": 39,
   "metadata": {},
   "outputs": [],
   "source": [
    "class ClassifyT4(keras.Model):\n",
    "    def __init__(self, units):\n",
    "        super(ClassifyT4, self).__init__()\n",
    "        self.units = units\n",
    "        self.gru = keras.layers.GRU(self.units,\n",
    "                                    recurrent_activation='sigmoid',\n",
    "                                    recurrent_initializer='glorot_uniform',\n",
    "                                    return_state=True,\n",
    "                                    stateful=True,\n",
    "                                   )\n",
    "        self.fc = tf.keras.layers.Dense(2)\n",
    "    def call(self, inputs):\n",
    "        h, *s = self.gru(inputs)\n",
    "        y = self.fc(h)\n",
    "        return y\n",
    "    def get_state(self, inputs):\n",
    "        h, *s = self.gru(inputs)\n",
    "        y = self.fc(h)\n",
    "        return (s, y, inputs)"
   ]
  },
  {
   "cell_type": "code",
   "execution_count": 206,
   "metadata": {},
   "outputs": [],
   "source": [
    "model = ClassifyT4(UNITS)\n",
    "\n",
    "#print('after build')\n"
   ]
  },
  {
   "cell_type": "code",
   "execution_count": 207,
   "metadata": {},
   "outputs": [],
   "source": [
    "\n",
    "#optimizer = tf.train.RMSPropOptimizer(1e-10)\n",
    "#optimizer =tf.train.AdagradOptimizer(1e-9)\n",
    "optimizer = tf.train.AdamOptimizer()\n",
    "model.compile(optimizer=optimizer,\n",
    "              loss=tf.losses.softmax_cross_entropy,\n",
    "              metrics=['accuracy'],\n",
    "              \n",
    "             )\n"
   ]
  },
  {
   "cell_type": "code",
   "execution_count": 208,
   "metadata": {},
   "outputs": [],
   "source": [
    "model.build(tf.TensorShape((BATCH_SIZE, SEQ_LENGTH, 3)))"
   ]
  },
  {
   "cell_type": "code",
   "execution_count": 209,
   "metadata": {},
   "outputs": [],
   "source": [
    "t_feature_train_2 = feature_train_2[::int(2048 / BATCH_SIZE)]\n",
    "t_label_train_2 = label_train_2[::int(2048 / BATCH_SIZE)]\n",
    "model.fit(x=t_feature_train_2, y=t_label_train_2, batch_size=BATCH_SIZE, epochs=1)"
   ]
  },
  {
   "cell_type": "code",
   "execution_count": 210,
   "metadata": {},
   "outputs": [
    {
     "name": "stdout",
     "output_type": "stream",
     "text": [
      "Epoch 1/1\n",
      "\r",
      "1/1 [==============================] - 0s 96ms/step - loss: 0.7401 - acc: 0.1875\n"
     ]
    },
    {
     "data": {
      "text/plain": [
       "<tensorflow.python.keras.callbacks.History at 0x7fcf8795ecf8>"
      ]
     },
     "execution_count": 210,
     "metadata": {},
     "output_type": "execute_result"
    }
   ],
   "source": []
  },
  {
   "cell_type": "code",
   "execution_count": 236,
   "metadata": {
    "scrolled": true
   },
   "outputs": [
    {
     "name": "stdout",
     "output_type": "stream",
     "text": [
      "Epoch 1/50\n",
      "64/64 [==============================] - 4s 58ms/step - loss: 0.0065 - acc: 0.9985\n",
      "Epoch 2/50\n",
      "64/64 [==============================] - 4s 58ms/step - loss: 0.0016 - acc: 1.0000\n",
      "Epoch 3/50\n",
      "64/64 [==============================] - 4s 58ms/step - loss: 0.0019 - acc: 1.0000\n",
      "Epoch 4/50\n",
      "64/64 [==============================] - 4s 58ms/step - loss: 0.0047 - acc: 0.9980\n",
      "Epoch 5/50\n",
      "64/64 [==============================] - 4s 64ms/step - loss: 0.0047 - acc: 0.9985\n",
      "Epoch 6/50\n",
      "64/64 [==============================] - 4s 58ms/step - loss: 0.0021 - acc: 0.9995\n",
      "Epoch 7/50\n",
      "64/64 [==============================] - 4s 58ms/step - loss: 0.0025 - acc: 0.9990\n",
      "Epoch 8/50\n",
      "64/64 [==============================] - 4s 58ms/step - loss: 0.0040 - acc: 0.9990\n",
      "Epoch 9/50\n",
      "64/64 [==============================] - 4s 59ms/step - loss: 0.0040 - acc: 0.9990\n",
      "Epoch 10/50\n",
      "64/64 [==============================] - 4s 64ms/step - loss: 0.0028 - acc: 0.9985\n",
      "Epoch 11/50\n",
      "64/64 [==============================] - 4s 58ms/step - loss: 0.0018 - acc: 1.0000\n",
      "Epoch 12/50\n",
      "64/64 [==============================] - 4s 58ms/step - loss: 0.0047 - acc: 0.9976\n",
      "Epoch 13/50\n",
      "64/64 [==============================] - 4s 58ms/step - loss: 0.0018 - acc: 0.9995\n",
      "Epoch 14/50\n",
      "64/64 [==============================] - 4s 57ms/step - loss: 0.0018 - acc: 1.0000\n",
      "Epoch 15/50\n",
      "64/64 [==============================] - 4s 58ms/step - loss: 0.0081 - acc: 0.9966\n",
      "Epoch 16/50\n",
      "64/64 [==============================] - 4s 63ms/step - loss: 0.0040 - acc: 0.9985\n",
      "Epoch 17/50\n",
      "64/64 [==============================] - 4s 57ms/step - loss: 0.0018 - acc: 0.9995\n",
      "Epoch 18/50\n",
      "64/64 [==============================] - 4s 57ms/step - loss: 0.0021 - acc: 0.9995\n",
      "Epoch 19/50\n",
      "64/64 [==============================] - 4s 57ms/step - loss: 0.0035 - acc: 0.9995\n",
      "Epoch 20/50\n",
      "64/64 [==============================] - 4s 63ms/step - loss: 0.0034 - acc: 0.9980\n",
      "Epoch 21/50\n",
      "64/64 [==============================] - 4s 57ms/step - loss: 0.0014 - acc: 1.0000\n",
      "Epoch 22/50\n",
      "64/64 [==============================] - 4s 57ms/step - loss: 0.0019 - acc: 0.9995\n",
      "Epoch 23/50\n",
      "64/64 [==============================] - 4s 57ms/step - loss: 0.0015 - acc: 1.0000\n",
      "Epoch 24/50\n",
      "64/64 [==============================] - 4s 57ms/step - loss: 0.0032 - acc: 0.9990\n",
      "Epoch 25/50\n",
      "64/64 [==============================] - 4s 57ms/step - loss: 0.0051 - acc: 0.9980\n",
      "Epoch 26/50\n",
      "64/64 [==============================] - 4s 57ms/step - loss: 0.0025 - acc: 0.9990\n",
      "Epoch 27/50\n",
      "64/64 [==============================] - 4s 63ms/step - loss: 0.0018 - acc: 0.9995\n",
      "Epoch 28/50\n",
      "64/64 [==============================] - 4s 59ms/step - loss: 0.0022 - acc: 0.9995\n",
      "Epoch 29/50\n",
      "64/64 [==============================] - 4s 57ms/step - loss: 0.0014 - acc: 1.0000\n",
      "Epoch 30/50\n",
      "64/64 [==============================] - 4s 58ms/step - loss: 0.0023 - acc: 0.9995\n",
      "Epoch 31/50\n",
      "64/64 [==============================] - 4s 64ms/step - loss: 0.0063 - acc: 0.9971\n",
      "Epoch 32/50\n",
      "64/64 [==============================] - 4s 58ms/step - loss: 0.0052 - acc: 0.9966\n",
      "Epoch 33/50\n",
      "64/64 [==============================] - 4s 58ms/step - loss: 0.0014 - acc: 1.0000\n",
      "Epoch 34/50\n",
      "64/64 [==============================] - 4s 58ms/step - loss: 0.0033 - acc: 0.9990\n",
      "Epoch 35/50\n",
      "64/64 [==============================] - 4s 57ms/step - loss: 0.0012 - acc: 1.0000\n",
      "Epoch 36/50\n",
      "64/64 [==============================] - 4s 57ms/step - loss: 0.0011 - acc: 1.0000\n",
      "Epoch 37/50\n",
      "64/64 [==============================] - 4s 63ms/step - loss: 0.0017 - acc: 1.0000\n",
      "Epoch 38/50\n",
      "64/64 [==============================] - 4s 58ms/step - loss: 0.0015 - acc: 1.0000\n",
      "Epoch 39/50\n",
      "64/64 [==============================] - 4s 57ms/step - loss: 0.0014 - acc: 1.0000\n",
      "Epoch 40/50\n",
      "64/64 [==============================] - 4s 58ms/step - loss: 0.0012 - acc: 1.0000\n",
      "Epoch 41/50\n",
      "64/64 [==============================] - 4s 57ms/step - loss: 8.3606e-04 - acc: 1.0000\n",
      "Epoch 42/50\n",
      "64/64 [==============================] - 4s 64ms/step - loss: 0.0019 - acc: 1.0000\n",
      "Epoch 43/50\n",
      "64/64 [==============================] - 4s 58ms/step - loss: 0.0044 - acc: 0.9985\n",
      "Epoch 44/50\n",
      "64/64 [==============================] - 4s 57ms/step - loss: 0.0022 - acc: 0.9990\n",
      "Epoch 45/50\n",
      "64/64 [==============================] - 4s 57ms/step - loss: 0.0023 - acc: 0.9990\n",
      "Epoch 46/50\n",
      "64/64 [==============================] - 4s 58ms/step - loss: 0.0030 - acc: 0.9990\n",
      "Epoch 47/50\n",
      "64/64 [==============================] - 4s 58ms/step - loss: 0.0029 - acc: 0.9995\n",
      "Epoch 48/50\n",
      "64/64 [==============================] - 4s 63ms/step - loss: 0.0046 - acc: 0.9980\n",
      "Epoch 49/50\n",
      "64/64 [==============================] - 4s 57ms/step - loss: 0.0018 - acc: 0.9995\n",
      "Epoch 50/50\n",
      "64/64 [==============================] - 4s 57ms/step - loss: 0.0012 - acc: 0.9995\n"
     ]
    },
    {
     "data": {
      "text/plain": [
       "<tensorflow.python.keras.callbacks.History at 0x7fcf74de6630>"
      ]
     },
     "execution_count": 236,
     "metadata": {},
     "output_type": "execute_result"
    }
   ],
   "source": [
    "model.fit(x=feature_train_2, y=label_train_2, batch_size=BATCH_SIZE, epochs=50, shuffle=True)\n",
    "\n"
   ]
  },
  {
   "cell_type": "code",
   "execution_count": 221,
   "metadata": {},
   "outputs": [
    {
     "name": "stdout",
     "output_type": "stream",
     "text": [
      "80/80 [==============================] - 2s 29ms/step\n"
     ]
    },
    {
     "data": {
      "text/plain": [
       "[0.0016666350134300957, 0.999609375]"
      ]
     },
     "execution_count": 221,
     "metadata": {},
     "output_type": "execute_result"
    }
   ],
   "source": [
    "model.evaluate(feature_test_2, label_test_2, batch_size=BATCH_SIZE)"
   ]
  },
  {
   "cell_type": "code",
   "execution_count": 179,
   "metadata": {},
   "outputs": [
    {
     "data": {
      "text/plain": [
       "<tensorflow.python.training.checkpointable.util.CheckpointLoadStatus at 0x7fcf9cea1d68>"
      ]
     },
     "execution_count": 179,
     "metadata": {},
     "output_type": "execute_result"
    }
   ],
   "source": [
    "model.save_weights('./saved/weights_tomita4')\n",
    "model = ClassifyT4(UNITS)\n",
    "model.load_weights('./saved/weights_tomita4')"
   ]
  },
  {
   "cell_type": "code",
   "execution_count": 222,
   "metadata": {},
   "outputs": [],
   "source": [
    "model.save_weights('./saved/weights_tomita4')\n",
    "rmodel = ClassifyT4(UNITS)\n",
    "rmodel.load_weights('./saved/weights_tomita4')\n",
    "#rmodel.load_weights('./saved/weights_tomita4_converge')\n",
    "rmodel.compile(optimizer=tf.train.AdamOptimizer(),\n",
    "              loss=tf.losses.softmax_cross_entropy,#'categorical_crossentropy',\n",
    "              metrics=['accuracy'],\n",
    "             )\n"
   ]
  },
  {
   "cell_type": "code",
   "execution_count": 229,
   "metadata": {},
   "outputs": [],
   "source": [
    "final_state = []\n",
    "labels = []\n",
    "if STEP_BY_STEP:\n",
    "    rmodel.build(tf.TensorShape([1, 1, 3]))\n",
    "    for f in feature_test_2:\n",
    "        rmodel.layers[0].reset_states(states=np.array([[0.0, 0.0, -0.75]]))\n",
    "        for t in f:\n",
    "            s, y, inputs = rmodel.get_state(np.expand_dims(np.expand_dims(t, 0), 0))\n",
    "            final_state.append(s)\n",
    "            labels.append(y)\n",
    "else:\n",
    "    rmodel.build(tf.TensorShape([1, SEQ_LENGTH, 3]))\n",
    "    for f in feature_test_2:\n",
    "        rmodel.reset_states()\n",
    "        s, y, inputs = rmodel.get_state(np.expand_dims(t, 0))\n",
    "        final_state.append(s)\n",
    "        labels.append(y)"
   ]
  },
  {
   "cell_type": "code",
   "execution_count": 230,
   "metadata": {},
   "outputs": [],
   "source": [
    "final_state_1 = np.array([f[0].numpy()[0] for f in final_state])\n",
    "#plt.scatter(final_state_1[:, 0], final_state_1[:, 1])"
   ]
  },
  {
   "cell_type": "code",
   "execution_count": 231,
   "metadata": {},
   "outputs": [],
   "source": [
    "from mpl_toolkits.mplot3d import Axes3D"
   ]
  },
  {
   "cell_type": "code",
   "execution_count": 232,
   "metadata": {},
   "outputs": [],
   "source": [
    "labelbet_1 = {0: 'r', 1: 'g'}\n",
    "labels_1 = [labelbet_1[np.argmax(i.numpy())] for i in labels]"
   ]
  },
  {
   "cell_type": "code",
   "execution_count": 233,
   "metadata": {},
   "outputs": [
    {
     "data": {
      "text/plain": [
       "<mpl_toolkits.mplot3d.art3d.Path3DCollection at 0x7fcf842e9828>"
      ]
     },
     "execution_count": 233,
     "metadata": {},
     "output_type": "execute_result"
    },
    {
     "data": {
      "image/png": "[encoded data removed]",
      "text/plain": [
       "<matplotlib.figure.Figure at 0x7fcf74dcda90>"
      ]
     },
     "metadata": {},
     "output_type": "display_data"
    }
   ],
   "source": [
    "fig = plt.figure() \n",
    "ax = Axes3D(fig) \n",
    "ax.scatter(final_state_1[:, 0], final_state_1[:, 1], final_state_1[:, 2], color=labels_1) "
   ]
  },
  {
   "cell_type": "code",
   "execution_count": 235,
   "metadata": {},
   "outputs": [
    {
     "data": {
      "text/plain": [
       "<matplotlib.collections.PathCollection at 0x7fcf74498ba8>"
      ]
     },
     "execution_count": 235,
     "metadata": {},
     "output_type": "execute_result"
    },
    {
     "data": {
      "image/png": "[encoded data removed]",
      "text/plain": [
       "<matplotlib.figure.Figure at 0x7fcf74dd36d8>"
      ]
     },
     "metadata": {},
     "output_type": "display_data"
    }
   ],
   "source": [
    "plt.scatter(final_state_1[:, 0], final_state_1[:, 2], color=labels_1) "
   ]
  },
  {
   "cell_type": "code",
   "execution_count": 11,
   "metadata": {},
   "outputs": [],
   "source": [
    "#plt.scatter(final_state_1[:, 0], final_state_1[:, 1], color=labels_1)"
   ]
  },
  {
   "cell_type": "code",
   "execution_count": 12,
   "metadata": {},
   "outputs": [],
   "source": [
    "from sklearn.cluster import DBSCAN, AgglomerativeClustering"
   ]
  },
  {
   "cell_type": "code",
   "execution_count": 13,
   "metadata": {},
   "outputs": [],
   "source": [
    "agcluster = AgglomerativeClustering(n_clusters=4).fit(final_state_1)\n",
    "d = {0: 'r', 1: 'g', 2: 'b', 3: 'y'}\n",
    "labels_ = [d[i] for i in agcluster.labels_ if i != -1]\n",
    "#plt.scatter(final_state_1[:, 0], final_state_1[:, 1], color=labels_)\n",
    "#plt.scatter(m[:, 0], m[:, 1])"
   ]
  },
  {
   "cell_type": "code",
   "execution_count": 31,
   "metadata": {
    "collapsed": true
   },
   "outputs": [
    {
     "data": {
      "text/plain": [
       "<matplotlib.collections.PathCollection at 0x7fb478d5eb38>"
      ]
     },
     "execution_count": 31,
     "metadata": {},
     "output_type": "execute_result"
    },
    {
     "data": {
      "image/png": "[encoded data removed]",
      "text/plain": [
       "<matplotlib.figure.Figure at 0x7fb478e80748>"
      ]
     },
     "metadata": {},
     "output_type": "display_data"
    }
   ],
   "source": [
    "dbcluster = DBSCAN(eps=0.25, min_samples=200)\n",
    "dbcluster.fit(final_state_1)\n",
    "d = {0: 'r', 1: 'g', 2: 'b', 3: 'y', 4: 'pink'}\n",
    "labels_ = [d[i] for i in dbcluster.labels_ if i != -1]\n",
    "plt.scatter(final_state_1[:, 0], final_state_1[:, 1], color=labels_)\n"
   ]
  },
  {
   "cell_type": "code",
   "execution_count": 46,
   "metadata": {},
   "outputs": [],
   "source": [
    "cc = agcluster"
   ]
  },
  {
   "cell_type": "code",
   "execution_count": 47,
   "metadata": {},
   "outputs": [
    {
     "name": "stderr",
     "output_type": "stream",
     "text": [
      "/usr/local/bin/anaconda/lib/python3.6/site-packages/sklearn/cluster/k_means_.py:896: RuntimeWarning: Explicit initial center position passed: performing only one init in k-means instead of n_init=10\n",
      "  return_n_iter=True)\n"
     ]
    }
   ],
   "source": [
    "states = [ (i, 'state_' + str(i)) for i in range(len(set(cc.labels_)))]\n",
    "tstates = list()\n",
    "m = list()\n",
    "for s in states:\n",
    "    tmp = [True  if i == s[0] else False for i in cc.labels_]\n",
    "    mean = np.mean(final_state_1[tmp], axis=0)\n",
    "    m.append(mean)\n",
    "    tstates.append((*s, mean))\n",
    "#states = tstates\n",
    "m = np.array(m)\n",
    "#states\n",
    "from sklearn.cluster import KMeans\n",
    "kcluster = KMeans(len(set(cc.labels_)), init=m)\n",
    "kcluster.fit(final_state_1)\n",
    "states = dict(states)\n",
    "ii = {0:[1, 0, 0], 1:[0, 1, 0], 'e':[0, 0, 1]}\n",
    "inputs = [ (i, 'input_' + str(i), ii[i]) for i in [0, 1, 'e']]\n",
    "#inputs\n",
    "trans = list()\n",
    "for n, mean in enumerate(kcluster.cluster_centers_):\n",
    "    for i in inputs:\n",
    "        rmodel.layers[0].reset_states(states=np.expand_dims(mean, 0))\n",
    "        ns, y, _ = rmodel.get_state(np.expand_dims(np.expand_dims(np.array(i[2], dtype='float32'), 0), 0))\n",
    "        ns = ns[0].numpy()[0]\n",
    "        ns = kcluster.predict([ns])[0]\n",
    "        trans.append((i[1], states[n], states[ns]))\n",
    "\n",
    "sstates = list(states.values())\n",
    "#sstates\n",
    "\n",
    "dtrans = [{'trigger': x, 'source': y, 'dest': z} for x, y, z in trans]\n",
    "#dtrans\n",
    "class Matter:\n",
    "    pass\n",
    "from transitions.extensions import GraphMachine as Machine\n",
    "g4 = Matter()\n",
    "machine = Machine(g4, states=sstates, transitions=dtrans)\n",
    "machine.get_graph().draw('tmp.png', format='png', prog='dot')"
   ]
  },
  {
   "cell_type": "code",
   "execution_count": 22,
   "metadata": {},
   "outputs": [],
   "source": []
  },
  {
   "cell_type": "code",
   "execution_count": 23,
   "metadata": {},
   "outputs": [],
   "source": []
  },
  {
   "cell_type": "code",
   "execution_count": 24,
   "metadata": {},
   "outputs": [],
   "source": []
  },
  {
   "cell_type": "code",
   "execution_count": null,
   "metadata": {},
   "outputs": [],
   "source": []
  },
  {
   "cell_type": "code",
   "execution_count": 25,
   "metadata": {},
   "outputs": [],
   "source": []
  },
  {
   "cell_type": "code",
   "execution_count": 26,
   "metadata": {},
   "outputs": [],
   "source": []
  },
  {
   "cell_type": "code",
   "execution_count": 29,
   "metadata": {},
   "outputs": [],
   "source": []
  },
  {
   "cell_type": "code",
   "execution_count": 187,
   "metadata": {},
   "outputs": [
    {
     "data": {
      "text/plain": [
       "array([3], dtype=int32)"
      ]
     },
     "execution_count": 187,
     "metadata": {},
     "output_type": "execute_result"
    }
   ],
   "source": [
    "kcluster.predict([[0, 0]])"
   ]
  },
  {
   "cell_type": "code",
   "execution_count": 148,
   "metadata": {},
   "outputs": [
    {
     "data": {
      "text/plain": [
       "4"
      ]
     },
     "execution_count": 148,
     "metadata": {},
     "output_type": "execute_result"
    }
   ],
   "source": [
    "agcluster.n_clusters"
   ]
  },
  {
   "cell_type": "code",
   "execution_count": 182,
   "metadata": {},
   "outputs": [
    {
     "data": {
      "text/plain": [
       "[(0, 'input_0', [1, 0, 0]),\n",
       " (1, 'input_1', [0, 1, 0]),\n",
       " ('e', 'input_e', [0, 0, 1])]"
      ]
     },
     "execution_count": 182,
     "metadata": {},
     "output_type": "execute_result"
    }
   ],
   "source": []
  },
  {
   "cell_type": "code",
   "execution_count": 169,
   "metadata": {},
   "outputs": [],
   "source": [
    "s0 = final_state_1[tmp]"
   ]
  },
  {
   "cell_type": "code",
   "execution_count": 171,
   "metadata": {},
   "outputs": [
    {
     "data": {
      "text/plain": [
       "array([-0.8554758,  0.5977915], dtype=float32)"
      ]
     },
     "execution_count": 171,
     "metadata": {},
     "output_type": "execute_result"
    }
   ],
   "source": [
    "np.mean(s0, axis=0)"
   ]
  },
  {
   "cell_type": "code",
   "execution_count": 172,
   "metadata": {},
   "outputs": [
    {
     "data": {
      "text/plain": [
       "(3, 1, 2)"
      ]
     },
     "execution_count": 172,
     "metadata": {},
     "output_type": "execute_result"
    }
   ],
   "source": [
    "a = (1, 2)\n",
    "b = (3, *a)\n",
    "b"
   ]
  },
  {
   "cell_type": "code",
   "execution_count": null,
   "metadata": {},
   "outputs": [],
   "source": [
    "help(np.)"
   ]
  }
 ],
 "metadata": {
  "kernelspec": {
   "display_name": "Python 3",
   "language": "python",
   "name": "python3"
  },
  "language_info": {
   "codemirror_mode": {
    "name": "ipython",
    "version": 3
   },
   "file_extension": ".py",
   "mimetype": "text/x-python",
   "name": "python",
   "nbconvert_exporter": "python",
   "pygments_lexer": "ipython3",
   "version": "3.6.4"
  }
 },
 "nbformat": 4,
 "nbformat_minor": 2
}
