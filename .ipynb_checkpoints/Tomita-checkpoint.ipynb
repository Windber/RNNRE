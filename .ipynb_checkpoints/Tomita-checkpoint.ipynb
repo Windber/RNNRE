{
 "cells": [
  {
   "cell_type": "code",
   "execution_count": 12,
   "metadata": {},
   "outputs": [],
   "source": [
    "import numpy as np\n",
    "import re"
   ]
  },
  {
   "cell_type": "code",
   "execution_count": 33,
   "metadata": {},
   "outputs": [],
   "source": [
    "import numpy as np\n",
    "import re\n",
    "import random\n",
    "from transitions.extensions import GraphMachine as Machine\n",
    "#from transitions import Machine\n",
    "class Tomita:\n",
    "    def __init__(self):\n",
    "        pass\n",
    "    def generate(self, num):\n",
    "        print('this is Tomita.generate function')\n",
    "    def examine(self, inputs):\n",
    "        print('this is Tomita.examine function')\n",
    "class Tomita4(Tomita):\n",
    "    '''\n",
    "    any string not containing \"000\" as a substring\n",
    "    '''\n",
    "    state_ = ['S_0', 'S_1', 'S_2', 'S_3']\n",
    "    input_ = ['s', '0', '1', 'e']\n",
    "    initial_ = 'S_0'\n",
    "    trans_ = [{'trigger': input_[0], 'source': state_[0], 'dest': state_[0]},\n",
    "             {'trigger': input_[1], 'source': state_[0], 'dest': state_[1]},\n",
    "             {'trigger': input_[2], 'source': state_[0], 'dest': state_[0]},\n",
    "             {'trigger': input_[3], 'source': state_[0], 'dest': state_[0]},\n",
    "\n",
    "             {'trigger': input_[0], 'source': state_[1], 'dest': state_[0]},\n",
    "             {'trigger': input_[1], 'source': state_[1], 'dest': state_[2]},\n",
    "             {'trigger': input_[2], 'source': state_[1], 'dest': state_[0]},\n",
    "             {'trigger': input_[3], 'source': state_[1], 'dest': state_[1]},\n",
    "\n",
    "             {'trigger': input_[0], 'source': state_[2], 'dest': state_[0]},\n",
    "             {'trigger': input_[1], 'source': state_[2], 'dest': state_[3]},\n",
    "             {'trigger': input_[2], 'source': state_[2], 'dest': state_[0]},\n",
    "             {'trigger': input_[3], 'source': state_[2], 'dest': state_[2]},\n",
    "\n",
    "             {'trigger': input_[0], 'source': state_[3], 'dest': state_[0]},\n",
    "             {'trigger': input_[1], 'source': state_[3], 'dest': state_[3]},\n",
    "             {'trigger': input_[2], 'source': state_[3], 'dest': state_[3]},\n",
    "             {'trigger': input_[3], 'source': state_[3], 'dest': state_[3]},\n",
    "            ]\n",
    "    def __init__(self):\n",
    "        #super.__init__(self)\n",
    "        self.machine = Machine(model=self, states=Tomita4.state_, transitions=Tomita4.trans_, initial=Tomita4.initial_)\n",
    "    def positive_generate(self, num=1, length=15, with_end=True, with_start=True):\n",
    "        \n",
    "        return output\n",
    "    def ispositive(self, inputs):\n",
    "        pattern = re.compile(self.forbid)\n",
    "        judge = list()\n",
    "        for inp in inputs:\n",
    "            if pattern.search(inp):\n",
    "                judge.append(False)\n",
    "            else:\n",
    "                judge.append(True)\n",
    "        return judge\n",
    "    def negative_generate(self, num=1, length=15, with_end=None):\n",
    "        if with_end:\n",
    "            length -= 1\n",
    "        array = np.random.randint(0, 2, (num, length))\n",
    "        l = [list(a) for a in array]\n",
    "        l = [list(map(str, ll)) for ll in l]\n",
    "        l = [''.join(ll) for ll in l]\n",
    "        output = list()\n",
    "        for s in l:\n",
    "            tmp = random.randint(0, length-3)\n",
    "            output.append(s[:tmp] + self.forbid + s[tmp+3:])\n",
    "        if with_end:\n",
    "            output_withend = list()\n",
    "            for o in output:\n",
    "                output_withend.append( o + with_end )\n",
    "            output = output_withend\n",
    "        return output"
   ]
  },
  {
   "cell_type": "code",
   "execution_count": 34,
   "metadata": {},
   "outputs": [],
   "source": [
    "t4 = Tomita4()"
   ]
  },
  {
   "cell_type": "code",
   "execution_count": 35,
   "metadata": {},
   "outputs": [],
   "source": [
    "t4.get_graph().draw('test1.png', format='png', prog='dot')"
   ]
  },
  {
   "cell_type": "code",
   "execution_count": 20,
   "metadata": {},
   "outputs": [],
   "source": [
    "from transitions import State"
   ]
  },
  {
   "cell_type": "code",
   "execution_count": 21,
   "metadata": {},
   "outputs": [
    {
     "name": "stdout",
     "output_type": "stream",
     "text": [
      "Help on class State in module transitions.core:\n",
      "\n",
      "class State(builtins.object)\n",
      " |  A persistent representation of a state managed by a ``Machine``.\n",
      " |  \n",
      " |  Attributes:\n",
      " |      name (str): State name which is also assigned to the model(s).\n",
      " |      on_enter (list): Callbacks executed when a state is entered.\n",
      " |      on_exit (list): Callbacks executed when a state is entered.\n",
      " |      ignore_invalid_triggers (bool): Indicates if unhandled/invalid triggers should raise an exception.\n",
      " |  \n",
      " |  Methods defined here:\n",
      " |  \n",
      " |  __init__(self, name, on_enter=None, on_exit=None, ignore_invalid_triggers=False)\n",
      " |      Args:\n",
      " |          name (string): The name of the state\n",
      " |          on_enter (string, list): Optional callable(s) to trigger when a\n",
      " |              state is entered. Can be either a string providing the name of\n",
      " |              a callable, or a list of strings.\n",
      " |          on_exit (string, list): Optional callable(s) to trigger when a\n",
      " |              state is exited. Can be either a string providing the name of a\n",
      " |              callable, or a list of strings.\n",
      " |          ignore_invalid_triggers (Boolean): Optional flag to indicate if\n",
      " |              unhandled/invalid triggers should raise an exception\n",
      " |  \n",
      " |  __repr__(self)\n",
      " |      Return repr(self).\n",
      " |  \n",
      " |  add_callback(self, trigger, func)\n",
      " |      Add a new enter or exit callback.\n",
      " |      Args:\n",
      " |          trigger (string): The type of triggering event. Must be one of\n",
      " |              'enter' or 'exit'.\n",
      " |          func (string): The name of the callback function.\n",
      " |  \n",
      " |  enter(self, event_data)\n",
      " |      Triggered when a state is entered.\n",
      " |  \n",
      " |  exit(self, event_data)\n",
      " |      Triggered when a state is exited.\n",
      " |  \n",
      " |  ----------------------------------------------------------------------\n",
      " |  Data descriptors defined here:\n",
      " |  \n",
      " |  __dict__\n",
      " |      dictionary for instance variables (if defined)\n",
      " |  \n",
      " |  __weakref__\n",
      " |      list of weak references to the object (if defined)\n",
      " |  \n",
      " |  ----------------------------------------------------------------------\n",
      " |  Data and other attributes defined here:\n",
      " |  \n",
      " |  dynamic_methods = ['on_enter', 'on_exit']\n",
      "\n"
     ]
    }
   ],
   "source": [
    "help(State)"
   ]
  },
  {
   "cell_type": "code",
   "execution_count": 84,
   "metadata": {},
   "outputs": [],
   "source": [
    "t4 = Tomita4()\n",
    "posn = Tomita4().negative_generate(1280, 16, with_end='e')\n",
    "posp = Tomita4().positive_generate(1280, 16, with_end='e')\n",
    "feature = posn + posp\n",
    "label = t4.ispositive(feature)\n",
    "d = { 'feature': feature, 'label': label}\n",
    "df = pd.DataFrame(d)\n",
    "df.to_csv('/home/guo/datasets/tomita/tomita4_test', index=False)"
   ]
  },
  {
   "cell_type": "code",
   "execution_count": 61,
   "metadata": {},
   "outputs": [
    {
     "name": "stdout",
     "output_type": "stream",
     "text": [
      "[False, False, False, False, False, False]\n",
      "[True, True, True, True, True, True]\n"
     ]
    }
   ],
   "source": [
    "print(Tomita4().ispositive(posn))\n",
    "print(Tomita4().ispositive(posp))"
   ]
  },
  {
   "cell_type": "code",
   "execution_count": 86,
   "metadata": {},
   "outputs": [
    {
     "name": "stdout",
     "output_type": "stream",
     "text": [
      "011111100111101e\n",
      "010011000001010e\n"
     ]
    }
   ],
   "source": [
    "print(posp[0])\n",
    "print(posn[0])"
   ]
  }
 ],
 "metadata": {
  "kernelspec": {
   "display_name": "Python 3",
   "language": "python",
   "name": "python3"
  },
  "language_info": {
   "codemirror_mode": {
    "name": "ipython",
    "version": 3
   },
   "file_extension": ".py",
   "mimetype": "text/x-python",
   "name": "python",
   "nbconvert_exporter": "python",
   "pygments_lexer": "ipython3",
   "version": "3.6.4"
  }
 },
 "nbformat": 4,
 "nbformat_minor": 2
}
