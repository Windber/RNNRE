{
 "cells": [
  {
   "cell_type": "code",
   "execution_count": 1,
   "metadata": {},
   "outputs": [],
   "source": [
    "import numpy as np\n",
    "\n",
    "import pandas as pd"
   ]
  },
  {
   "cell_type": "code",
   "execution_count": 2,
   "metadata": {},
   "outputs": [],
   "source": [
    "for task in ['t3', 't4', 't5', 't6']:\n",
    "    for f in map(lambda x: task + x, ['_test5', '_test4', '_test3', '_test2']):\n",
    "        df = pd.read_csv(f, header=None, index_col=None)\n",
    "        df = df.reindex(np.random.permutation(df.index))\n",
    "        df = df[:1000]\n",
    "        df.to_csv(f, header=None, index=None)\n",
    "    \n",
    "    df = pd.read_csv(task+\"_test1\", header=None, index_col=None)\n",
    "    df = df.reindex(np.random.permutation(df.index))\n",
    "    dftr = df[:20000]\n",
    "    dftr.to_csv(task+\"_train\", header=None, index=None)\n",
    "\n",
    "    dfte = df[20001: 21001]\n",
    "    dfte.to_csv(task+\"_test1\", header=None, index=None)\n",
    "\n",
    "    df = pd.read_csv(task+\"_train\", header=None, index_col=None)"
   ]
  },
  {
   "cell_type": "code",
   "execution_count": 4,
   "metadata": {},
   "outputs": [],
   "source": [
    "for task in ['t7']:\n",
    "    for f in map(lambda x: task + x, ['_test5', '_test4', '_test3', '_test2']):\n",
    "        df = pd.read_csv(f, header=None, index_col=None)\n",
    "        df = df.reindex(np.random.permutation(df.index))\n",
    "        df = df[:1000]\n",
    "        df.to_csv(f, header=None, index=None)"
   ]
  },
  {
   "cell_type": "code",
   "execution_count": 5,
   "metadata": {},
   "outputs": [],
   "source": [
    "task = 't7'\n",
    "df = pd.read_csv(task+\"_test1\", header=None, index_col=None)\n",
    "df = df.reindex(np.random.permutation(df.index))"
   ]
  },
  {
   "cell_type": "code",
   "execution_count": 6,
   "metadata": {},
   "outputs": [
    {
     "data": {
      "text/plain": [
       "3413"
      ]
     },
     "execution_count": 6,
     "metadata": {},
     "output_type": "execute_result"
    }
   ],
   "source": [
    "len(df)"
   ]
  },
  {
   "cell_type": "code",
   "execution_count": 7,
   "metadata": {},
   "outputs": [],
   "source": [
    "\n",
    "dftr = df[:3200]\n",
    "dftr = dftr.sample(20000, replace=True)\n",
    "\n",
    "dftr.to_csv(task+\"_train\", header=None, index=None)\n",
    "\n",
    "\n",
    "dfte = df[3200:]\n",
    "dfte = dfte.sample(1000, replace=True)\n",
    "dfte.to_csv(task+\"_test1\", header=None, index=None)"
   ]
  },
  {
   "cell_type": "code",
   "execution_count": 8,
   "metadata": {},
   "outputs": [],
   "source": [
    "for task in ['t1', 't2']:\n",
    "    for f in map(lambda x: task + x, ['_test5', '_test4', '_test3', '_test2']):\n",
    "        df = pd.read_csv(f, header=None, index_col=None)\n",
    "        df = df.reindex(np.random.permutation(df.index))\n",
    "        df = df.sample(1000, replace=True)\n",
    "        df.to_csv(f, header=None, index=None)\n",
    "    \n",
    "    df = pd.read_csv(task+\"_test1\", header=None, index_col=None)\n",
    "    df = df.reindex(np.random.permutation(df.index))\n",
    "    dftr = df.sample(20000, replace=True)\n",
    "    dfte = df.sample(1000, replace=True)\n",
    "    dftr.to_csv(task+\"_train\", header=None, index=None)\n",
    "    dfte.to_csv(task+\"_test1\", header=None, index=None)"
   ]
  },
  {
   "cell_type": "code",
   "execution_count": null,
   "metadata": {},
   "outputs": [],
   "source": []
  }
 ],
 "metadata": {
  "kernelspec": {
   "display_name": "Python 3",
   "language": "python",
   "name": "python3"
  },
  "language_info": {
   "codemirror_mode": {
    "name": "ipython",
    "version": 3
   },
   "file_extension": ".py",
   "mimetype": "text/x-python",
   "name": "python",
   "nbconvert_exporter": "python",
   "pygments_lexer": "ipython3",
   "version": "3.7.1"
  }
 },
 "nbformat": 4,
 "nbformat_minor": 2
}
