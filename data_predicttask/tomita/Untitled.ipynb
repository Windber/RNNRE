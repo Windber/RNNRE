{
 "cells": [
  {
   "cell_type": "code",
   "execution_count": 1,
   "metadata": {},
   "outputs": [],
   "source": [
    "import sys"
   ]
  },
  {
   "cell_type": "code",
   "execution_count": 4,
   "metadata": {},
   "outputs": [],
   "source": [
    "sys.path.append(r'C:\\Users\\lenovo\\git\\rnn')"
   ]
  },
  {
   "cell_type": "code",
   "execution_count": 5,
   "metadata": {},
   "outputs": [],
   "source": [
    "from data.tomita.Tomita import g4"
   ]
  },
  {
   "cell_type": "code",
   "execution_count": 6,
   "metadata": {},
   "outputs": [
    {
     "data": {
      "text/plain": [
       "'10111001110100'"
      ]
     },
     "execution_count": 6,
     "metadata": {},
     "output_type": "execute_result"
    }
   ],
   "source": [
    "g4.generate()"
   ]
  },
  {
   "cell_type": "code",
   "execution_count": 3,
   "metadata": {},
   "outputs": [],
   "source": [
    "import numpy as np"
   ]
  },
  {
   "cell_type": "code",
   "execution_count": 4,
   "metadata": {},
   "outputs": [],
   "source": [
    "import pandas as pd"
   ]
  },
  {
   "cell_type": "code",
   "execution_count": 5,
   "metadata": {},
   "outputs": [],
   "source": [
    "for task in ['t5', 't6']:\n",
    "    for f in map(lambda x: task + x, ['_test5', '_test4', '_test3', '_test2']):\n",
    "        df = pd.read_csv(f, header=None, index_col=None)\n",
    "        df = df.reindex(np.random.permutation(df.index))\n",
    "        df = df[:1000]\n",
    "        df.to_csv(f, header=None, index=None)\n",
    "    \n",
    "    df = pd.read_csv(task+\"_test1\", header=None, index_col=None)\n",
    "    df = df.reindex(np.random.permutation(df.index))\n",
    "    dftr = df[:20000]\n",
    "    dftr.to_csv(task+\"_train\", header=None, index=None)\n",
    "\n",
    "    dfte = df[20001: 21001]\n",
    "    dfte.to_csv(task+\"_test1\", header=None, index=None)\n",
    "\n",
    "    df = pd.read_csv(task+\"_train\", header=None, index_col=None)"
   ]
  },
  {
   "cell_type": "code",
   "execution_count": 6,
   "metadata": {},
   "outputs": [],
   "source": [
    "for task in ['t3', 't7']:\n",
    "    for f in map(lambda x: task + x, ['_test5', '_test4', '_test3', '_test2']):\n",
    "        df = pd.read_csv(f, header=None, index_col=None)\n",
    "        df = df.reindex(np.random.permutation(df.index))\n",
    "        df = df[:1000]\n",
    "        df.to_csv(f, header=None, index=None)"
   ]
  },
  {
   "cell_type": "code",
   "execution_count": 14,
   "metadata": {},
   "outputs": [],
   "source": [
    "task = 't7'\n",
    "df = pd.read_csv(task+\"_test1\", header=None, index_col=None)\n",
    "df = df.reindex(np.random.permutation(df.index))"
   ]
  },
  {
   "cell_type": "code",
   "execution_count": 15,
   "metadata": {},
   "outputs": [
    {
     "data": {
      "text/plain": [
       "3266"
      ]
     },
     "execution_count": 15,
     "metadata": {},
     "output_type": "execute_result"
    }
   ],
   "source": [
    "len(df)"
   ]
  },
  {
   "cell_type": "code",
   "execution_count": 16,
   "metadata": {},
   "outputs": [],
   "source": [
    "\n",
    "dftr = df[:3200]\n",
    "dftr = dftr.sample(20000, replace=True)"
   ]
  },
  {
   "cell_type": "code",
   "execution_count": 17,
   "metadata": {},
   "outputs": [
    {
     "data": {
      "text/plain": [
       "20000"
      ]
     },
     "execution_count": 17,
     "metadata": {},
     "output_type": "execute_result"
    }
   ],
   "source": [
    "len(dftr)"
   ]
  },
  {
   "cell_type": "code",
   "execution_count": 18,
   "metadata": {},
   "outputs": [],
   "source": [
    "dftr.to_csv(task+\"_train\", header=None, index=None)"
   ]
  },
  {
   "cell_type": "code",
   "execution_count": 19,
   "metadata": {},
   "outputs": [],
   "source": [
    "\n",
    "\n",
    "\n",
    "dfte = df[3200:]\n",
    "dfte = dfte.sample(1000, replace=True)\n",
    "dfte.to_csv(task+\"_test1\", header=None, index=None)"
   ]
  },
  {
   "cell_type": "code",
   "execution_count": 36,
   "metadata": {},
   "outputs": [],
   "source": [
    "\n",
    "df = pd.read_csv(task+\"_train\", header=None, index_col=None)\n",
    "l = df[0].values.tolist()"
   ]
  },
  {
   "cell_type": "code",
   "execution_count": 37,
   "metadata": {},
   "outputs": [
    {
     "data": {
      "text/plain": [
       "32"
      ]
     },
     "execution_count": 37,
     "metadata": {},
     "output_type": "execute_result"
    }
   ],
   "source": [
    "max(map(len, l))"
   ]
  },
  {
   "cell_type": "code",
   "execution_count": 20,
   "metadata": {},
   "outputs": [],
   "source": [
    "for task in ['t1', 't2']:\n",
    "    for f in map(lambda x: task + x, ['_test5', '_test4', '_test3', '_test2']):\n",
    "        df = pd.read_csv(f, header=None, index_col=None)\n",
    "        df = df.reindex(np.random.permutation(df.index))\n",
    "        df = df.sample(1000, replace=True)\n",
    "        df.to_csv(f, header=None, index=None)\n",
    "    \n",
    "    df = pd.read_csv(task+\"_test1\", header=None, index_col=None)\n",
    "    df = df.reindex(np.random.permutation(df.index))\n",
    "    dftr = df.sample(20000, replace=True)\n",
    "    dfte = df.sample(1000, replace=True)\n",
    "    dftr.to_csv(task+\"_train\", header=None, index=None)\n",
    "    dfte.to_csv(task+\"_test1\", header=None, index=None)"
   ]
  },
  {
   "cell_type": "code",
   "execution_count": null,
   "metadata": {},
   "outputs": [],
   "source": []
  }
 ],
 "metadata": {
  "kernelspec": {
   "display_name": "Python 3",
   "language": "python",
   "name": "python3"
  },
  "language_info": {
   "codemirror_mode": {
    "name": "ipython",
    "version": 3
   },
   "file_extension": ".py",
   "mimetype": "text/x-python",
   "name": "python",
   "nbconvert_exporter": "python",
   "pygments_lexer": "ipython3",
   "version": "3.7.0"
  }
 },
 "nbformat": 4,
 "nbformat_minor": 2
}
