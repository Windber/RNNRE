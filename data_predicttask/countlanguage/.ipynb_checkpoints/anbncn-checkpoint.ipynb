{
 "cells": [
  {
   "cell_type": "code",
   "execution_count": null,
   "metadata": {},
   "outputs": [],
   "source": [
    "sys.path.append('C:\\\\Users\\\\lenovo\\\\git')\n",
    "\n",
    "import sys\n",
    "\n",
    "import pandas as pd\n",
    "\n",
    "import random\n",
    "\n",
    "from rnn.data.countlanguage.anbncn import anbncn"
   ]
  },
  {
   "cell_type": "code",
   "execution_count": null,
   "metadata": {},
   "outputs": [],
   "source": [
    "def predict(feature, padding):\n",
    "    d = {'a': 2, 'b': 4, 'e': 1}\n",
    "    length = len(feature)\n",
    "    shex = hex(d['a'] + d['e'])\n",
    "    ahex = hex(d['a'] + d['b'])\n",
    "    ehex = hex(d['e'])\n",
    "    bhex = [hex(d['b']), hex(d['e'])]\n",
    "    label = ''\n",
    "    for i, c in enumerate(feature):\n",
    "        if c == 'a':\n",
    "            label += ahex\n",
    "        elif i == length-1:\n",
    "            label += bhex[1]\n",
    "        else:\n",
    "            label += bhex[0]\n",
    "    label = shex + label + ehex + ehex*(padding-length-2)\n",
    "    fea = 's' + feature + 'e' + 'e'*(padding-length-2)\n",
    "    return fea, label\n",
    "\n",
    "def positive(minlen, maxlen):\n",
    "    rmin = (minlen - 2 )//2\n",
    "    rmax = (maxlen - 2 )//2\n",
    "    r = random.randint(rmin+1, rmax)\n",
    "    return 'a'*r + 'b'*r\n",
    "\n",
    "def generate(count, minlen, maxlen):\n",
    "    li = list()\n",
    "    c = 0\n",
    "    while c < count:\n",
    "        s = positive(minlen, maxlen)\n",
    "        sp, pp = predict(s, maxlen)\n",
    "        li.append((sp, pp))\n",
    "        c += 1\n",
    "    return li"
   ]
  }
 ],
 "metadata": {
  "kernelspec": {
   "display_name": "Python 3",
   "language": "python",
   "name": "python3"
  },
  "language_info": {
   "codemirror_mode": {
    "name": "ipython",
    "version": 3
   },
   "file_extension": ".py",
   "mimetype": "text/x-python",
   "name": "python",
   "nbconvert_exporter": "python",
   "pygments_lexer": "ipython3",
   "version": "3.7.0"
  }
 },
 "nbformat": 4,
 "nbformat_minor": 2
}
