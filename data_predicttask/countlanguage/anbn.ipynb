{
 "cells": [
  {
   "cell_type": "code",
   "execution_count": 1,
   "metadata": {},
   "outputs": [],
   "source": [
    "sys.path.append('C:\\\\Users\\\\lenovo\\\\git')\n",
    "\n",
    "import sys\n",
    "\n",
    "import pandas as pd\n",
    "\n",
    "import random\n",
    "\n",
    "from rnn.data.countlanguage.anbn import anbn"
   ]
  },
  {
   "cell_type": "code",
   "execution_count": 4,
   "metadata": {},
   "outputs": [],
   "source": [
    "def predict(feature, padding):\n",
    "    d = {'a': 2, 'b': 4, 'e': 1}\n",
    "    length = len(feature)\n",
    "    shex = hex(d['a'] + d['e'])\n",
    "    ahex = hex(d['a'] + d['b'])\n",
    "    ehex = hex(d['e'])\n",
    "    bhex = [hex(d['b']), hex(d['e'])]\n",
    "    label = ''\n",
    "    for i, c in enumerate(feature):\n",
    "        if c == 'a':\n",
    "            label += ahex\n",
    "        elif i == length-1:\n",
    "            label += bhex[1]\n",
    "        else:\n",
    "            label += bhex[0]\n",
    "    label = shex + label + ehex + ehex*(padding-length-2)\n",
    "    fea = 's' + feature + 'e' + 'e'*(padding-length-2)\n",
    "    return fea, label\n",
    "\n",
    "def positive(minlen, maxlen):\n",
    "    rmin = (minlen - 2 )//2\n",
    "    rmax = (maxlen - 2 )//2\n",
    "    r = random.randint(rmin+1, rmax)\n",
    "    return 'a'*r + 'b'*r\n",
    "\n",
    "def generate(count, minlen, maxlen):\n",
    "    li = list()\n",
    "    c = 0\n",
    "    while c < count:\n",
    "        s = positive(minlen, maxlen)\n",
    "        sp, pp = predict(s, maxlen)\n",
    "        li.append((sp, pp))\n",
    "        c += 1\n",
    "    return li"
   ]
  },
  {
   "cell_type": "markdown",
   "metadata": {},
   "source": [
    "## generate train"
   ]
  },
  {
   "cell_type": "code",
   "execution_count": 56,
   "metadata": {},
   "outputs": [],
   "source": [
    "\n",
    "l = generate(20000, 0, 32)\n",
    "\n",
    "df = pd.DataFrame(l)\n",
    "\n",
    "df.to_csv('anbn_train', header=None, index=None)"
   ]
  },
  {
   "cell_type": "markdown",
   "metadata": {},
   "source": [
    "## generate test1"
   ]
  },
  {
   "cell_type": "code",
   "execution_count": 59,
   "metadata": {},
   "outputs": [],
   "source": [
    "l = generate(1000, 0, 32)\n",
    "\n",
    "df = pd.DataFrame(l)\n",
    "\n",
    "df.to_csv('anbn_test1', header=None, index=None)"
   ]
  },
  {
   "cell_type": "markdown",
   "metadata": {},
   "source": [
    "## generate test2"
   ]
  },
  {
   "cell_type": "code",
   "execution_count": 60,
   "metadata": {},
   "outputs": [],
   "source": [
    "l = generate(1000, 32, 64)\n",
    "\n",
    "df = pd.DataFrame(l)\n",
    "\n",
    "df.to_csv('anbn_test2', header=None, index=None)"
   ]
  },
  {
   "cell_type": "markdown",
   "metadata": {},
   "source": [
    "## generate test3"
   ]
  },
  {
   "cell_type": "code",
   "execution_count": 61,
   "metadata": {},
   "outputs": [],
   "source": [
    "l = generate(1000, 64, 128)\n",
    "\n",
    "df = pd.DataFrame(l)\n",
    "\n",
    "df.to_csv('anbn_test3', header=None, index=None)"
   ]
  },
  {
   "cell_type": "markdown",
   "metadata": {},
   "source": [
    "## generate test4"
   ]
  },
  {
   "cell_type": "code",
   "execution_count": 65,
   "metadata": {},
   "outputs": [],
   "source": [
    "l = generate(1000, 128, 256)\n",
    "\n",
    "df = pd.DataFrame(l)\n",
    "\n",
    "df.to_csv('anbn_test4', header=None, index=None)"
   ]
  },
  {
   "cell_type": "markdown",
   "metadata": {},
   "source": [
    "## generate test5"
   ]
  },
  {
   "cell_type": "code",
   "execution_count": 13,
   "metadata": {},
   "outputs": [],
   "source": [
    "l = generate(1000, 256, 512)\n",
    "\n",
    "df = pd.DataFrame(l)\n",
    "\n",
    "df.to_csv('anbn_test5', header=None, index=None)"
   ]
  },
  {
   "cell_type": "markdown",
   "metadata": {},
   "source": [
    "# check"
   ]
  },
  {
   "cell_type": "code",
   "execution_count": 23,
   "metadata": {},
   "outputs": [],
   "source": [
    "import matplotlib.pyplot as plt"
   ]
  },
  {
   "cell_type": "code",
   "execution_count": 24,
   "metadata": {},
   "outputs": [],
   "source": [
    "def checkdistribute(ls):\n",
    "    lens = list(map(lambda x:len(x[x.find('s')+1: x.find('e')])//2, ls))\n",
    "    plt.hist(lens)"
   ]
  },
  {
   "cell_type": "code",
   "execution_count": 16,
   "metadata": {},
   "outputs": [],
   "source": [
    "import pandas as pd\n",
    "import matplotlib.pyplot as plt"
   ]
  },
  {
   "cell_type": "code",
   "execution_count": 20,
   "metadata": {},
   "outputs": [],
   "source": [
    "import numpy as np"
   ]
  },
  {
   "cell_type": "code",
   "execution_count": 1,
   "metadata": {},
   "outputs": [],
   "source": [
    "# balance data"
   ]
  },
  {
   "cell_type": "code",
   "execution_count": 4,
   "metadata": {},
   "outputs": [],
   "source": [
    "anbn = pd.read_csv('anbn_train', header=None, index_col=None)\n",
    "\n",
    "anbnl = anbn.values.tolist()"
   ]
  },
  {
   "cell_type": "code",
   "execution_count": 6,
   "metadata": {},
   "outputs": [],
   "source": [
    "anbnt = list(map(lambda x:(x[0], x[1]), anbnl))"
   ]
  },
  {
   "cell_type": "code",
   "execution_count": 8,
   "metadata": {},
   "outputs": [],
   "source": [
    "anbns = set(anbnt)"
   ]
  },
  {
   "cell_type": "code",
   "execution_count": 10,
   "metadata": {},
   "outputs": [],
   "source": [
    "anbnl = list(anbns)"
   ]
  },
  {
   "cell_type": "code",
   "execution_count": 12,
   "metadata": {},
   "outputs": [],
   "source": [
    "anbnl = anbnl * (20000 // 15 + 1)"
   ]
  },
  {
   "cell_type": "code",
   "execution_count": 18,
   "metadata": {},
   "outputs": [],
   "source": [
    "anbndf = pd.DataFrame(anbnl)"
   ]
  },
  {
   "cell_type": "code",
   "execution_count": 21,
   "metadata": {},
   "outputs": [],
   "source": [
    "anbndfdf = anbndf.reindex(np.random.permutation(range(len(anbndf))))"
   ]
  },
  {
   "cell_type": "code",
   "execution_count": 22,
   "metadata": {},
   "outputs": [],
   "source": [
    "anbndfdfdf = anbndfdf.sample(20000)"
   ]
  },
  {
   "cell_type": "code",
   "execution_count": 24,
   "metadata": {},
   "outputs": [],
   "source": [
    "anbndfdfdf.to_csv('anbn_train', header=None, index=None)"
   ]
  },
  {
   "cell_type": "code",
   "execution_count": 25,
   "metadata": {},
   "outputs": [
    {
     "data": {
      "text/plain": [
       "<BarContainer object of 15 artists>"
      ]
     },
     "execution_count": 25,
     "metadata": {},
     "output_type": "execute_result"
    },
    {
     "data": {
      "image/png": "[encoded data removed]",
      "text/plain": [
       "<Figure size 432x288 with 1 Axes>"
      ]
     },
     "metadata": {
      "needs_background": "light"
     },
     "output_type": "display_data"
    }
   ],
   "source": [
    "anbn = pd.read_csv('anbn_train', header=None, index_col=None)\n",
    "\n",
    "anbnl = anbn.values.tolist()\n",
    "\n",
    "anbnll = list(map(lambda x: len(x[0][x[0].find('s')+1: x[0].find('e')]), anbnl))\n",
    "\n",
    "from collections import defaultdict\n",
    "anbnd = defaultdict(lambda: 0)\n",
    "for i in anbnll:\n",
    "    anbnd[i] += 1\n",
    "\n",
    "plt.bar(anbnd.keys(), anbnd.values())"
   ]
  },
  {
   "cell_type": "code",
   "execution_count": null,
   "metadata": {},
   "outputs": [],
   "source": []
  }
 ],
 "metadata": {
  "kernelspec": {
   "display_name": "Python 3",
   "language": "python",
   "name": "python3"
  },
  "language_info": {
   "codemirror_mode": {
    "name": "ipython",
    "version": 3
   },
   "file_extension": ".py",
   "mimetype": "text/x-python",
   "name": "python",
   "nbconvert_exporter": "python",
   "pygments_lexer": "ipython3",
   "version": "3.7.3"
  }
 },
 "nbformat": 4,
 "nbformat_minor": 2
}
