{
 "cells": [
  {
   "cell_type": "code",
   "execution_count": 8,
   "metadata": {},
   "outputs": [],
   "source": [
    "import sys\n",
    "\n",
    "import pandas as pd\n",
    "\n",
    "import random"
   ]
  },
  {
   "cell_type": "code",
   "execution_count": 4,
   "metadata": {},
   "outputs": [],
   "source": [
    "def predict(feature, padding):\n",
    "    d = {'a': 2, 'b': 4, 'c': 8, 'e': 1}\n",
    "    length = len(feature)\n",
    "    shex = hex(d['a'] + d['e'])\n",
    "    ahex = hex(d['a'] + d['b'])\n",
    "    bhex = [hex(d['b']), hex(d['c'])]\n",
    "    chex = [hex(d['c']), hex(d['e'])]\n",
    "    ehex = hex(d['e'])\n",
    "    label = ''\n",
    "    for i, c in enumerate(feature):\n",
    "        twothird = 2 * len(feature) // 3\n",
    "        if c == 'a':\n",
    "            label += ahex\n",
    "        elif c == 'b':\n",
    "            if i == twothird-1:\n",
    "                label += bhex[1]\n",
    "            else:\n",
    "                label += bhex[0]\n",
    "        else:\n",
    "            if i == length-1:\n",
    "                label += chex[1]\n",
    "            else:\n",
    "                label += chex[0]\n",
    "    label = shex + label + ehex + ehex*(padding-length-2)\n",
    "    fea = 's' + feature + 'e' + 'e'*(padding-length-2)\n",
    "    return fea, label\n",
    "\n",
    "def positive(minlen, maxlen):\n",
    "    rmin = (minlen - 2 )//3\n",
    "    rmax = (maxlen - 2 )//3\n",
    "    r = random.randint(rmin+1, rmax)\n",
    "    return 'a'*r + 'b'*r + 'c'*r\n",
    "\n",
    "def generate(count, minlen, maxlen):\n",
    "    li = list()\n",
    "    c = 0\n",
    "    while c < count:\n",
    "        s = positive(minlen, maxlen)\n",
    "        sp, pp = predict(s, maxlen)\n",
    "        li.append((sp, pp))\n",
    "        c += 1\n",
    "    return li"
   ]
  },
  {
   "cell_type": "markdown",
   "metadata": {},
   "source": [
    "## generate train"
   ]
  },
  {
   "cell_type": "code",
   "execution_count": 12,
   "metadata": {},
   "outputs": [],
   "source": [
    "\n",
    "l = generate(20000, 0, 32)\n",
    "\n",
    "df = pd.DataFrame(l)\n",
    "\n",
    "df.to_csv('anbncn_train', header=None, index=None)"
   ]
  },
  {
   "cell_type": "markdown",
   "metadata": {},
   "source": [
    "## generate test1"
   ]
  },
  {
   "cell_type": "code",
   "execution_count": 13,
   "metadata": {},
   "outputs": [],
   "source": [
    "l = generate(1000, 0, 32)\n",
    "\n",
    "df = pd.DataFrame(l)\n",
    "\n",
    "df.to_csv('anbncn_test1', header=None, index=None)"
   ]
  },
  {
   "cell_type": "markdown",
   "metadata": {},
   "source": [
    "## generate test2"
   ]
  },
  {
   "cell_type": "code",
   "execution_count": 14,
   "metadata": {},
   "outputs": [],
   "source": [
    "l = generate(1000, 32, 64)\n",
    "\n",
    "df = pd.DataFrame(l)\n",
    "\n",
    "df.to_csv('anbncn_test2', header=None, index=None)"
   ]
  },
  {
   "cell_type": "markdown",
   "metadata": {},
   "source": [
    "## generate test3"
   ]
  },
  {
   "cell_type": "code",
   "execution_count": 15,
   "metadata": {},
   "outputs": [],
   "source": [
    "l = generate(1000, 64, 128)\n",
    "\n",
    "df = pd.DataFrame(l)\n",
    "\n",
    "df.to_csv('anbncn_test3', header=None, index=None)"
   ]
  },
  {
   "cell_type": "markdown",
   "metadata": {},
   "source": [
    "## generate test4"
   ]
  },
  {
   "cell_type": "code",
   "execution_count": 16,
   "metadata": {},
   "outputs": [],
   "source": [
    "l = generate(1000, 128, 256)\n",
    "\n",
    "df = pd.DataFrame(l)\n",
    "\n",
    "df.to_csv('anbncn_test4', header=None, index=None)"
   ]
  },
  {
   "cell_type": "markdown",
   "metadata": {},
   "source": [
    "## generate test5"
   ]
  },
  {
   "cell_type": "code",
   "execution_count": 17,
   "metadata": {},
   "outputs": [],
   "source": [
    "l = generate(1000, 256, 512)\n",
    "\n",
    "df = pd.DataFrame(l)\n",
    "\n",
    "df.to_csv('anbncn_test5', header=None, index=None)"
   ]
  },
  {
   "cell_type": "code",
   "execution_count": null,
   "metadata": {},
   "outputs": [],
   "source": []
  }
 ],
 "metadata": {
  "kernelspec": {
   "display_name": "Python 3",
   "language": "python",
   "name": "python3"
  },
  "language_info": {
   "codemirror_mode": {
    "name": "ipython",
    "version": 3
   },
   "file_extension": ".py",
   "mimetype": "text/x-python",
   "name": "python",
   "nbconvert_exporter": "python",
   "pygments_lexer": "ipython3",
   "version": "3.7.0"
  }
 },
 "nbformat": 4,
 "nbformat_minor": 2
}
