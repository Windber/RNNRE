{
 "cells": [
  {
   "cell_type": "code",
   "execution_count": 12,
   "metadata": {},
   "outputs": [],
   "source": [
    "import sys\n",
    "\n",
    "import pandas as pd\n",
    "\n",
    "import random"
   ]
  },
  {
   "cell_type": "code",
   "execution_count": 13,
   "metadata": {},
   "outputs": [],
   "source": [
    "def predict(feature, padding):\n",
    "    d = {'a': 2, 'b': 4, 'c': 8, 'e': 1}\n",
    "    length = len(feature)\n",
    "    shex = hex(d['a'] + d['e'])\n",
    "    ahex = hex(d['a'] + d['b'])\n",
    "    bhex = [hex(d['b']), hex(d['c'])]\n",
    "    chex = [hex(d['c']), hex(d['e'])]\n",
    "    ehex = hex(d['e'])\n",
    "    label = ''\n",
    "    for i, c in enumerate(feature):\n",
    "        twothird = 2 * len(feature) // 3\n",
    "        if c == 'a':\n",
    "            label += ahex\n",
    "        elif c == 'b':\n",
    "            if i == twothird-1:\n",
    "                label += bhex[1]\n",
    "            else:\n",
    "                label += bhex[0]\n",
    "        else:\n",
    "            if i == length-1:\n",
    "                label += chex[1]\n",
    "            else:\n",
    "                label += chex[0]\n",
    "    label = shex + label + ehex + ehex*(padding-length-2)\n",
    "    fea = 's' + feature + 'e' + 'e'*(padding-length-2)\n",
    "    return fea, label\n",
    "\n",
    "def positive(minlen, maxlen):\n",
    "    rmin = (minlen - 2 )//3\n",
    "    rmax = (maxlen - 2 )//3\n",
    "    r = random.randint(rmin+1, rmax)\n",
    "    return 'a'*r + 'b'*r + 'c'*r\n",
    "\n",
    "def generate(count, minlen, maxlen):\n",
    "    li = list()\n",
    "    c = 0\n",
    "    while c < count:\n",
    "        s = positive(minlen, maxlen)\n",
    "        sp, pp = predict(s, maxlen)\n",
    "        li.append((sp, pp))\n",
    "        c += 1\n",
    "    return li"
   ]
  },
  {
   "cell_type": "markdown",
   "metadata": {},
   "source": [
    "## generate train"
   ]
  },
  {
   "cell_type": "code",
   "execution_count": 12,
   "metadata": {},
   "outputs": [],
   "source": [
    "\n",
    "l = generate(20000, 0, 32)\n",
    "\n",
    "df = pd.DataFrame(l)\n",
    "\n",
    "df.to_csv('anbncn_train', header=None, index=None)"
   ]
  },
  {
   "cell_type": "code",
   "execution_count": 1,
   "metadata": {},
   "outputs": [],
   "source": [
    "# generate train special"
   ]
  },
  {
   "cell_type": "code",
   "execution_count": 2,
   "metadata": {},
   "outputs": [],
   "source": [
    "ehex = hex(1)"
   ]
  },
  {
   "cell_type": "code",
   "execution_count": 4,
   "metadata": {},
   "outputs": [],
   "source": [
    "df = pd.read_csv('anbncn_train', header=None, index_col=None)\n"
   ]
  },
  {
   "cell_type": "code",
   "execution_count": 5,
   "metadata": {},
   "outputs": [],
   "source": [
    "l = df.values.tolist()"
   ]
  },
  {
   "cell_type": "code",
   "execution_count": 7,
   "metadata": {},
   "outputs": [],
   "source": [
    "ll = list()\n",
    "for f, t in l:\n",
    "    if len(f) == 32:\n",
    "        f = f + 'e'*32\n",
    "        t = t + ehex * 32\n",
    "        ll.append([f, t])\n",
    "    else:\n",
    "        ll.append([f, t])\n"
   ]
  },
  {
   "cell_type": "code",
   "execution_count": 8,
   "metadata": {},
   "outputs": [
    {
     "data": {
      "text/plain": [
       "0"
      ]
     },
     "execution_count": 8,
     "metadata": {},
     "output_type": "execute_result"
    }
   ],
   "source": [
    "count = 0\n",
    "for f, t in ll:\n",
    "    if len(f) != 64:\n",
    "        count = count + 1\n",
    "count"
   ]
  },
  {
   "cell_type": "code",
   "execution_count": 9,
   "metadata": {},
   "outputs": [],
   "source": [
    "df = pd.DataFrame(ll)\n",
    "df.to_csv('anbncn_train', header=None, index=None)"
   ]
  },
  {
   "cell_type": "markdown",
   "metadata": {},
   "source": [
    "## generate test1"
   ]
  },
  {
   "cell_type": "code",
   "execution_count": 13,
   "metadata": {},
   "outputs": [],
   "source": [
    "l = generate(1000, 0, 32)\n",
    "\n",
    "df = pd.DataFrame(l)\n",
    "\n",
    "df.to_csv('anbncn_test1', header=None, index=None)"
   ]
  },
  {
   "cell_type": "markdown",
   "metadata": {},
   "source": [
    "## generate test2"
   ]
  },
  {
   "cell_type": "code",
   "execution_count": 14,
   "metadata": {},
   "outputs": [],
   "source": [
    "l = generate(1000, 32, 64)\n",
    "\n",
    "df = pd.DataFrame(l)\n",
    "\n"
   ]
  },
  {
   "cell_type": "code",
   "execution_count": 15,
   "metadata": {},
   "outputs": [],
   "source": [
    "df.to_csv('anbncn_test2', header=None, index=None)"
   ]
  },
  {
   "cell_type": "markdown",
   "metadata": {},
   "source": [
    "## generate test3"
   ]
  },
  {
   "cell_type": "code",
   "execution_count": 15,
   "metadata": {},
   "outputs": [],
   "source": [
    "l = generate(1000, 64, 128)\n",
    "\n",
    "df = pd.DataFrame(l)\n",
    "\n",
    "df.to_csv('anbncn_test3', header=None, index=None)"
   ]
  },
  {
   "cell_type": "markdown",
   "metadata": {},
   "source": [
    "## generate test4"
   ]
  },
  {
   "cell_type": "code",
   "execution_count": 16,
   "metadata": {},
   "outputs": [],
   "source": [
    "l = generate(1000, 128, 256)\n",
    "\n",
    "df = pd.DataFrame(l)\n",
    "\n",
    "df.to_csv('anbncn_test4', header=None, index=None)"
   ]
  },
  {
   "cell_type": "markdown",
   "metadata": {},
   "source": [
    "## generate test5"
   ]
  },
  {
   "cell_type": "code",
   "execution_count": 17,
   "metadata": {},
   "outputs": [],
   "source": [
    "l = generate(1000, 256, 512)\n",
    "\n",
    "df = pd.DataFrame(l)\n",
    "\n",
    "df.to_csv('anbncn_test5', header=None, index=None)"
   ]
  },
  {
   "cell_type": "code",
   "execution_count": 13,
   "metadata": {},
   "outputs": [
    {
     "data": {
      "text/plain": [
       "<BarContainer object of 10 artists>"
      ]
     },
     "execution_count": 13,
     "metadata": {},
     "output_type": "execute_result"
    },
    {
     "data": {
      "image/png": "[encoded data removed]",
      "text/plain": [
       "<Figure size 432x288 with 1 Axes>"
      ]
     },
     "metadata": {
      "needs_background": "light"
     },
     "output_type": "display_data"
    }
   ],
   "source": [
    "import pandas as pd\n",
    "\n",
    "import matplotlib.pyplot as plt\n",
    "\n",
    "# check length\n",
    "\n",
    "anbncn = pd.read_csv('anbncn_test2', header=None, index_col=None)\n",
    "\n",
    "anbncnl = anbncn.values.tolist()\n",
    "\n",
    "anbncnll = list(map(lambda x: len(x[0][x[0].find('s')+1: x[0].find('e')]), anbncnl))\n",
    "\n",
    "from collections import defaultdict\n",
    "anbncnd = defaultdict(lambda: 0)\n",
    "for i in anbncnll:\n",
    "    anbncnd[i] += 1\n",
    "\n",
    "plt.bar(anbncnd.keys(), anbncnd.values())"
   ]
  },
  {
   "cell_type": "code",
   "execution_count": null,
   "metadata": {},
   "outputs": [],
   "source": []
  }
 ],
 "metadata": {
  "kernelspec": {
   "display_name": "Python 3",
   "language": "python",
   "name": "python3"
  },
  "language_info": {
   "codemirror_mode": {
    "name": "ipython",
    "version": 3
   },
   "file_extension": ".py",
   "mimetype": "text/x-python",
   "name": "python",
   "nbconvert_exporter": "python",
   "pygments_lexer": "ipython3",
   "version": "3.7.3"
  }
 },
 "nbformat": 4,
 "nbformat_minor": 2
}
