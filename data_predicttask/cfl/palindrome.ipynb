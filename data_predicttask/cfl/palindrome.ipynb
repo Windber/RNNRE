{
 "cells": [
  {
   "cell_type": "code",
   "execution_count": 3,
   "metadata": {},
   "outputs": [],
   "source": [
    "import pandas as pd\n",
    "\n",
    "import numpy as np"
   ]
  },
  {
   "cell_type": "code",
   "execution_count": 5,
   "metadata": {},
   "outputs": [],
   "source": [
    "df = pd.read_csv('palindrome_test1', header=None, index_col=None)\n",
    "\n",
    "serieslen = [len(i[i.find('s')+1: i.find('e')]) for i in df[0]]\n",
    "\n",
    "df[2] = serieslen\n",
    "\n",
    "dfg = df.groupby(2).groups"
   ]
  },
  {
   "cell_type": "code",
   "execution_count": 11,
   "metadata": {},
   "outputs": [],
   "source": [
    "chunk = 20000 // 14 + 1\n",
    "\n",
    "l = list()\n",
    "for k in dfg.keys():\n",
    "    klen = len(dfg[k])\n",
    "    if klen < chunk:\n",
    "        candidate = list(dfg[k]) * (chunk // klen + 1)\n",
    "        candidate = candidate[:chunk]\n",
    "        for i in candidate:\n",
    "            l.append(tuple(df.iloc[i, [0,1]].values.tolist()))\n",
    "    else:\n",
    "        candidate = np.random.permutation(range(klen))[:chunk]\n",
    "        for i in candidate:\n",
    "            l.append(tuple(df.iloc[dfg[k][i], [0,1]].values.tolist()))\n",
    "        \n",
    "\n",
    "traindf = pd.DataFrame(l).sample(20000)"
   ]
  },
  {
   "cell_type": "code",
   "execution_count": 12,
   "metadata": {},
   "outputs": [],
   "source": [
    "traindf.to_csv('palindrome_train', header=None, index=None)\n",
    "\n",
    "\n",
    "both = df[[0, 1]].values.tolist()\n",
    "\n",
    "both = [(a, b) for a, b in both]\n",
    "\n",
    "count = 0\n",
    "testl = list()\n",
    "for i in both:\n",
    "    if i not in l:\n",
    "        testl.append(i)\n",
    "    count += 1\n",
    "\n",
    "\n",
    "testdf = pd.DataFrame(testl).sample(1000)\n",
    "testdf.to_csv('palindrome__test1', header=None, index=None)"
   ]
  },
  {
   "cell_type": "code",
   "execution_count": 2,
   "metadata": {},
   "outputs": [],
   "source": [
    "\n",
    "\n",
    "df = df.reindex(np.random.permutation(df.index))\n",
    "\n",
    "train = df[:20000]\n",
    "\n",
    "test1 = df[20000: 21000]\n",
    "\n",
    "train.to_csv('dyck2_train', header=None, index=None)\n",
    "\n",
    "test1.to_csv('dyck2_test1', header=None, index=None)"
   ]
  },
  {
   "cell_type": "code",
   "execution_count": 13,
   "metadata": {},
   "outputs": [],
   "source": [
    "for i in range(2, 6):\n",
    "    df = pd.read_csv('./palindrome_test'+str(i), header=None, index_col=None)\n",
    "\n",
    "    df = df.reindex(np.random.permutation(df.index))\n",
    "    df = df[:1000]\n",
    "    df.to_csv('palindrome__test'+str(i), header=None, index=None)\n"
   ]
  },
  {
   "cell_type": "code",
   "execution_count": null,
   "metadata": {},
   "outputs": [],
   "source": [
    "import pandas as pd\n",
    "\n",
    "import matplotlib.pyplot as plt\n",
    "\n",
    "# check length\n",
    "\n",
    "dyck1 = pd.read_csv('dyck1_train', header=None, index_col=None)\n",
    "\n",
    "dyck1l = dyck1.values.tolist()\n",
    "\n",
    "dyck1ll = list(map(lambda x: len(x[0][x[0].find('s')+1: x[0].find('e')]), dyck1l))\n",
    "\n",
    "from collections import defaultdict\n",
    "dyck1d = defaultdict(lambda: 0)\n",
    "for i in dyck1ll:\n",
    "    dyck1d[i] += 1\n",
    "\n",
    "plt.bar(dyck1d.keys(), dyck1d.values())"
   ]
  },
  {
   "cell_type": "code",
   "execution_count": 2,
   "metadata": {},
   "outputs": [
    {
     "data": {
      "text/plain": [
       "<BarContainer object of 14 artists>"
      ]
     },
     "execution_count": 2,
     "metadata": {},
     "output_type": "execute_result"
    },
    {
     "data": {
      "image/png": "[encoded data removed]",
      "text/plain": [
       "<Figure size 432x288 with 1 Axes>"
      ]
     },
     "metadata": {
      "needs_background": "light"
     },
     "output_type": "display_data"
    }
   ],
   "source": [
    "import pandas as pd\n",
    "\n",
    "import matplotlib.pyplot as plt\n",
    "\n",
    "# check length\n",
    "\n",
    "dyck2 = pd.read_csv('palindrome_test1', header=None, index_col=None)\n",
    "\n",
    "dyck2l = dyck2.values.tolist()\n",
    "\n",
    "dyck2ll = list(map(lambda x: len(x[0][x[0].find('s')+1: x[0].find('e')]), dyck2l))\n",
    "\n",
    "from collections import defaultdict\n",
    "dyck2d = defaultdict(lambda: 0)\n",
    "for i in dyck2ll:\n",
    "    dyck2d[i] += 1\n",
    "\n",
    "plt.bar(dyck2d.keys(), dyck2d.values())"
   ]
  },
  {
   "cell_type": "code",
   "execution_count": 57,
   "metadata": {},
   "outputs": [
    {
     "data": {
      "text/plain": [
       "Int64Index([4455, 13515], dtype='int64')"
      ]
     },
     "execution_count": 57,
     "metadata": {},
     "output_type": "execute_result"
    }
   ],
   "source": [
    "dfg[2]"
   ]
  },
  {
   "cell_type": "code",
   "execution_count": 61,
   "metadata": {},
   "outputs": [
    {
     "data": {
      "text/plain": [
       "0                     s[]eeeeeeeeeeeeeeeeeeeeeeeeeeeee\n",
       "1    0xb0x1a0xb0x10x10x10x10x10x10x10x10x10x10x10x1...\n",
       "2                                                    2\n",
       "3                                                    1\n",
       "Name: 13515, dtype: object"
      ]
     },
     "execution_count": 61,
     "metadata": {},
     "output_type": "execute_result"
    }
   ],
   "source": [
    "df.iloc[13515, :]"
   ]
  },
  {
   "cell_type": "code",
   "execution_count": null,
   "metadata": {},
   "outputs": [],
   "source": []
  }
 ],
 "metadata": {
  "kernelspec": {
   "display_name": "Python 3",
   "language": "python",
   "name": "python3"
  },
  "language_info": {
   "codemirror_mode": {
    "name": "ipython",
    "version": 3
   },
   "file_extension": ".py",
   "mimetype": "text/x-python",
   "name": "python",
   "nbconvert_exporter": "python",
   "pygments_lexer": "ipython3",
   "version": "3.7.3"
  }
 },
 "nbformat": 4,
 "nbformat_minor": 2
}
