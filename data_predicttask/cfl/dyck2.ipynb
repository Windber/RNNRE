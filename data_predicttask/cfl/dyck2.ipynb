{
 "cells": [
  {
   "cell_type": "code",
   "execution_count": 1,
   "metadata": {},
   "outputs": [],
   "source": [
    "import pandas as pd"
   ]
  },
  {
   "cell_type": "code",
   "execution_count": 4,
   "metadata": {},
   "outputs": [],
   "source": [
    "import numpy as np"
   ]
  },
  {
   "cell_type": "code",
   "execution_count": 3,
   "metadata": {},
   "outputs": [],
   "source": [
    "df = pd.read_csv('./dyck2__test1', header=None, index_col=None)\n",
    "\n",
    "df = df.reindex(np.random.permutation(df.index))\n",
    "\n",
    "train = df[:20000]\n",
    "\n",
    "test1 = df[20000: 21000]\n",
    "\n",
    "len(test1)\n",
    "\n",
    "train.to_csv('dyck2_train', header=None, index=None)\n",
    "\n",
    "test1.to_csv('dyck2_test1', header=None, index=None)"
   ]
  },
  {
   "cell_type": "code",
   "execution_count": 13,
   "metadata": {},
   "outputs": [],
   "source": [
    "df = pd.read_csv('./dyck2__test2', header=None, index_col=None)\n",
    "\n",
    "df = df.reindex(np.random.permutation(df.index))\n",
    "df = df[:800]\n",
    "train.to_csv('dyck2_test2', header=None, index=None)\n"
   ]
  },
  {
   "cell_type": "code",
   "execution_count": 14,
   "metadata": {},
   "outputs": [],
   "source": [
    "df = pd.read_csv('./dyck2__test3', header=None, index_col=None)\n",
    "\n",
    "df = df.reindex(np.random.permutation(df.index))\n",
    "df = df[:40]\n",
    "train.to_csv('dyck2_test3', header=None, index=None)\n"
   ]
  },
  {
   "cell_type": "code",
   "execution_count": null,
   "metadata": {},
   "outputs": [],
   "source": []
  }
 ],
 "metadata": {
  "kernelspec": {
   "display_name": "Python 3",
   "language": "python",
   "name": "python3"
  },
  "language_info": {
   "codemirror_mode": {
    "name": "ipython",
    "version": 3
   },
   "file_extension": ".py",
   "mimetype": "text/x-python",
   "name": "python",
   "nbconvert_exporter": "python",
   "pygments_lexer": "ipython3",
   "version": "3.7.1"
  }
 },
 "nbformat": 4,
 "nbformat_minor": 2
}
