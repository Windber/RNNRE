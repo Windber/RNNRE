{
 "cells": [
  {
   "cell_type": "code",
   "execution_count": 1,
   "metadata": {},
   "outputs": [],
   "source": [
    "import tensorflow as tf"
   ]
  },
  {
   "cell_type": "code",
   "execution_count": 3,
   "metadata": {},
   "outputs": [],
   "source": [
    "import pandas as pd\n",
    "\n",
    "import numpy as np"
   ]
  },
  {
   "cell_type": "code",
   "execution_count": 2,
   "metadata": {},
   "outputs": [],
   "source": [
    "tf.enable_eager_execution()"
   ]
  },
  {
   "cell_type": "code",
   "execution_count": null,
   "metadata": {},
   "outputs": [],
   "source": [
    "hidden_dim = 2\n",
    "output_dim = 2\n",
    "Tomita = 3\n",
    "thred = 0.05\n",
    "trpath = '/home/guo/code/test/RNNRE/data/tomita/T' + str(Tomita) + '_train'\n",
    "tepath_prefix = '/home/guo/code/test/RNNRE/data/tomita/T' + str(Tomita) + '_test'\n",
    "testn = 4\n",
    "inpalpha = {'s': 2, 'e': 3, '#': 3, '0': 0, '1': 1}\n",
    "labalpha = {'0': 0, '1': 1}\n",
    "ts = [32, 64, 128, 256]\n"
   ]
  },
  {
   "cell_type": "code",
   "execution_count": null,
   "metadata": {},
   "outputs": [],
   "source": [
    "train_df = pd.read_csv(trpath, dtype={1: str}, index_col=None, header=None)\n",
    "train_lx = train_df.iloc[:, 0].values.tolist()\n",
    "train_ly = train_df.iloc[:, 1].values.tolist()\n",
    "train_x = [list(map(lambda x: inpalpha[x], i)) for i in train_lx]\n",
    "train_y = [list(map(lambda x: labalpha[x], i)) for i in train_ly]\n",
    "trx_np = np.array(train_x)\n",
    "try_np = np.array(train_y)\n",
    "trx = tf.one_hot(trx_np, 4)\n",
    "trl = tf.one_hot(try_np, 2)\n",
    "\n",
    "tex_l = list()\n",
    "tel_l = list()\n",
    "for i in range(testn):\n",
    "    test_df = pd.read_csv(tepath_prefix + str(i+1), dtype={1: str}, index_col=None, header=None)\n",
    "    test_lx = test_df.iloc[:, 0].values.tolist()\n",
    "    test_ly = test_df.iloc[:, 1].values.tolist()\n",
    "    test_x = [list(map(lambda x: inpalpha[x], i)) for i in test_lx]\n",
    "    test_y = [list(map(lambda x: labalpha[x], i)) for i in test_ly]\n",
    "    tex_np = np.array(test_x)\n",
    "    tey_np = np.array(test_y)\n",
    "    tex = tf.one_hot(tex_np, 4)\n",
    "    tel = tf.one_hot(tey_np, 2)\n",
    "    tex_l.append(tex)\n",
    "    tel_l.append(tel)"
   ]
  }
 ],
 "metadata": {
  "kernelspec": {
   "display_name": "Python 3",
   "language": "python",
   "name": "python3"
  },
  "language_info": {
   "codemirror_mode": {
    "name": "ipython",
    "version": 3
   },
   "file_extension": ".py",
   "mimetype": "text/x-python",
   "name": "python",
   "nbconvert_exporter": "python",
   "pygments_lexer": "ipython3",
   "version": "3.6.4"
  }
 },
 "nbformat": 4,
 "nbformat_minor": 2
}
