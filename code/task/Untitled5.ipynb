{
 "cells": [
  {
   "cell_type": "code",
   "execution_count": 4,
   "metadata": {
    "collapsed": true
   },
   "outputs": [],
   "source": [
    "import h5py\n",
    "import matplotlib.pyplot as plt"
   ]
  },
  {
   "cell_type": "code",
   "execution_count": 5,
   "metadata": {
    "collapsed": true
   },
   "outputs": [],
   "source": [
    "f = h5py.File(\"../stackrnn/sdata/hotmap\")"
   ]
  },
  {
   "cell_type": "code",
   "execution_count": 6,
   "metadata": {
    "collapsed": true
   },
   "outputs": [],
   "source": [
    "data = f[\"batch0\"]"
   ]
  },
  {
   "cell_type": "code",
   "execution_count": 8,
   "metadata": {},
   "outputs": [],
   "source": [
    "sample = data[0]"
   ]
  },
  {
   "cell_type": "code",
   "execution_count": 9,
   "metadata": {
    "collapsed": true
   },
   "outputs": [
    {
     "data": {
      "text/plain": [
       "array([[  0.00000000e+00,   0.00000000e+00,   1.00000000e+00,\n",
       "          0.00000000e+00,   0.00000000e+00,   0.00000000e+00,\n",
       "          0.00000000e+00,   9.99998927e-01,  -9.97471511e-01,\n",
       "          9.99994636e-01,   9.99994636e-01,   1.60309166e-04,\n",
       "          9.52847242e-01,   1.00000000e+00,  -9.44254875e-01,\n",
       "         -1.00000000e+00,   9.99235511e-01,   4.24811333e-01,\n",
       "         -9.99999106e-01,  -9.99999940e-01],\n",
       "       [  0.00000000e+00,   0.00000000e+00,   0.00000000e+00,\n",
       "          0.00000000e+00,   1.00000000e+00,   0.00000000e+00,\n",
       "          0.00000000e+00,   1.00000000e+00,  -9.99999881e-01,\n",
       "          6.95161580e-04,   6.95161580e-04,   1.00000000e+00,\n",
       "         -9.51952696e-01,   3.82552892e-01,   6.97277129e-01,\n",
       "          1.00000000e+00,  -4.52034265e-01,  -9.99981999e-01,\n",
       "          1.00000000e+00,   1.85376108e-01],\n",
       "       [  0.00000000e+00,   0.00000000e+00,   0.00000000e+00,\n",
       "          0.00000000e+00,   1.00000000e+00,   0.00000000e+00,\n",
       "          0.00000000e+00,   9.99999762e-01,  -9.99999940e-01,\n",
       "          8.33197730e-04,   8.33197730e-04,   9.57345963e-01,\n",
       "         -9.35136497e-01,  -3.31119388e-01,   9.88233209e-01,\n",
       "          9.98875558e-01,   9.82294023e-01,   8.05886567e-01,\n",
       "          9.99982238e-01,   9.99868810e-01],\n",
       "       [  0.00000000e+00,   0.00000000e+00,   0.00000000e+00,\n",
       "          0.00000000e+00,   0.00000000e+00,   1.00000000e+00,\n",
       "          0.00000000e+00,   9.99996245e-01,  -9.99994993e-01,\n",
       "          3.32707819e-03,   3.32707819e-03,   5.01304328e-01,\n",
       "         -9.58687723e-01,  -3.43340158e-01,   9.11533117e-01,\n",
       "          9.90567923e-01,   8.71950746e-01,   9.93495464e-01,\n",
       "          9.91432309e-01,   9.84368265e-01],\n",
       "       [  0.00000000e+00,   0.00000000e+00,   0.00000000e+00,\n",
       "          0.00000000e+00,   1.00000000e+00,   0.00000000e+00,\n",
       "          0.00000000e+00,   9.99999821e-01,  -9.99999940e-01,\n",
       "          2.66004726e-03,   2.66004726e-03,   9.99549568e-01,\n",
       "         -5.16634524e-01,  -6.31378055e-01,   8.31533730e-01,\n",
       "          9.99349117e-01,   9.88735616e-01,   9.10984457e-01,\n",
       "          1.00000000e+00,   9.99609232e-01],\n",
       "       [  0.00000000e+00,   0.00000000e+00,   0.00000000e+00,\n",
       "          0.00000000e+00,   0.00000000e+00,   1.00000000e+00,\n",
       "          0.00000000e+00,   9.99997973e-01,  -9.99996781e-01,\n",
       "          5.84709086e-03,   5.84709086e-03,   9.91481066e-01,\n",
       "         -8.08553636e-01,  -6.26976907e-01,   2.62294412e-01,\n",
       "          9.97532725e-01,   9.46812451e-01,   9.98893619e-01,\n",
       "          9.99998748e-01,   9.63538587e-01],\n",
       "       [  0.00000000e+00,   0.00000000e+00,   0.00000000e+00,\n",
       "          0.00000000e+00,   0.00000000e+00,   1.00000000e+00,\n",
       "          1.00000000e+00,  -9.99467731e-01,   9.95476604e-01,\n",
       "          6.06930396e-03,   6.06930396e-03,   9.98475015e-01,\n",
       "         -7.07952917e-01,  -7.33132184e-01,  -1.26056626e-01,\n",
       "          9.98743892e-01,   9.67061043e-01,   9.99436200e-01,\n",
       "          9.99999940e-01,   9.57837224e-01],\n",
       "       [  1.00000000e+00,   0.00000000e+00,   0.00000000e+00,\n",
       "          0.00000000e+00,   0.00000000e+00,   0.00000000e+00,\n",
       "          0.00000000e+00,   9.99998152e-01,  -9.99995470e-01,\n",
       "          4.20714259e-01,   4.20714259e-01,   9.97156382e-01,\n",
       "          9.61919725e-01,  -4.47522998e-01,   1.77901521e-01,\n",
       "          2.57495373e-01,   3.81354958e-01,  -9.76560593e-01,\n",
       "          9.99817431e-01,   9.90160286e-01],\n",
       "       [  0.00000000e+00,   1.00000000e+00,   0.00000000e+00,\n",
       "          0.00000000e+00,   0.00000000e+00,   0.00000000e+00,\n",
       "          1.00000000e+00,  -9.99672234e-01,   9.97137129e-01,\n",
       "          2.26686266e-03,   2.26686266e-03,   9.99947071e-01,\n",
       "         -3.40645760e-01,  -5.56142032e-01,   7.68959463e-01,\n",
       "          9.99716520e-01,   9.96464789e-01,   9.39812362e-01,\n",
       "          1.00000000e+00,   9.99811411e-01],\n",
       "       [  0.00000000e+00,   0.00000000e+00,   0.00000000e+00,\n",
       "          1.00000000e+00,   0.00000000e+00,   0.00000000e+00,\n",
       "          1.00000000e+00,  -9.99979734e-01,   9.99323726e-01,\n",
       "          9.43451896e-02,   9.43451896e-02,   9.43403900e-01,\n",
       "          3.45032886e-02,   6.93693519e-01,   4.49554175e-01,\n",
       "          9.47368145e-01,   1.58991903e-01,  -9.06920552e-01,\n",
       "          7.97232687e-01,  -7.27321282e-02],\n",
       "       [  0.00000000e+00,   0.00000000e+00,   0.00000000e+00,\n",
       "          1.00000000e+00,   0.00000000e+00,   0.00000000e+00,\n",
       "          1.00000000e+00,  -9.99995172e-01,   9.99649107e-01,\n",
       "          1.08238697e-01,   1.08238697e-01,   9.11190689e-01,\n",
       "          1.20452262e-01,   9.65290129e-01,   1.55604720e-01,\n",
       "          9.33006465e-01,   5.34498274e-01,  -8.56865764e-01,\n",
       "         -1.06618755e-01,  -8.97599936e-01],\n",
       "       [  0.00000000e+00,   0.00000000e+00,   0.00000000e+00,\n",
       "          1.00000000e+00,   0.00000000e+00,   0.00000000e+00,\n",
       "          1.00000000e+00,  -9.99998033e-01,   9.99756038e-01,\n",
       "          1.41582504e-01,   1.41582504e-01,   8.07533324e-01,\n",
       "          2.16841936e-01,   9.91523802e-01,   1.11232743e-01,\n",
       "          7.86923409e-01,   8.09718728e-01,  -6.77327275e-01,\n",
       "         -7.62649775e-01,  -9.55016315e-01],\n",
       "       [  0.00000000e+00,   0.00000000e+00,   0.00000000e+00,\n",
       "          1.00000000e+00,   0.00000000e+00,   0.00000000e+00,\n",
       "          1.00000000e+00,  -9.99998927e-01,   9.99801874e-01,\n",
       "          1.38573706e-01,   1.38573706e-01,   7.62171805e-01,\n",
       "          2.12759793e-01,   9.96153831e-01,   1.21489011e-01,\n",
       "          6.77247405e-01,   9.22893941e-01,  -3.36201340e-01,\n",
       "         -7.91414440e-01,  -9.61378813e-01],\n",
       "       [  0.00000000e+00,   0.00000000e+00,   0.00000000e+00,\n",
       "          1.00000000e+00,   0.00000000e+00,   0.00000000e+00,\n",
       "          1.00000000e+00,  -9.99999285e-01,   9.99824405e-01,\n",
       "          1.30967230e-01,   1.30967230e-01,   7.63642192e-01,\n",
       "          3.60920072e-01,   9.97419834e-01,   4.05285507e-03,\n",
       "          6.62529647e-01,   9.48709130e-01,  -1.93391338e-01,\n",
       "         -8.25249016e-01,  -9.71326530e-01],\n",
       "       [  0.00000000e+00,   0.00000000e+00,   0.00000000e+00,\n",
       "          1.00000000e+00,   0.00000000e+00,   0.00000000e+00,\n",
       "          1.00000000e+00,  -9.99999464e-01,   9.99837935e-01,\n",
       "          1.28249526e-01,   1.28249526e-01,   7.56302238e-01,\n",
       "          4.01017964e-01,   9.98273849e-01,  -2.76286602e-02,\n",
       "          6.33911371e-01,   9.64200675e-01,  -8.20811838e-02,\n",
       "         -8.47321093e-01,  -9.76750016e-01],\n",
       "       [  0.00000000e+00,   0.00000000e+00,   0.00000000e+00,\n",
       "          1.00000000e+00,   0.00000000e+00,   0.00000000e+00,\n",
       "          1.00000000e+00,  -9.99999583e-01,   9.99846637e-01,\n",
       "          1.24828696e-01,   1.24828696e-01,   7.54952967e-01,\n",
       "          4.50110912e-01,   9.98700023e-01,  -6.99776411e-02,\n",
       "          6.22632563e-01,   9.72189367e-01,  -9.37619153e-03,\n",
       "         -8.63453031e-01,  -9.80569422e-01],\n",
       "       [  0.00000000e+00,   0.00000000e+00,   0.00000000e+00,\n",
       "          1.00000000e+00,   0.00000000e+00,   0.00000000e+00,\n",
       "          1.00000000e+00,  -9.99999702e-01,   9.99852657e-01,\n",
       "          1.21669360e-01,   1.21669360e-01,   7.53709733e-01,\n",
       "          4.80702996e-01,   9.98967111e-01,  -9.71080959e-02,\n",
       "          6.16208315e-01,   9.77257252e-01,   4.49784100e-02,\n",
       "         -8.74561310e-01,  -9.83080328e-01],\n",
       "       [  0.00000000e+00,   0.00000000e+00,   0.00000000e+00,\n",
       "          1.00000000e+00,   0.00000000e+00,   0.00000000e+00,\n",
       "          1.00000000e+00,  -9.99999702e-01,   9.99856889e-01,\n",
       "          1.18411675e-01,   1.18411675e-01,   7.53998995e-01,\n",
       "          5.06422400e-01,   9.99135196e-01,  -1.20855495e-01,\n",
       "          6.16616011e-01,   9.80492055e-01,   8.25482532e-02,\n",
       "         -8.82673442e-01,  -9.84887183e-01],\n",
       "       [  0.00000000e+00,   0.00000000e+00,   0.00000000e+00,\n",
       "          1.00000000e+00,   0.00000000e+00,   0.00000000e+00,\n",
       "          1.00000000e+00,  -9.99999762e-01,   9.99859989e-01,\n",
       "          1.15177229e-01,   1.15177229e-01,   7.54926443e-01,\n",
       "          5.25932431e-01,   9.99248862e-01,  -1.39384016e-01,\n",
       "          6.21169329e-01,   9.82699990e-01,   1.08981036e-01,\n",
       "         -8.88559818e-01,  -9.86197650e-01],\n",
       "       [  0.00000000e+00,   0.00000000e+00,   0.00000000e+00,\n",
       "          1.00000000e+00,   0.00000000e+00,   0.00000000e+00,\n",
       "          1.00000000e+00,  -9.99999821e-01,   9.99862134e-01,\n",
       "          1.11898214e-01,   1.11898214e-01,   7.56497860e-01,\n",
       "          5.41781843e-01,   9.99326825e-01,  -1.54887304e-01,\n",
       "          6.29283369e-01,   9.84237909e-01,   1.27185866e-01,\n",
       "         -8.92796457e-01,  -9.87167776e-01],\n",
       "       [  0.00000000e+00,   0.00000000e+00,   0.00000000e+00,\n",
       "          1.00000000e+00,   0.00000000e+00,   0.00000000e+00,\n",
       "          1.00000000e+00,  -9.99999821e-01,   9.99863625e-01,\n",
       "          1.08592756e-01,   1.08592756e-01,   7.58534431e-01,\n",
       "          5.54730892e-01,   9.99381304e-01,  -1.67909607e-01,\n",
       "          6.40017569e-01,   9.85330045e-01,   1.39332533e-01,\n",
       "         -8.95767927e-01,  -9.87891376e-01],\n",
       "       [  0.00000000e+00,   0.00000000e+00,   0.00000000e+00,\n",
       "          1.00000000e+00,   0.00000000e+00,   0.00000000e+00,\n",
       "          1.00000000e+00,  -9.99999821e-01,   9.99864519e-01,\n",
       "          1.05265714e-01,   1.05265714e-01,   7.60940611e-01,\n",
       "          5.65558612e-01,   9.99419212e-01,  -1.79105952e-01,\n",
       "          6.52704060e-01,   9.86109793e-01,   1.47012591e-01,\n",
       "         -8.97737443e-01,  -9.88430917e-01],\n",
       "       [  0.00000000e+00,   0.00000000e+00,   0.00000000e+00,\n",
       "          1.00000000e+00,   0.00000000e+00,   0.00000000e+00,\n",
       "          1.00000000e+00,  -9.99999821e-01,   9.99864936e-01,\n",
       "          1.02050141e-01,   1.02050141e-01,   7.63495624e-01,\n",
       "          5.74503362e-01,   9.99446392e-01,  -1.88576490e-01,\n",
       "          6.66095138e-01,   9.86679316e-01,   1.51455820e-01,\n",
       "         -8.99013460e-01,  -9.88840759e-01],\n",
       "       [  0.00000000e+00,   0.00000000e+00,   0.00000000e+00,\n",
       "          1.00000000e+00,   0.00000000e+00,   0.00000000e+00,\n",
       "          1.00000000e+00,  -9.99999881e-01,   9.99864817e-01,\n",
       "          1.01080030e-01,   1.01080030e-01,   7.63627172e-01,\n",
       "          5.76967657e-01,   9.99488294e-01,  -1.90581083e-01,\n",
       "          6.67707145e-01,   9.87383127e-01,   1.55224994e-01,\n",
       "         -9.01834488e-01,  -9.89350021e-01],\n",
       "       [  0.00000000e+00,   0.00000000e+00,   0.00000000e+00,\n",
       "          1.00000000e+00,   0.00000000e+00,   0.00000000e+00,\n",
       "          1.00000000e+00,  -9.99999881e-01,   9.99863982e-01,\n",
       "          9.97937471e-02,   9.97937471e-02,   7.62525380e-01,\n",
       "          5.78063309e-01,   9.99517977e-01,  -1.91451743e-01,\n",
       "          6.67357862e-01,   9.88108933e-01,   1.74521148e-01,\n",
       "         -9.02912319e-01,  -9.89591360e-01],\n",
       "       [  0.00000000e+00,   0.00000000e+00,   0.00000000e+00,\n",
       "          1.00000000e+00,   0.00000000e+00,   0.00000000e+00,\n",
       "          1.00000000e+00,  -9.99999881e-01,   9.99862373e-01,\n",
       "          9.87841189e-02,   9.87841189e-02,   7.61317670e-01,\n",
       "          5.79699337e-01,   9.99541938e-01,  -1.92973256e-01,\n",
       "          6.65856183e-01,   9.88733828e-01,   1.94266081e-01,\n",
       "         -9.03780043e-01,  -9.89783049e-01],\n",
       "       [  0.00000000e+00,   0.00000000e+00,   0.00000000e+00,\n",
       "          1.00000000e+00,   0.00000000e+00,   0.00000000e+00,\n",
       "          1.00000000e+00,  -9.99999881e-01,   9.99859989e-01,\n",
       "          9.76900682e-02,   9.76900682e-02,   7.59877205e-01,\n",
       "          5.80330431e-01,   9.99559760e-01,  -1.93559989e-01,\n",
       "          6.64397478e-01,   9.89282548e-01,   2.16437146e-01,\n",
       "         -9.03947055e-01,  -9.89870131e-01],\n",
       "       [  0.00000000e+00,   0.00000000e+00,   0.00000000e+00,\n",
       "          1.00000000e+00,   0.00000000e+00,   0.00000000e+00,\n",
       "          1.00000000e+00,  -9.99999881e-01,   9.99856770e-01,\n",
       "          9.66619402e-02,   9.66619402e-02,   7.58442819e-01,\n",
       "          5.80586493e-01,   9.99573648e-01,  -1.93813115e-01,\n",
       "          6.62988722e-01,   9.89749849e-01,   2.37887368e-01,\n",
       "         -9.03819978e-01,  -9.89909291e-01],\n",
       "       [  0.00000000e+00,   0.00000000e+00,   0.00000000e+00,\n",
       "          1.00000000e+00,   0.00000000e+00,   0.00000000e+00,\n",
       "          1.00000000e+00,  -9.99999881e-01,   9.99852657e-01,\n",
       "          9.56184939e-02,   9.56184939e-02,   7.56961524e-01,\n",
       "          5.80192983e-01,   9.99584019e-01,  -1.93449289e-01,\n",
       "          6.61810338e-01,   9.90154266e-01,   2.59373575e-01,\n",
       "         -9.03304696e-01,  -9.89891112e-01],\n",
       "       [  0.00000000e+00,   0.00000000e+00,   0.00000000e+00,\n",
       "          1.00000000e+00,   0.00000000e+00,   0.00000000e+00,\n",
       "          1.00000000e+00,  -9.99999881e-01,   9.99847651e-01,\n",
       "          9.45958123e-02,   9.45958123e-02,   7.55478799e-01,\n",
       "          5.79358101e-01,   9.99591589e-01,  -1.92671433e-01,\n",
       "          6.60805285e-01,   9.90503609e-01,   2.80313224e-01,\n",
       "         -9.02514815e-01,  -9.89831448e-01],\n",
       "       [  0.00000000e+00,   0.00000000e+00,   0.00000000e+00,\n",
       "          1.00000000e+00,   0.00000000e+00,   0.00000000e+00,\n",
       "          1.00000000e+00,  -9.99999881e-01,   9.99841630e-01,\n",
       "          9.35766622e-02,   9.35766622e-02,   7.53975093e-01,\n",
       "          5.78066528e-01,   9.99596834e-01,  -1.91463485e-01,\n",
       "          6.59972012e-01,   9.90808666e-01,   3.00971061e-01,\n",
       "         -9.01442528e-01,  -9.89730358e-01],\n",
       "       [  0.00000000e+00,   0.00000000e+00,   0.00000000e+00,\n",
       "          1.00000000e+00,   0.00000000e+00,   0.00000000e+00,\n",
       "          1.00000000e+00,  -9.99999881e-01,   9.99834538e-01,\n",
       "          9.25688297e-02,   9.25688297e-02,   7.52454877e-01,\n",
       "          5.76396406e-01,   9.99599993e-01,  -1.89903438e-01,\n",
       "          6.59269333e-01,   9.91076112e-01,   3.21285427e-01,\n",
       "         -9.00121927e-01,  -9.89592493e-01]])"
      ]
     },
     "execution_count": 9,
     "metadata": {},
     "output_type": "execute_result"
    }
   ],
   "source": [
    "sample"
   ]
  },
  {
   "cell_type": "code",
   "execution_count": 32,
   "metadata": {},
   "outputs": [
    {
     "ename": "TypeError",
     "evalue": "not all arguments converted during string formatting",
     "output_type": "error",
     "traceback": [
      "\u001b[1;31m---------------------------------------------------------------------------\u001b[0m",
      "\u001b[1;31mTypeError\u001b[0m                                 Traceback (most recent call last)",
      "\u001b[1;32m<ipython-input-32-85cde359612c>\u001b[0m in \u001b[0;36m<module>\u001b[1;34m()\u001b[0m\n\u001b[1;32m----> 1\u001b[1;33m \u001b[0mprint\u001b[0m\u001b[1;33m(\u001b[0m\u001b[1;34m\".#f\"\u001b[0m \u001b[1;33m%\u001b[0m \u001b[1;36m3.333\u001b[0m\u001b[1;33m)\u001b[0m\u001b[1;33m\u001b[0m\u001b[0m\n\u001b[0m",
      "\u001b[1;31mTypeError\u001b[0m: not all arguments converted during string formatting"
     ]
    }
   ],
   "source": [
    "print(\".#f\" % 3.333)"
   ]
  },
  {
   "cell_type": "code",
   "execution_count": 10,
   "metadata": {
    "collapsed": true
   },
   "outputs": [],
   "source": [
    "import seaborn"
   ]
  },
  {
   "cell_type": "code",
   "execution_count": 29,
   "metadata": {},
   "outputs": [
    {
     "ename": "ValueError",
     "evalue": "Format specifier missing precision",
     "output_type": "error",
     "traceback": [
      "\u001b[1;31m---------------------------------------------------------------------------\u001b[0m",
      "\u001b[1;31mValueError\u001b[0m                                Traceback (most recent call last)",
      "\u001b[1;32m<ipython-input-29-3187f3641b47>\u001b[0m in \u001b[0;36m<module>\u001b[1;34m()\u001b[0m\n\u001b[1;32m----> 1\u001b[1;33m \u001b[0mseaborn\u001b[0m\u001b[1;33m.\u001b[0m\u001b[0mheatmap\u001b[0m\u001b[1;33m(\u001b[0m\u001b[0msample\u001b[0m\u001b[1;33m,\u001b[0m \u001b[0mannot\u001b[0m\u001b[1;33m=\u001b[0m\u001b[1;32mTrue\u001b[0m\u001b[1;33m,\u001b[0m \u001b[0mfmt\u001b[0m\u001b[1;33m=\u001b[0m\u001b[1;34m\".#\"\u001b[0m\u001b[1;33m,\u001b[0m  \u001b[0mxticklabels\u001b[0m\u001b[1;33m=\u001b[0m\u001b[1;33m[\u001b[0m\u001b[1;34m\"x1\"\u001b[0m\u001b[1;33m]\u001b[0m \u001b[1;33m*\u001b[0m \u001b[1;36m20\u001b[0m\u001b[1;33m)\u001b[0m\u001b[1;33m\u001b[0m\u001b[0m\n\u001b[0m",
      "\u001b[1;32m~\\Anaconda3\\envs\\deeplearning\\lib\\site-packages\\seaborn\\matrix.py\u001b[0m in \u001b[0;36mheatmap\u001b[1;34m(data, vmin, vmax, cmap, center, robust, annot, fmt, annot_kws, linewidths, linecolor, cbar, cbar_kws, cbar_ax, square, xticklabels, yticklabels, mask, ax, **kwargs)\u001b[0m\n\u001b[0;32m    526\u001b[0m     \u001b[1;32mif\u001b[0m \u001b[0msquare\u001b[0m\u001b[1;33m:\u001b[0m\u001b[1;33m\u001b[0m\u001b[0m\n\u001b[0;32m    527\u001b[0m         \u001b[0max\u001b[0m\u001b[1;33m.\u001b[0m\u001b[0mset_aspect\u001b[0m\u001b[1;33m(\u001b[0m\u001b[1;34m\"equal\"\u001b[0m\u001b[1;33m)\u001b[0m\u001b[1;33m\u001b[0m\u001b[0m\n\u001b[1;32m--> 528\u001b[1;33m     \u001b[0mplotter\u001b[0m\u001b[1;33m.\u001b[0m\u001b[0mplot\u001b[0m\u001b[1;33m(\u001b[0m\u001b[0max\u001b[0m\u001b[1;33m,\u001b[0m \u001b[0mcbar_ax\u001b[0m\u001b[1;33m,\u001b[0m \u001b[0mkwargs\u001b[0m\u001b[1;33m)\u001b[0m\u001b[1;33m\u001b[0m\u001b[0m\n\u001b[0m\u001b[0;32m    529\u001b[0m     \u001b[1;32mreturn\u001b[0m \u001b[0max\u001b[0m\u001b[1;33m\u001b[0m\u001b[0m\n\u001b[0;32m    530\u001b[0m \u001b[1;33m\u001b[0m\u001b[0m\n",
      "\u001b[1;32m~\\Anaconda3\\envs\\deeplearning\\lib\\site-packages\\seaborn\\matrix.py\u001b[0m in \u001b[0;36mplot\u001b[1;34m(self, ax, cax, kws)\u001b[0m\n\u001b[0;32m    324\u001b[0m         \u001b[1;31m# Annotate the cells with the formatted values\u001b[0m\u001b[1;33m\u001b[0m\u001b[1;33m\u001b[0m\u001b[0m\n\u001b[0;32m    325\u001b[0m         \u001b[1;32mif\u001b[0m \u001b[0mself\u001b[0m\u001b[1;33m.\u001b[0m\u001b[0mannot\u001b[0m\u001b[1;33m:\u001b[0m\u001b[1;33m\u001b[0m\u001b[0m\n\u001b[1;32m--> 326\u001b[1;33m             \u001b[0mself\u001b[0m\u001b[1;33m.\u001b[0m\u001b[0m_annotate_heatmap\u001b[0m\u001b[1;33m(\u001b[0m\u001b[0max\u001b[0m\u001b[1;33m,\u001b[0m \u001b[0mmesh\u001b[0m\u001b[1;33m)\u001b[0m\u001b[1;33m\u001b[0m\u001b[0m\n\u001b[0m\u001b[0;32m    327\u001b[0m \u001b[1;33m\u001b[0m\u001b[0m\n\u001b[0;32m    328\u001b[0m         \u001b[1;31m# Invert the y axis to show the plot in matrix form\u001b[0m\u001b[1;33m\u001b[0m\u001b[1;33m\u001b[0m\u001b[0m\n",
      "\u001b[1;32m~\\Anaconda3\\envs\\deeplearning\\lib\\site-packages\\seaborn\\matrix.py\u001b[0m in \u001b[0;36m_annotate_heatmap\u001b[1;34m(self, ax, mesh)\u001b[0m\n\u001b[0;32m    242\u001b[0m                 \u001b[0ml\u001b[0m \u001b[1;33m=\u001b[0m \u001b[0mrelative_luminance\u001b[0m\u001b[1;33m(\u001b[0m\u001b[0mcolor\u001b[0m\u001b[1;33m)\u001b[0m\u001b[1;33m\u001b[0m\u001b[0m\n\u001b[0;32m    243\u001b[0m                 \u001b[0mtext_color\u001b[0m \u001b[1;33m=\u001b[0m \u001b[1;34m\".15\"\u001b[0m \u001b[1;32mif\u001b[0m \u001b[0ml\u001b[0m \u001b[1;33m>\u001b[0m \u001b[1;36m.408\u001b[0m \u001b[1;32melse\u001b[0m \u001b[1;34m\"w\"\u001b[0m\u001b[1;33m\u001b[0m\u001b[0m\n\u001b[1;32m--> 244\u001b[1;33m                 \u001b[0mannotation\u001b[0m \u001b[1;33m=\u001b[0m \u001b[1;33m(\u001b[0m\u001b[1;34m\"{:\"\u001b[0m \u001b[1;33m+\u001b[0m \u001b[0mself\u001b[0m\u001b[1;33m.\u001b[0m\u001b[0mfmt\u001b[0m \u001b[1;33m+\u001b[0m \u001b[1;34m\"}\"\u001b[0m\u001b[1;33m)\u001b[0m\u001b[1;33m.\u001b[0m\u001b[0mformat\u001b[0m\u001b[1;33m(\u001b[0m\u001b[0mval\u001b[0m\u001b[1;33m)\u001b[0m\u001b[1;33m\u001b[0m\u001b[0m\n\u001b[0m\u001b[0;32m    245\u001b[0m                 \u001b[0mtext_kwargs\u001b[0m \u001b[1;33m=\u001b[0m \u001b[0mdict\u001b[0m\u001b[1;33m(\u001b[0m\u001b[0mcolor\u001b[0m\u001b[1;33m=\u001b[0m\u001b[0mtext_color\u001b[0m\u001b[1;33m,\u001b[0m \u001b[0mha\u001b[0m\u001b[1;33m=\u001b[0m\u001b[1;34m\"center\"\u001b[0m\u001b[1;33m,\u001b[0m \u001b[0mva\u001b[0m\u001b[1;33m=\u001b[0m\u001b[1;34m\"center\"\u001b[0m\u001b[1;33m)\u001b[0m\u001b[1;33m\u001b[0m\u001b[0m\n\u001b[0;32m    246\u001b[0m                 \u001b[0mtext_kwargs\u001b[0m\u001b[1;33m.\u001b[0m\u001b[0mupdate\u001b[0m\u001b[1;33m(\u001b[0m\u001b[0mself\u001b[0m\u001b[1;33m.\u001b[0m\u001b[0mannot_kws\u001b[0m\u001b[1;33m)\u001b[0m\u001b[1;33m\u001b[0m\u001b[0m\n",
      "\u001b[1;31mValueError\u001b[0m: Format specifier missing precision"
     ]
    }
   ],
   "source": [
    "seaborn.heatmap(sample, annot=True, fmt=\".#\",  xticklabels=[\"x1\"] * 20)"
   ]
  },
  {
   "cell_type": "code",
   "execution_count": 30,
   "metadata": {},
   "outputs": [
    {
     "data": {
      "image/png": "[encoded data removed]",
      "text/plain": [
       "<matplotlib.figure.Figure at 0xf39bbe0>"
      ]
     },
     "metadata": {},
     "output_type": "display_data"
    }
   ],
   "source": [
    "plt.show()"
   ]
  },
  {
   "cell_type": "code",
   "execution_count": null,
   "metadata": {
    "collapsed": true
   },
   "outputs": [],
   "source": []
  }
 ],
 "metadata": {
  "kernelspec": {
   "display_name": "Python 3",
   "language": "python",
   "name": "python3"
  },
  "language_info": {
   "codemirror_mode": {
    "name": "ipython",
    "version": 3
   },
   "file_extension": ".py",
   "mimetype": "text/x-python",
   "name": "python",
   "nbconvert_exporter": "python",
   "pygments_lexer": "ipython3",
   "version": "3.6.2"
  }
 },
 "nbformat": 4,
 "nbformat_minor": 2
}
