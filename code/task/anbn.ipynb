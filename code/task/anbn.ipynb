{
 "cells": [
  {
   "cell_type": "code",
   "execution_count": 1,
   "metadata": {},
   "outputs": [],
   "source": [
    "import tensorflow as tf\n",
    "import tensorflow.keras as keras\n",
    "import numpy as np\n",
    "import pandas as pd\n",
    "import matplotlib.pyplot as plt"
   ]
  },
  {
   "cell_type": "code",
   "execution_count": 2,
   "metadata": {},
   "outputs": [],
   "source": [
    "tf.enable_eager_execution()"
   ]
  },
  {
   "cell_type": "code",
   "execution_count": 3,
   "metadata": {},
   "outputs": [],
   "source": [
    "UNITS = 3\n",
    "BATCH_SIZE = 64\n",
    "EPOCHS = 1"
   ]
  },
  {
   "cell_type": "code",
   "execution_count": 4,
   "metadata": {},
   "outputs": [],
   "source": [
    "class Preprocessed:\n",
    "    def __init__(self, orig):\n",
    "        f = list(orig.iloc[:, 0])\n",
    "        t = list(orig.iloc[:, 1])\n",
    "        fd = {'s': [0, 0, 1, 0], 'e': [0, 0, 0, 1], '0': [1, 0, 0, 0], '1': [0, 1, 0, 0]}\n",
    "        td = {'0': 0, '1': 1}\n",
    "        ff = [list(map(lambda x: fd[x], s)) for s in f]\n",
    "        tt = [list(map(lambda x: td[x], s)) for s in t]\n",
    "        self.features = np.array(ff, dtype=np.float)\n",
    "        self.targets = np.array(tt, dtype=np.float)"
   ]
  },
  {
   "cell_type": "code",
   "execution_count": 5,
   "metadata": {},
   "outputs": [],
   "source": [
    "pdtrain = pd.read_csv('../datasets/cfl_csl/train', header=None)\n",
    "prep = Preprocessed(pdtrain)"
   ]
  },
  {
   "cell_type": "code",
   "execution_count": 6,
   "metadata": {},
   "outputs": [],
   "source": [
    "pdtest0 = pd.read_csv('../datasets/cfl_csl/test_0', header=None)\n",
    "prep0 = Preprocessed(pdtest0)"
   ]
  },
  {
   "cell_type": "code",
   "execution_count": 7,
   "metadata": {},
   "outputs": [],
   "source": [
    "class AnBn(keras.Model):\n",
    "    def __init__(self):\n",
    "        super().__init__()\n",
    "        self.lstm = keras.layers.LSTM(UNITS,\n",
    "                                    recurrent_activation='sigmoid',\n",
    "                                    recurrent_initializer='glorot_uniform',\n",
    "                                    return_state=True,\n",
    "                                    return_sequences=True,\n",
    "                                    stateful=True,)\n",
    "        self.fc = keras.layers.Dense(2)\n",
    "    def call(self, onehotinputs):\n",
    "        h, *s = self.lstm(onehotinputs)\n",
    "        y = self.fc(h)\n",
    "        return y"
   ]
  },
  {
   "cell_type": "code",
   "execution_count": 8,
   "metadata": {},
   "outputs": [],
   "source": [
    "model = AnBn()"
   ]
  },
  {
   "cell_type": "code",
   "execution_count": 9,
   "metadata": {},
   "outputs": [],
   "source": [
    "optimizer = tf.train.AdamOptimizer()\n",
    "model.compile(optimizer=optimizer,\n",
    "              loss=tf.losses.softmax_cross_entropy,\n",
    "              metrics=['accuracy'],\n",
    "\n",
    "             )"
   ]
  },
  {
   "cell_type": "code",
   "execution_count": 10,
   "metadata": {},
   "outputs": [
    {
     "name": "stdout",
     "output_type": "stream",
     "text": [
      "Epoch 1/1\n",
      "\r",
      "1/1 [==============================] - 0s 158ms/step - loss: 0.6704 - acc: 0.6880\n"
     ]
    }
   ],
   "source": [
    "his = model.fit(prep.features[:BATCH_SIZE], keras.utils.to_categorical(prep.targets, num_classes=2)[:BATCH_SIZE], epochs=EPOCHS, batch_size=BATCH_SIZE)"
   ]
  },
  {
   "cell_type": "code",
   "execution_count": 11,
   "metadata": {},
   "outputs": [
    {
     "name": "stdout",
     "output_type": "stream",
     "text": [
      "Epoch 1/1\n",
      "125/125 [==============================] - 18s 143ms/step - loss: 0.6000 - acc: 0.7134\n",
      "Epoch 1/1\n",
      "125/125 [==============================] - 18s 142ms/step - loss: 0.5069 - acc: 0.7136\n",
      "Epoch 1/1\n",
      "125/125 [==============================] - 18s 143ms/step - loss: 0.4592 - acc: 0.7203\n",
      "Epoch 1/1\n",
      "125/125 [==============================] - 18s 142ms/step - loss: 0.4107 - acc: 0.7895\n",
      "Epoch 1/1\n",
      "125/125 [==============================] - 18s 142ms/step - loss: 0.3592 - acc: 0.8580\n",
      "Epoch 1/1\n",
      "125/125 [==============================] - 18s 142ms/step - loss: 0.3357 - acc: 0.8684\n",
      "Epoch 1/1\n",
      "125/125 [==============================] - 18s 142ms/step - loss: 0.3144 - acc: 0.8770\n",
      "Epoch 1/1\n",
      "125/125 [==============================] - 18s 142ms/step - loss: 0.3010 - acc: 0.8833\n",
      "Epoch 1/1\n",
      "125/125 [==============================] - 18s 143ms/step - loss: 0.2838 - acc: 0.8912\n",
      "Epoch 1/1\n",
      "125/125 [==============================] - 18s 142ms/step - loss: 0.2703 - acc: 0.8971\n",
      "Epoch 1/1\n",
      "125/125 [==============================] - 18s 142ms/step - loss: 0.2521 - acc: 0.9077\n",
      "Epoch 1/1\n",
      "125/125 [==============================] - 18s 144ms/step - loss: 0.2343 - acc: 0.9159\n",
      "Epoch 1/1\n",
      "125/125 [==============================] - 18s 143ms/step - loss: 0.2134 - acc: 0.9241\n",
      "Epoch 1/1\n",
      "125/125 [==============================] - 18s 142ms/step - loss: 0.1884 - acc: 0.9353\n",
      "Epoch 1/1\n",
      "125/125 [==============================] - 18s 143ms/step - loss: 0.1676 - acc: 0.9433\n",
      "Epoch 1/1\n",
      "125/125 [==============================] - 18s 142ms/step - loss: 0.1482 - acc: 0.9514\n",
      "Epoch 1/1\n",
      "125/125 [==============================] - 18s 142ms/step - loss: 0.1349 - acc: 0.9567\n",
      "Epoch 1/1\n",
      "125/125 [==============================] - 18s 142ms/step - loss: 0.1190 - acc: 0.9617\n",
      "Epoch 1/1\n",
      "125/125 [==============================] - 18s 142ms/step - loss: 0.1021 - acc: 0.9681\n",
      "Epoch 1/1\n",
      "125/125 [==============================] - 18s 141ms/step - loss: 0.0935 - acc: 0.9708\n",
      "Epoch 1/1\n",
      "125/125 [==============================] - 18s 141ms/step - loss: 0.0895 - acc: 0.9721\n",
      "Epoch 1/1\n",
      "125/125 [==============================] - 18s 142ms/step - loss: 0.0834 - acc: 0.9740\n",
      "Epoch 1/1\n",
      "125/125 [==============================] - 18s 143ms/step - loss: 0.0819 - acc: 0.9729\n",
      "Epoch 1/1\n",
      "125/125 [==============================] - 18s 143ms/step - loss: 0.0797 - acc: 0.9731\n",
      "Epoch 1/1\n",
      "125/125 [==============================] - 18s 142ms/step - loss: 0.0754 - acc: 0.9740\n",
      "Epoch 1/1\n",
      "125/125 [==============================] - 18s 142ms/step - loss: 0.0740 - acc: 0.9735\n",
      "Epoch 1/1\n",
      "125/125 [==============================] - 18s 142ms/step - loss: 0.0717 - acc: 0.9738\n",
      "Epoch 1/1\n",
      "125/125 [==============================] - 18s 142ms/step - loss: 0.0689 - acc: 0.9750\n",
      "Epoch 1/1\n",
      "125/125 [==============================] - 18s 142ms/step - loss: 0.0676 - acc: 0.9750\n",
      "Epoch 1/1\n",
      "125/125 [==============================] - 18s 143ms/step - loss: 0.0651 - acc: 0.9762\n",
      "Epoch 1/1\n",
      "125/125 [==============================] - 18s 142ms/step - loss: 0.0641 - acc: 0.9762\n",
      "Epoch 1/1\n",
      "125/125 [==============================] - 18s 142ms/step - loss: 0.0614 - acc: 0.9772\n",
      "Epoch 1/1\n",
      "125/125 [==============================] - 18s 142ms/step - loss: 0.0617 - acc: 0.9757\n",
      "Epoch 1/1\n",
      "125/125 [==============================] - 18s 142ms/step - loss: 0.0584 - acc: 0.9777\n",
      "Epoch 1/1\n",
      "125/125 [==============================] - 18s 142ms/step - loss: 0.0586 - acc: 0.9772\n",
      "Epoch 1/1\n",
      "125/125 [==============================] - 18s 143ms/step - loss: 0.0570 - acc: 0.9776\n",
      "Epoch 1/1\n",
      "125/125 [==============================] - 18s 142ms/step - loss: 0.0542 - acc: 0.9783\n",
      "Epoch 1/1\n",
      "125/125 [==============================] - 18s 142ms/step - loss: 0.0536 - acc: 0.9785\n",
      "Epoch 1/1\n",
      "125/125 [==============================] - 18s 141ms/step - loss: 0.0508 - acc: 0.9809\n",
      "Epoch 1/1\n",
      "125/125 [==============================] - 18s 142ms/step - loss: 0.0505 - acc: 0.9810\n",
      "Epoch 1/1\n",
      "125/125 [==============================] - 18s 142ms/step - loss: 0.0493 - acc: 0.9822\n",
      "Epoch 1/1\n",
      "125/125 [==============================] - 18s 143ms/step - loss: 0.0484 - acc: 0.9818\n",
      "Epoch 1/1\n",
      "125/125 [==============================] - 18s 142ms/step - loss: 0.0468 - acc: 0.9828\n",
      "Epoch 1/1\n",
      "125/125 [==============================] - 18s 142ms/step - loss: 0.0483 - acc: 0.9814\n",
      "Epoch 1/1\n",
      "125/125 [==============================] - 18s 142ms/step - loss: 0.0486 - acc: 0.9785\n",
      "Epoch 1/1\n",
      "125/125 [==============================] - 18s 142ms/step - loss: 0.0484 - acc: 0.9800\n",
      "Epoch 1/1\n",
      "125/125 [==============================] - 18s 142ms/step - loss: 0.0373 - acc: 0.9845\n",
      "Epoch 1/1\n",
      "125/125 [==============================] - 18s 142ms/step - loss: 0.0384 - acc: 0.9844\n",
      "Epoch 1/1\n",
      "125/125 [==============================] - 18s 142ms/step - loss: 0.0696 - acc: 0.9740\n",
      "Epoch 1/1\n",
      "125/125 [==============================] - 18s 143ms/step - loss: 0.0543 - acc: 0.9797\n",
      "Epoch 1/1\n",
      "125/125 [==============================] - 18s 141ms/step - loss: 0.0401 - acc: 0.9825\n",
      "Epoch 1/1\n",
      "125/125 [==============================] - 18s 142ms/step - loss: 0.0312 - acc: 0.9862\n",
      "Epoch 1/1\n",
      "125/125 [==============================] - 18s 142ms/step - loss: 0.0300 - acc: 0.9869\n",
      "Epoch 1/1\n",
      "125/125 [==============================] - 18s 142ms/step - loss: 0.0283 - acc: 0.9882\n",
      "Epoch 1/1\n",
      "125/125 [==============================] - 18s 142ms/step - loss: 0.0276 - acc: 0.9885\n",
      "Epoch 1/1\n",
      "125/125 [==============================] - 18s 141ms/step - loss: 0.0270 - acc: 0.9886\n",
      "Epoch 1/1\n",
      "125/125 [==============================] - 18s 142ms/step - loss: 0.0263 - acc: 0.9887\n",
      "Epoch 1/1\n",
      "125/125 [==============================] - 18s 142ms/step - loss: 0.0258 - acc: 0.9887\n",
      "Epoch 1/1\n",
      "125/125 [==============================] - 18s 142ms/step - loss: 0.0252 - acc: 0.9889\n",
      "Epoch 1/1\n",
      "125/125 [==============================] - 18s 142ms/step - loss: 0.0247 - acc: 0.9892\n",
      "Epoch 1/1\n",
      "125/125 [==============================] - 18s 142ms/step - loss: 0.0241 - acc: 0.9892\n",
      "Epoch 1/1\n",
      "125/125 [==============================] - 18s 142ms/step - loss: 0.0236 - acc: 0.9892\n",
      "Epoch 1/1\n",
      "125/125 [==============================] - 18s 143ms/step - loss: 0.0640 - acc: 0.9760\n",
      "Epoch 1/1\n",
      "125/125 [==============================] - 18s 142ms/step - loss: 0.0252 - acc: 0.9848\n",
      "Epoch 1/1\n",
      "125/125 [==============================] - 18s 142ms/step - loss: 0.0231 - acc: 0.9880\n",
      "Epoch 1/1\n",
      "125/125 [==============================] - 18s 142ms/step - loss: 0.0223 - acc: 0.9892\n",
      "Epoch 1/1\n",
      "125/125 [==============================] - 18s 142ms/step - loss: 0.0219 - acc: 0.9894\n",
      "Epoch 1/1\n",
      "125/125 [==============================] - 18s 143ms/step - loss: 0.0216 - acc: 0.9899\n",
      "Epoch 1/1\n",
      "125/125 [==============================] - 18s 142ms/step - loss: 0.0213 - acc: 0.9899\n",
      "Epoch 1/1\n",
      "125/125 [==============================] - 18s 143ms/step - loss: 0.0208 - acc: 0.9900\n",
      "Epoch 1/1\n",
      "125/125 [==============================] - 18s 142ms/step - loss: 0.0206 - acc: 0.9899\n",
      "Epoch 1/1\n",
      "125/125 [==============================] - 18s 143ms/step - loss: 0.0203 - acc: 0.9899\n",
      "Epoch 1/1\n",
      "125/125 [==============================] - 18s 142ms/step - loss: 0.0200 - acc: 0.9900\n",
      "Epoch 1/1\n",
      "125/125 [==============================] - 18s 142ms/step - loss: 0.0196 - acc: 0.9899\n",
      "Epoch 1/1\n",
      "125/125 [==============================] - 18s 142ms/step - loss: 0.0194 - acc: 0.9899\n",
      "Epoch 1/1\n",
      "125/125 [==============================] - 18s 142ms/step - loss: 0.0190 - acc: 0.9899\n",
      "Epoch 1/1\n",
      "125/125 [==============================] - 18s 142ms/step - loss: 0.0187 - acc: 0.9898\n",
      "Epoch 1/1\n",
      "125/125 [==============================] - 18s 142ms/step - loss: 0.0184 - acc: 0.9899\n",
      "Epoch 1/1\n",
      "125/125 [==============================] - 18s 142ms/step - loss: 0.0181 - acc: 0.9902\n",
      "Epoch 1/1\n",
      "125/125 [==============================] - 18s 143ms/step - loss: 0.0178 - acc: 0.9906\n",
      "Epoch 1/1\n",
      "125/125 [==============================] - 18s 142ms/step - loss: 0.0174 - acc: 0.9906\n",
      "Epoch 1/1\n",
      "125/125 [==============================] - 18s 142ms/step - loss: 0.0171 - acc: 0.9907\n",
      "Epoch 1/1\n",
      "125/125 [==============================] - 18s 142ms/step - loss: 0.0168 - acc: 0.9907\n",
      "Epoch 1/1\n",
      "125/125 [==============================] - 18s 143ms/step - loss: 0.0165 - acc: 0.9908\n",
      "Epoch 1/1\n"
     ]
    },
    {
     "name": "stdout",
     "output_type": "stream",
     "text": [
      "125/125 [==============================] - 18s 142ms/step - loss: 0.0160 - acc: 0.9915\n",
      "Epoch 1/1\n",
      "125/125 [==============================] - 18s 142ms/step - loss: 0.0157 - acc: 0.9924\n",
      "Epoch 1/1\n",
      "125/125 [==============================] - 18s 142ms/step - loss: 0.0155 - acc: 0.9928\n",
      "Epoch 1/1\n",
      "125/125 [==============================] - 18s 142ms/step - loss: 0.0151 - acc: 0.9936\n",
      "Epoch 1/1\n",
      "125/125 [==============================] - 18s 142ms/step - loss: 0.0148 - acc: 0.9941\n",
      "Epoch 1/1\n",
      "125/125 [==============================] - 18s 142ms/step - loss: 0.0144 - acc: 0.9948\n",
      "Epoch 1/1\n",
      "125/125 [==============================] - 18s 142ms/step - loss: 0.0141 - acc: 0.9954\n",
      "Epoch 1/1\n",
      "125/125 [==============================] - 18s 142ms/step - loss: 0.0137 - acc: 0.9960\n",
      "Epoch 1/1\n",
      "125/125 [==============================] - 18s 142ms/step - loss: 0.0135 - acc: 0.9962\n",
      "Epoch 1/1\n",
      "125/125 [==============================] - 18s 142ms/step - loss: 0.0132 - acc: 0.9966\n",
      "Epoch 1/1\n",
      "125/125 [==============================] - 18s 142ms/step - loss: 0.0129 - acc: 0.9968\n",
      "Epoch 1/1\n",
      "125/125 [==============================] - 18s 142ms/step - loss: 0.0125 - acc: 0.9971\n",
      "Epoch 1/1\n",
      "125/125 [==============================] - 18s 142ms/step - loss: 0.0122 - acc: 0.9975\n",
      "Epoch 1/1\n",
      "125/125 [==============================] - 18s 141ms/step - loss: 0.0119 - acc: 0.9980\n",
      "Epoch 1/1\n",
      "125/125 [==============================] - 18s 142ms/step - loss: 0.0124 - acc: 0.9978\n",
      "Epoch 1/1\n",
      "125/125 [==============================] - 18s 142ms/step - loss: 0.0113 - acc: 0.9985\n",
      "Epoch 1/1\n",
      "125/125 [==============================] - 18s 142ms/step - loss: 0.0110 - acc: 0.9985\n",
      "Epoch 1/1\n",
      "125/125 [==============================] - 18s 141ms/step - loss: 0.0108 - acc: 0.9986\n",
      "Epoch 1/1\n",
      "125/125 [==============================] - 18s 142ms/step - loss: 0.0105 - acc: 0.9987\n",
      "Epoch 1/1\n",
      "125/125 [==============================] - 18s 142ms/step - loss: 0.0104 - acc: 0.9988\n",
      "Epoch 1/1\n",
      "125/125 [==============================] - 18s 142ms/step - loss: 0.0100 - acc: 0.9989\n",
      "Epoch 1/1\n",
      "125/125 [==============================] - 18s 142ms/step - loss: 0.0098 - acc: 0.9988\n",
      "Epoch 1/1\n",
      "125/125 [==============================] - 18s 143ms/step - loss: 0.0094 - acc: 0.9989\n",
      "Epoch 1/1\n",
      "125/125 [==============================] - 18s 141ms/step - loss: 0.0092 - acc: 0.9990\n",
      "Epoch 1/1\n",
      "125/125 [==============================] - 18s 142ms/step - loss: 0.0090 - acc: 0.9990\n",
      "Epoch 1/1\n",
      "125/125 [==============================] - 18s 142ms/step - loss: 0.0091 - acc: 0.9988\n",
      "Epoch 1/1\n",
      "125/125 [==============================] - 18s 143ms/step - loss: 0.0084 - acc: 0.9990\n",
      "Epoch 1/1\n",
      "125/125 [==============================] - 18s 142ms/step - loss: 0.0084 - acc: 0.9991\n",
      "Epoch 1/1\n",
      "125/125 [==============================] - 18s 142ms/step - loss: 0.0081 - acc: 0.9991\n",
      "Epoch 1/1\n",
      "125/125 [==============================] - 18s 142ms/step - loss: 0.0077 - acc: 0.9991\n",
      "Epoch 1/1\n",
      "125/125 [==============================] - 18s 142ms/step - loss: 0.0075 - acc: 0.9991\n",
      "Epoch 1/1\n",
      "125/125 [==============================] - 18s 142ms/step - loss: 0.0073 - acc: 0.9991\n",
      "Epoch 1/1\n",
      "125/125 [==============================] - 18s 142ms/step - loss: 0.0072 - acc: 0.9991\n",
      "Epoch 1/1\n",
      "125/125 [==============================] - 18s 142ms/step - loss: 0.0080 - acc: 0.9988\n",
      "Epoch 1/1\n",
      "125/125 [==============================] - 18s 142ms/step - loss: 0.0081 - acc: 0.9987\n",
      "Epoch 1/1\n",
      "125/125 [==============================] - 18s 142ms/step - loss: 0.0065 - acc: 0.9992\n",
      "Epoch 1/1\n",
      "125/125 [==============================] - 18s 143ms/step - loss: 0.0063 - acc: 0.9992\n",
      "Epoch 1/1\n",
      "125/125 [==============================] - 18s 142ms/step - loss: 0.0062 - acc: 0.9993\n",
      "Epoch 1/1\n",
      "125/125 [==============================] - 18s 144ms/step - loss: 0.0060 - acc: 0.9993\n",
      "Epoch 1/1\n",
      "125/125 [==============================] - 18s 142ms/step - loss: 0.0058 - acc: 0.9993\n",
      "Epoch 1/1\n",
      "125/125 [==============================] - 18s 142ms/step - loss: 0.0057 - acc: 0.9993\n",
      "Epoch 1/1\n",
      "125/125 [==============================] - 18s 142ms/step - loss: 0.0054 - acc: 0.9993\n",
      "Epoch 1/1\n",
      "125/125 [==============================] - 18s 142ms/step - loss: 0.0053 - acc: 0.9993\n",
      "Epoch 1/1\n",
      "125/125 [==============================] - 18s 142ms/step - loss: 0.0052 - acc: 0.9993\n",
      "Epoch 1/1\n",
      "125/125 [==============================] - 18s 143ms/step - loss: 0.0049 - acc: 0.9994\n",
      "Epoch 1/1\n",
      "125/125 [==============================] - 18s 142ms/step - loss: 0.0049 - acc: 0.9994\n",
      "Epoch 1/1\n",
      "125/125 [==============================] - 18s 143ms/step - loss: 0.0065 - acc: 0.9989\n",
      "Epoch 1/1\n",
      "125/125 [==============================] - 18s 142ms/step - loss: 0.0045 - acc: 0.9994\n",
      "Epoch 1/1\n",
      "125/125 [==============================] - 18s 143ms/step - loss: 0.0043 - acc: 0.9994\n",
      "Epoch 1/1\n",
      "125/125 [==============================] - 18s 142ms/step - loss: 0.0042 - acc: 0.9994\n",
      "Epoch 1/1\n",
      "125/125 [==============================] - 18s 142ms/step - loss: 0.0041 - acc: 0.9994\n",
      "Epoch 1/1\n",
      "125/125 [==============================] - 18s 142ms/step - loss: 0.0039 - acc: 0.9994\n",
      "Epoch 1/1\n",
      "125/125 [==============================] - 18s 143ms/step - loss: 0.0038 - acc: 0.9994\n",
      "Epoch 1/1\n",
      "125/125 [==============================] - 18s 143ms/step - loss: 0.0036 - acc: 0.9995\n",
      "Epoch 1/1\n",
      "125/125 [==============================] - 18s 142ms/step - loss: 0.0035 - acc: 0.9996\n",
      "Epoch 1/1\n",
      "125/125 [==============================] - 18s 141ms/step - loss: 0.0034 - acc: 0.9996\n",
      "Epoch 1/1\n",
      "125/125 [==============================] - 18s 143ms/step - loss: 0.0032 - acc: 0.9996\n",
      "Epoch 1/1\n",
      "125/125 [==============================] - 18s 142ms/step - loss: 0.0430 - acc: 0.9952\n",
      "Epoch 1/1\n",
      "125/125 [==============================] - 18s 143ms/step - loss: 0.0061 - acc: 0.9992\n",
      "Epoch 1/1\n",
      "125/125 [==============================] - 18s 142ms/step - loss: 0.0043 - acc: 0.9993\n",
      "Epoch 1/1\n",
      "125/125 [==============================] - 18s 143ms/step - loss: 0.0042 - acc: 0.9994\n",
      "Epoch 1/1\n",
      "125/125 [==============================] - 18s 141ms/step - loss: 0.0040 - acc: 0.9995\n",
      "Epoch 1/1\n",
      "125/125 [==============================] - 18s 142ms/step - loss: 0.0039 - acc: 0.9995\n",
      "Epoch 1/1\n",
      "125/125 [==============================] - 18s 142ms/step - loss: 0.0037 - acc: 0.9995\n",
      "Epoch 1/1\n",
      "125/125 [==============================] - 18s 142ms/step - loss: 0.0036 - acc: 0.9996\n",
      "Epoch 1/1\n",
      "125/125 [==============================] - 18s 142ms/step - loss: 0.0035 - acc: 0.9996\n",
      "Epoch 1/1\n",
      "125/125 [==============================] - 18s 142ms/step - loss: 0.0034 - acc: 0.9996\n",
      "Epoch 1/1\n",
      "125/125 [==============================] - 18s 142ms/step - loss: 0.0033 - acc: 0.9996\n",
      "Epoch 1/1\n",
      "125/125 [==============================] - 18s 143ms/step - loss: 0.0033 - acc: 0.9996\n",
      "Epoch 1/1\n",
      "125/125 [==============================] - 18s 143ms/step - loss: 0.0032 - acc: 0.9997\n",
      "Epoch 1/1\n",
      "125/125 [==============================] - 18s 142ms/step - loss: 0.0031 - acc: 0.9997\n",
      "Epoch 1/1\n",
      "125/125 [==============================] - 18s 142ms/step - loss: 0.0030 - acc: 0.9997\n",
      "Epoch 1/1\n",
      "125/125 [==============================] - 18s 142ms/step - loss: 0.0030 - acc: 0.9998\n",
      "Epoch 1/1\n",
      "125/125 [==============================] - 18s 143ms/step - loss: 0.0029 - acc: 0.9998\n",
      "Epoch 1/1\n",
      "125/125 [==============================] - 18s 142ms/step - loss: 0.0028 - acc: 0.9998\n",
      "Epoch 1/1\n",
      "125/125 [==============================] - 18s 142ms/step - loss: 0.0028 - acc: 0.9999\n",
      "Epoch 1/1\n",
      "125/125 [==============================] - 18s 142ms/step - loss: 0.0027 - acc: 0.9998\n",
      "Epoch 1/1\n",
      "125/125 [==============================] - 18s 142ms/step - loss: 0.0027 - acc: 0.9999\n",
      "Epoch 1/1\n",
      "125/125 [==============================] - 18s 143ms/step - loss: 0.0026 - acc: 0.9999\n",
      "Epoch 1/1\n",
      "125/125 [==============================] - 18s 142ms/step - loss: 0.0026 - acc: 0.9999\n",
      "Epoch 1/1\n",
      "125/125 [==============================] - 18s 143ms/step - loss: 0.0025 - acc: 0.9999\n",
      "Epoch 1/1\n",
      "125/125 [==============================] - 18s 142ms/step - loss: 0.0024 - acc: 0.9999\n",
      "Epoch 1/1\n",
      "125/125 [==============================] - 18s 142ms/step - loss: 0.0024 - acc: 0.9999\n"
     ]
    }
   ],
   "source": [
    "while his.history['acc'][0] < 0.9999:\n",
    "    his = model.fit(prep.features, keras.utils.to_categorical(prep.targets, num_classes=2), epochs=EPOCHS, batch_size=BATCH_SIZE)"
   ]
  },
  {
   "cell_type": "code",
   "execution_count": 12,
   "metadata": {},
   "outputs": [
    {
     "data": {
      "text/plain": [
       "0.9999375"
      ]
     },
     "execution_count": 12,
     "metadata": {},
     "output_type": "execute_result"
    }
   ],
   "source": [
    "his.history['acc'][0]"
   ]
  },
  {
   "cell_type": "code",
   "execution_count": 13,
   "metadata": {},
   "outputs": [],
   "source": [
    "model.save_weights('./saved/weights_9999')\n",
    "rmodel = AnBn()\n",
    "rmodel.load_weights('./saved/weights_9999')\n",
    "rmodel.compile(optimizer=tf.train.AdamOptimizer(),\n",
    "              loss=tf.losses.softmax_cross_entropy,#'categorical_crossentropy',\n",
    "              metrics=['accuracy'],\n",
    "             )"
   ]
  },
  {
   "cell_type": "code",
   "execution_count": 25,
   "metadata": {},
   "outputs": [],
   "source": [
    "pdtest0 = pd.read_csv('../datasets/cfl_csl/test_abab', header=None)\n",
    "prep0 = Preprocessed(pdtest0)\n",
    "BATCH_SIZE = 1\n",
    "TIME_STEPS = 32\n",
    "rmodel.build((BATCH_SIZE, TIME_STEPS, 4))"
   ]
  },
  {
   "cell_type": "code",
   "execution_count": 26,
   "metadata": {},
   "outputs": [
    {
     "name": "stdout",
     "output_type": "stream",
     "text": [
      "\r",
      "1/1 [==============================] - 0s 72ms/step\n"
     ]
    },
    {
     "data": {
      "text/plain": [
       "[0.0020339875482022762, 1.0]"
      ]
     },
     "execution_count": 26,
     "metadata": {},
     "output_type": "execute_result"
    }
   ],
   "source": [
    "#rmodel.evaluate(prep0.features[:BATCH_SIZE], keras.utils.to_categorical(prep0.targets[:BATCH_SIZE], num_classes=2), batch_size=BATCH_SIZE)\n",
    "rmodel.evaluate(prep0.features, keras.utils.to_categorical(prep0.targets, num_classes=2), batch_size=BATCH_SIZE)"
   ]
  },
  {
   "cell_type": "code",
   "execution_count": 27,
   "metadata": {},
   "outputs": [],
   "source": [
    "model.save_weights('./saved/weights_9999')\n",
    "rmodel = AnBn()\n",
    "rmodel.load_weights('./saved/weights_9999')\n",
    "rmodel.compile(optimizer=tf.train.AdamOptimizer(),\n",
    "              loss=tf.losses.softmax_cross_entropy,#'categorical_crossentropy',\n",
    "              metrics=['accuracy'],\n",
    "             )\n",
    "pdtest0 = pd.read_csv('../datasets/cfl_csl/test_abab', header=None)\n",
    "prep0 = Preprocessed(pdtest0)\n",
    "BATCH_SIZE = 1\n",
    "TIME_STEPS = 1\n",
    "rmodel.build((BATCH_SIZE, TIME_STEPS, 4))\n",
    "\n"
   ]
  },
  {
   "cell_type": "code",
   "execution_count": 31,
   "metadata": {},
   "outputs": [],
   "source": [
    "C = []\n",
    "H = []\n",
    "si = 0\n",
    "f = prep0.features[si]\n",
    "t = prep0.targets[si]\n",
    "for i in f:\n",
    "    rmodel.predict(np.array([[i]]))\n",
    "    lstm = rmodel.get_layer(index=0)\n",
    "    H.append(lstm.states[0].numpy()[0])\n",
    "    C.append(lstm.states[1].numpy()[0])\n",
    "    "
   ]
  },
  {
   "cell_type": "code",
   "execution_count": 32,
   "metadata": {},
   "outputs": [],
   "source": [
    "Ca = np.array(C)\n",
    "Ha = np.array(H)\n",
    "s = pdtest0.iloc[si, 0]"
   ]
  },
  {
   "cell_type": "code",
   "execution_count": 34,
   "metadata": {},
   "outputs": [
    {
     "data": {
      "image/png": "[encoded data removed]",
      "text/plain": [
       "<matplotlib.figure.Figure at 0x7f4f001a4f60>"
      ]
     },
     "metadata": {},
     "output_type": "display_data"
    }
   ],
   "source": [
    "#plt.xlabel(list(pdtest0.iloc[0, 0]))\n",
    "#plt.xlabel(list(map(lambda x: str(x[0]) + ':' + x[1], enumerate(list(pdtest0.iloc[0, 0])))))\n",
    "plt.title('C for ' + s)\n",
    "for i in range(3):\n",
    "    plt.scatter(list(range(32)), Ca[:, i])\n"
   ]
  },
  {
   "cell_type": "code",
   "execution_count": 35,
   "metadata": {
    "scrolled": true
   },
   "outputs": [
    {
     "data": {
      "image/png": "[encoded data removed]",
      "text/plain": [
       "<matplotlib.figure.Figure at 0x7f4ee4789630>"
      ]
     },
     "metadata": {},
     "output_type": "display_data"
    }
   ],
   "source": [
    "plt.title('H for ' + s)\n",
    "for i in range(3):\n",
    "    plt.scatter(list(range(32)), Ha[:, i])"
   ]
  },
  {
   "cell_type": "code",
   "execution_count": 159,
   "metadata": {},
   "outputs": [
    {
     "data": {
      "text/plain": [
       "'s0000000011111111eeeeeeeeeeeeeee'"
      ]
     },
     "execution_count": 159,
     "metadata": {},
     "output_type": "execute_result"
    }
   ],
   "source": [
    "pdtest0.iloc[0, 0]"
   ]
  },
  {
   "cell_type": "code",
   "execution_count": null,
   "metadata": {},
   "outputs": [],
   "source": []
  }
 ],
 "metadata": {
  "kernelspec": {
   "display_name": "Python 3",
   "language": "python",
   "name": "python3"
  },
  "language_info": {
   "codemirror_mode": {
    "name": "ipython",
    "version": 3
   },
   "file_extension": ".py",
   "mimetype": "text/x-python",
   "name": "python",
   "nbconvert_exporter": "python",
   "pygments_lexer": "ipython3",
   "version": "3.6.4"
  }
 },
 "nbformat": 4,
 "nbformat_minor": 2
}
